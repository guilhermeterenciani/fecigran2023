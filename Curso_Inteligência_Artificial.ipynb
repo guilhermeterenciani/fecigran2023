{
  "nbformat": 4,
  "nbformat_minor": 0,
  "metadata": {
    "colab": {
      "provenance": [],
      "gpuType": "T4",
      "authorship_tag": "ABX9TyPk1TD+FGhUGgrAK8TiRUNn",
      "include_colab_link": true
    },
    "kernelspec": {
      "name": "python3",
      "display_name": "Python 3"
    },
    "language_info": {
      "name": "python"
    },
    "accelerator": "GPU"
  },
  "cells": [
    {
      "cell_type": "markdown",
      "metadata": {
        "id": "view-in-github",
        "colab_type": "text"
      },
      "source": [
        "<a href=\"https://colab.research.google.com/github/guilhermeterenciani/fecigran2023/blob/main/Curso_Intelig%C3%AAncia_Artificial.ipynb\" target=\"_parent\"><img src=\"https://colab.research.google.com/assets/colab-badge.svg\" alt=\"Open In Colab\"/></a>"
      ]
    },
    {
      "cell_type": "markdown",
      "source": [
        "# Regressão\n",
        "\n",
        "A tarefa de **regressão** consiste em predizer **valores** para determinados **objetos**. Vamos contextualizar de maneira operacional esses objetos e valores através de seus tipos de variáveis: em geral um valor é um número real <code>(float)</code> ou um inteiro <code>(int)</code>; já o objeto a ser regredido pode ser um **vetor de features** - aqui vetor tem o mesmo sentido de uma variável lista <code>(lst)</code> ou uma tupla <code>(tuple)</code>.\n",
        "\n",
        "Diferentes **algoritmos de regressão** podem ser usados para realizar essa tarefa de, dada uma entrada, gerar uma saída (valor predito para aquele objeto).\n",
        "\n",
        "Define-se a regressão como uma tarefa de **aprendizado de máquina supervisionado**, isto é, os algoritmos de regressão precisam ser treinados com pares objeto-valor tidos como associações corretas. Somente após o treinamento é que o algoritmo de regressão estará apto a predizer valores para novas entradas (das quais não se sabe o valor a princípio) - diz-se que  algoritmo aprendeu o padrão nos dados de treinamento e agora pode ser usado para predizr o valor de saída para novas entradas.\n",
        "\n",
        "-----------------------------------------------"
      ],
      "metadata": {
        "id": "hh725YtQ4UHj"
      }
    },
    {
      "cell_type": "code",
      "execution_count": 82,
      "metadata": {
        "id": "dtcB48Pjvt-I"
      },
      "outputs": [],
      "source": [
        "import pandas as pd\n",
        "import numpy as np"
      ]
    },
    {
      "cell_type": "markdown",
      "source": [
        "# Criando dados para o treinamento do algoritmo"
      ],
      "metadata": {
        "id": "M4dZNyzy5IHM"
      }
    },
    {
      "cell_type": "code",
      "source": [
        "#Criamos uma função que será a função para criar os dados que queremos predizer\n",
        "def f(x):\n",
        "    return x*4 + 2"
      ],
      "metadata": {
        "id": "uZ08OU6ey3Vr"
      },
      "execution_count": 83,
      "outputs": []
    },
    {
      "cell_type": "code",
      "source": [
        "# Criamos um vetor chamado x que está com números de 0 à 99\n",
        "x = np.arange(0,100)\n",
        "x"
      ],
      "metadata": {
        "colab": {
          "base_uri": "https://localhost:8080/"
        },
        "id": "SZ89ICBZzFba",
        "outputId": "1feefdb4-2e6a-498b-b006-d8ab5a39e395"
      },
      "execution_count": 84,
      "outputs": [
        {
          "output_type": "execute_result",
          "data": {
            "text/plain": [
              "array([ 0,  1,  2,  3,  4,  5,  6,  7,  8,  9, 10, 11, 12, 13, 14, 15, 16,\n",
              "       17, 18, 19, 20, 21, 22, 23, 24, 25, 26, 27, 28, 29, 30, 31, 32, 33,\n",
              "       34, 35, 36, 37, 38, 39, 40, 41, 42, 43, 44, 45, 46, 47, 48, 49, 50,\n",
              "       51, 52, 53, 54, 55, 56, 57, 58, 59, 60, 61, 62, 63, 64, 65, 66, 67,\n",
              "       68, 69, 70, 71, 72, 73, 74, 75, 76, 77, 78, 79, 80, 81, 82, 83, 84,\n",
              "       85, 86, 87, 88, 89, 90, 91, 92, 93, 94, 95, 96, 97, 98, 99])"
            ]
          },
          "metadata": {},
          "execution_count": 84
        }
      ]
    },
    {
      "cell_type": "code",
      "source": [
        "#Biblioteca matplotlib será utilizada para mostrarmos gráficos para entender melhor nossa entrada\n",
        "import matplotlib.pyplot as plt"
      ],
      "metadata": {
        "id": "SDQOofmSzoV7"
      },
      "execution_count": 85,
      "outputs": []
    },
    {
      "cell_type": "code",
      "source": [
        "# função plot recebe um parâmetro para mostrar os dados da variável x\n",
        "plt.plot(x)"
      ],
      "metadata": {
        "colab": {
          "base_uri": "https://localhost:8080/",
          "height": 447
        },
        "id": "fG2EqcmQz3Db",
        "outputId": "d56a1694-d345-4b91-ed1d-d75036dd4923"
      },
      "execution_count": 86,
      "outputs": [
        {
          "output_type": "execute_result",
          "data": {
            "text/plain": [
              "[<matplotlib.lines.Line2D at 0x7d947eac9c00>]"
            ]
          },
          "metadata": {},
          "execution_count": 86
        },
        {
          "output_type": "display_data",
          "data": {
            "text/plain": [
              "<Figure size 640x480 with 1 Axes>"
            ],
            "image/png": "[encoded data removed]"
          },
          "metadata": {}
        }
      ]
    },
    {
      "cell_type": "code",
      "source": [],
      "metadata": {
        "id": "RtG2WMbg50mE"
      },
      "execution_count": 86,
      "outputs": []
    },
    {
      "cell_type": "code",
      "source": [
        "#Se mostrarmos os pontos da nossa função f para o nosso vetor de pontos x temos o seguinte gráfico\n",
        "plt.plot(x,f(x))"
      ],
      "metadata": {
        "colab": {
          "base_uri": "https://localhost:8080/",
          "height": 447
        },
        "id": "jSGb7NdX6iUr",
        "outputId": "de7410f3-6e72-43d8-d4cb-6f0aaaacc31e"
      },
      "execution_count": 87,
      "outputs": [
        {
          "output_type": "execute_result",
          "data": {
            "text/plain": [
              "[<matplotlib.lines.Line2D at 0x7d947e90a9e0>]"
            ]
          },
          "metadata": {},
          "execution_count": 87
        },
        {
          "output_type": "display_data",
          "data": {
            "text/plain": [
              "<Figure size 640x480 with 1 Axes>"
            ],
            "image/png": "[encoded data removed]"
          },
          "metadata": {}
        }
      ]
    },
    {
      "cell_type": "code",
      "source": [
        "#Para mostrarmos o gráfico como pontos podemos utilizar a função scatter\n",
        "plt.scatter(x,f(x))"
      ],
      "metadata": {
        "colab": {
          "base_uri": "https://localhost:8080/",
          "height": 447
        },
        "id": "EnXc43gV63rz",
        "outputId": "b6aee40f-08cb-433a-f254-290f4c2c781e"
      },
      "execution_count": 88,
      "outputs": [
        {
          "output_type": "execute_result",
          "data": {
            "text/plain": [
              "<matplotlib.collections.PathCollection at 0x7d947e999b70>"
            ]
          },
          "metadata": {},
          "execution_count": 88
        },
        {
          "output_type": "display_data",
          "data": {
            "text/plain": [
              "<Figure size 640x480 with 1 Axes>"
            ],
            "image/png": "[encoded data removed]"
          },
          "metadata": {}
        }
      ]
    },
    {
      "cell_type": "code",
      "source": [
        "#Podemos mostrar apenas uma fatia dos nossos dados utilizando o conceito de slice do numpy\n",
        "plt.scatter(x[:10],f(x[:10]))"
      ],
      "metadata": {
        "colab": {
          "base_uri": "https://localhost:8080/",
          "height": 447
        },
        "id": "E2MU378o7OqK",
        "outputId": "970470a2-36e5-47c1-a375-090d1c8e0201"
      },
      "execution_count": 89,
      "outputs": [
        {
          "output_type": "execute_result",
          "data": {
            "text/plain": [
              "<matplotlib.collections.PathCollection at 0x7d947e9f0a90>"
            ]
          },
          "metadata": {},
          "execution_count": 89
        },
        {
          "output_type": "display_data",
          "data": {
            "text/plain": [
              "<Figure size 640x480 with 1 Axes>"
            ],
            "image/png": "[encoded data removed]"
          },
          "metadata": {}
        }
      ]
    },
    {
      "cell_type": "code",
      "source": [
        "#Só que a vida não é tão fácil, queremos dificultar nossa vida adicionando um pouco de ruído no nossos dados.\n",
        "\n",
        "#Para isso em cada ponto, vamos criar um número sorteado e somar com o ponto da função verdadeiro\n",
        "#Para fazer algo nesse sentido:\n",
        "\n",
        "#ex:\n",
        "plt.scatter(x[:10],[f(x[0])+3,f(x[1])-2,f(x[2])+1,f(x[3])-3,f(x[4])+1,f(x[5]),f(x[6])+3,f(x[7])+1,f(x[8])-3,f(x[9])])"
      ],
      "metadata": {
        "colab": {
          "base_uri": "https://localhost:8080/",
          "height": 447
        },
        "id": "fyXamHgz7Fk6",
        "outputId": "79448396-cf9c-470d-93c4-8fa5634e91ba"
      },
      "execution_count": 90,
      "outputs": [
        {
          "output_type": "execute_result",
          "data": {
            "text/plain": [
              "<matplotlib.collections.PathCollection at 0x7d9481163cd0>"
            ]
          },
          "metadata": {},
          "execution_count": 90
        },
        {
          "output_type": "display_data",
          "data": {
            "text/plain": [
              "<Figure size 640x480 with 1 Axes>"
            ],
            "image/png": "[encoded data removed]"
          },
          "metadata": {}
        }
      ]
    },
    {
      "cell_type": "code",
      "source": [
        "# a função da biblioteca numpy np.random.randn(100) é utilizada para criar n números aleatórios\n",
        "np.random.randn(100)"
      ],
      "metadata": {
        "colab": {
          "base_uri": "https://localhost:8080/"
        },
        "id": "JGZLF3YB60zb",
        "outputId": "35a7282a-7414-42da-df6c-44b3ab3a7d1a"
      },
      "execution_count": 91,
      "outputs": [
        {
          "output_type": "execute_result",
          "data": {
            "text/plain": [
              "array([-6.86485712e-01,  8.19806505e-01, -3.65811411e-01, -1.92594885e+00,\n",
              "       -6.15595547e-01, -2.33740119e-01,  4.21074262e-01,  7.27170920e-01,\n",
              "        6.61916227e-01, -1.04986265e+00,  1.87862264e+00,  6.36533415e-01,\n",
              "        2.39010959e+00, -5.82550274e-01,  2.44602615e-01, -1.67684399e+00,\n",
              "       -4.65745394e-01, -7.30649629e-01, -3.16133417e-01,  6.06332780e-01,\n",
              "       -4.78497641e-02,  1.46868498e+00,  5.05273327e-01, -6.22219689e-01,\n",
              "       -1.22728599e+00, -5.49248940e-01, -4.37484189e-01,  1.65038812e-03,\n",
              "        3.73200725e-01,  8.60403566e-01,  3.21169852e-01, -1.83743602e+00,\n",
              "        3.37345965e-01, -1.83091014e+00,  1.68321482e-01, -3.64935811e-01,\n",
              "       -1.43802823e-01, -1.72148741e+00, -1.46228939e+00,  3.28101754e-01,\n",
              "        9.25690941e-01,  1.28599750e-01, -1.29574893e+00,  7.36883740e-01,\n",
              "       -1.72390741e+00,  1.22459700e-01,  7.03463841e-01, -1.00253810e-01,\n",
              "        7.31972105e-01, -1.07088684e+00,  1.72751664e-01, -1.12167963e-01,\n",
              "        4.12344232e-01,  9.89610918e-02,  1.39135969e+00,  1.00593490e+00,\n",
              "       -5.88775779e-02, -7.49871006e-01, -1.73501845e-01, -1.09287626e+00,\n",
              "       -5.57677991e-01, -6.82549723e-01, -1.36970249e-01, -1.10036060e+00,\n",
              "       -5.77433250e-01,  1.26412510e+00, -6.15656389e-01,  9.94976311e-01,\n",
              "       -1.76509135e-01,  1.68061750e+00,  5.22777572e-01,  2.58988713e-01,\n",
              "       -2.82197559e-02,  1.10552288e+00,  1.02020483e+00, -1.76930689e+00,\n",
              "       -1.81154418e-01,  1.13879331e+00,  4.68919275e-01, -3.60969387e-01,\n",
              "        4.85367013e-01, -1.05392339e+00, -9.18256388e-01, -2.22311508e+00,\n",
              "       -1.34727742e+00,  8.05336976e-01,  7.49310184e-01, -3.49016098e-01,\n",
              "        1.13423812e+00, -1.27288168e+00,  4.91802568e-01, -1.55979379e+00,\n",
              "       -1.10561396e-01, -1.49812510e+00, -1.33430715e+00,  2.57756473e+00,\n",
              "       -9.40768785e-01,  1.19813492e+00,  5.37160501e-01,  1.73388348e+00])"
            ]
          },
          "metadata": {},
          "execution_count": 91
        }
      ]
    },
    {
      "cell_type": "code",
      "source": [
        "#A média dessa função é próximo a zero\n",
        "np.random.randn(100).mean()"
      ],
      "metadata": {
        "colab": {
          "base_uri": "https://localhost:8080/"
        },
        "id": "4o9SwkJs6Fni",
        "outputId": "0cf34528-2e12-45be-ac74-d110f0175cdc"
      },
      "execution_count": 92,
      "outputs": [
        {
          "output_type": "execute_result",
          "data": {
            "text/plain": [
              "-0.16033536298823678"
            ]
          },
          "metadata": {},
          "execution_count": 92
        }
      ]
    },
    {
      "cell_type": "code",
      "source": [
        "#E o desvio padrão é próximo a 1\n",
        "np.random.randn(100).std()"
      ],
      "metadata": {
        "colab": {
          "base_uri": "https://localhost:8080/"
        },
        "id": "jDILOKHh6P7L",
        "outputId": "3c1c041d-6aef-4d15-b129-d21e48abcde2"
      },
      "execution_count": 93,
      "outputs": [
        {
          "output_type": "execute_result",
          "data": {
            "text/plain": [
              "0.919814340038626"
            ]
          },
          "metadata": {},
          "execution_count": 93
        }
      ]
    },
    {
      "cell_type": "code",
      "source": [
        "#Podemos multiplicar os números aleatórios por um número para aumentar o erro da função:\n",
        "np.random.randn(100)*5.0"
      ],
      "metadata": {
        "colab": {
          "base_uri": "https://localhost:8080/"
        },
        "id": "0IJuYC5H9K_4",
        "outputId": "f042ee9c-b919-4bdb-9e24-4dffde195859"
      },
      "execution_count": 94,
      "outputs": [
        {
          "output_type": "execute_result",
          "data": {
            "text/plain": [
              "array([  0.32417684,  -4.35107421,   2.41722689,  -2.39273904,\n",
              "         0.97151367,   0.48231965,   0.78501306,   6.0019954 ,\n",
              "         2.66279785,  -4.83705988,  -0.59184114,   1.58508141,\n",
              "         5.6037053 ,  -0.22371774,   8.27006763,   0.33968307,\n",
              "         2.26957935,  10.36611801,  -5.40354012,   1.99301537,\n",
              "         1.29356199,   8.08972608,  -3.08487292,   1.20269386,\n",
              "         2.51055174,  -7.18486099,  -2.26282511,  -0.1905538 ,\n",
              "         2.52968527,  -2.39858321,  -0.70444253,   7.90360461,\n",
              "        -3.12537576,  -1.53156088,   1.45100383,   5.23739003,\n",
              "         2.14524633,   4.15883537,   2.64897599,   9.70537023,\n",
              "        -8.80996433,   5.20743297,   3.58266405,  -1.61162772,\n",
              "         2.19949746,   4.24330246,  -1.93330369,   0.84938496,\n",
              "        -1.99955479,   1.97371102,   1.67113409,   7.71941527,\n",
              "         3.64558963,   8.23788894, -11.24746388,   9.31971157,\n",
              "         3.08987143,  -3.27435705,   0.59302226,  -1.32766263,\n",
              "        -8.40287326,  -0.10913221,   0.45252386,  -0.02169919,\n",
              "        -0.54477122,   8.44784297,   3.45797339,  -0.4376071 ,\n",
              "         7.40758453,   8.31772797,  -2.51128969,  -4.22415872,\n",
              "         4.64449417,  -1.59028612,  -5.63636898,  -2.65076476,\n",
              "        -2.36101517,  -0.60389473,  -8.25081849,   5.09370203,\n",
              "        -4.73170288,  -2.60144765,   8.34128653,   4.34342836,\n",
              "         1.5765718 ,   6.30726539,  -1.26992699,   5.04818518,\n",
              "        -0.33393894,  -6.28000715,   2.10194645,   0.85151372,\n",
              "        -0.43409886,  -1.05385186,  -1.54775195,  -3.69288655,\n",
              "        -7.53945539,  -1.08287406,  -4.59204687,   5.23624363])"
            ]
          },
          "metadata": {},
          "execution_count": 94
        }
      ]
    },
    {
      "cell_type": "code",
      "source": [
        "#Então podemos adicionar um erro qualquer na função f para não ser tão simples de responder\n",
        "y = f(x) + np.random.randn(100)*5.0"
      ],
      "metadata": {
        "id": "W6u03k0c01QB"
      },
      "execution_count": 95,
      "outputs": []
    },
    {
      "cell_type": "code",
      "source": [
        "plt.scatter(x,y)"
      ],
      "metadata": {
        "colab": {
          "base_uri": "https://localhost:8080/",
          "height": 447
        },
        "id": "FszuzyZy1g8w",
        "outputId": "cf4fbb7d-071e-47a9-9982-140f53af9bdb"
      },
      "execution_count": 96,
      "outputs": [
        {
          "output_type": "execute_result",
          "data": {
            "text/plain": [
              "<matplotlib.collections.PathCollection at 0x7d947e96c670>"
            ]
          },
          "metadata": {},
          "execution_count": 96
        },
        {
          "output_type": "display_data",
          "data": {
            "text/plain": [
              "<Figure size 640x480 with 1 Axes>"
            ],
            "image/png": "[encoded data removed]"
          },
          "metadata": {}
        }
      ]
    },
    {
      "cell_type": "code",
      "source": [
        "plt.scatter(x[:10],y[:10])"
      ],
      "metadata": {
        "colab": {
          "base_uri": "https://localhost:8080/",
          "height": 447
        },
        "id": "H8rY7AId1J9w",
        "outputId": "032068b4-e039-4e25-d7b6-928e5b67c32f"
      },
      "execution_count": 97,
      "outputs": [
        {
          "output_type": "execute_result",
          "data": {
            "text/plain": [
              "<matplotlib.collections.PathCollection at 0x7d947e8e3790>"
            ]
          },
          "metadata": {},
          "execution_count": 97
        },
        {
          "output_type": "display_data",
          "data": {
            "text/plain": [
              "<Figure size 640x480 with 1 Axes>"
            ],
            "image/png": "[encoded data removed]"
          },
          "metadata": {}
        }
      ]
    },
    {
      "cell_type": "code",
      "source": [
        "#Salvamos esses dados em um arquivo chamado dataset.csv dentro da pasta sample_data\n",
        "f = open(\"sample_data/dataset.csv\",\"wt\")\n",
        "f.write(\"x,y\\n\");\n",
        "for i in range(100):\n",
        "    f.write(f'{x[i]},{y[i]}\\n')\n",
        "f.close()"
      ],
      "metadata": {
        "id": "eVH7ev3j2WGv"
      },
      "execution_count": 98,
      "outputs": []
    },
    {
      "cell_type": "code",
      "source": [
        "#Assim temos nosso primeiro dataset que será utilizado para treinamento dos nossos algoritmos inteligentes"
      ],
      "metadata": {
        "id": "l9S2dhS19u-X"
      },
      "execution_count": 99,
      "outputs": []
    },
    {
      "cell_type": "markdown",
      "source": [
        "# Recuperando dados de um dataset criado anteriormente"
      ],
      "metadata": {
        "id": "EAU82NtuBEg1"
      }
    },
    {
      "cell_type": "code",
      "source": [
        "data = pd.read_csv(\"/content/sample_data/mnist_train_small.csv\",header=None)"
      ],
      "metadata": {
        "id": "b-3qewY5wME7"
      },
      "execution_count": 100,
      "outputs": []
    },
    {
      "cell_type": "code",
      "source": [
        "data_numpy = data.to_numpy()"
      ],
      "metadata": {
        "id": "vpT35NEuwgs9"
      },
      "execution_count": 101,
      "outputs": []
    },
    {
      "cell_type": "code",
      "source": [
        "y_train = data_numpy[:,0]\n",
        "x_train = data_numpy[:,1:]"
      ],
      "metadata": {
        "id": "PZ_9XNOtwiN1"
      },
      "execution_count": 102,
      "outputs": []
    },
    {
      "cell_type": "code",
      "source": [
        "28*28"
      ],
      "metadata": {
        "id": "2YIIj91d2CFY",
        "outputId": "4349abf7-a53f-4b6d-8329-ba335a049f3d",
        "colab": {
          "base_uri": "https://localhost:8080/"
        }
      },
      "execution_count": 103,
      "outputs": [
        {
          "output_type": "execute_result",
          "data": {
            "text/plain": [
              "784"
            ]
          },
          "metadata": {},
          "execution_count": 103
        }
      ]
    },
    {
      "cell_type": "code",
      "source": [
        "x_train[0].reshape(28,28).shape"
      ],
      "metadata": {
        "id": "vhYpD13E2t0F",
        "outputId": "c6beb4ce-c01c-4e2d-d1cd-542073ceb198",
        "colab": {
          "base_uri": "https://localhost:8080/"
        }
      },
      "execution_count": 104,
      "outputs": [
        {
          "output_type": "execute_result",
          "data": {
            "text/plain": [
              "(28, 28)"
            ]
          },
          "metadata": {},
          "execution_count": 104
        }
      ]
    },
    {
      "cell_type": "code",
      "source": [
        "import matplotlib.pyplot as plt\n",
        "plt.imshow(x_train[0].reshape(28,28),cmap='Greys')\n",
        "plt.title(\"Class: %d\"%y_train[0])\n",
        "plt.show()"
      ],
      "metadata": {
        "id": "dYz380PMwwCl",
        "outputId": "635df23a-1917-47de-c84c-4e71f2e8e934",
        "colab": {
          "base_uri": "https://localhost:8080/",
          "height": 452
        }
      },
      "execution_count": 105,
      "outputs": [
        {
          "output_type": "display_data",
          "data": {
            "text/plain": [
              "<Figure size 640x480 with 1 Axes>"
            ],
            "image/png": "[encoded data removed]"
          },
          "metadata": {}
        }
      ]
    },
    {
      "cell_type": "code",
      "source": [
        "#Para recuperar os dados de um dataset utilizado anteriormente podemos utilizar a biblioteca pandas\n",
        "import pandas as pd"
      ],
      "metadata": {
        "id": "GFhnfYIVBLIt"
      },
      "execution_count": 106,
      "outputs": []
    },
    {
      "cell_type": "code",
      "source": [
        "#Utilizamos a função read_csv para ler os dados do arquivo de uma forma simplificada\n",
        "data = pd.read_csv(\"sample_data/dataset.csv\")"
      ],
      "metadata": {
        "id": "ecAFHVYwBTV9"
      },
      "execution_count": 107,
      "outputs": []
    },
    {
      "cell_type": "code",
      "source": [
        "#A função read_csv retorna um objeto chamado de DATAFRAME\n",
        "#Com o dataframe podemos pegar as colunas dos nossos dados\n",
        "#Também temos a função head para visualizar o começo do nosso dataframe\n",
        "data.head()"
      ],
      "metadata": {
        "colab": {
          "base_uri": "https://localhost:8080/",
          "height": 206
        },
        "id": "drSx-0AQBhEj",
        "outputId": "b83920b3-cc02-4bb6-f57d-3ee9115e902a"
      },
      "execution_count": 108,
      "outputs": [
        {
          "output_type": "execute_result",
          "data": {
            "text/plain": [
              "   x          y\n",
              "0  0   5.029812\n",
              "1  1   1.784243\n",
              "2  2   6.277040\n",
              "3  3  19.646485\n",
              "4  4  26.020513"
            ],
            "text/html": [
              "\n",
              "  <div id=\"df-13dbdc4b-4a84-43e8-a89e-3f73eafd3eec\" class=\"colab-df-container\">\n",
              "    <div>\n",
              "<style scoped>\n",
              "    .dataframe tbody tr th:only-of-type {\n",
              "        vertical-align: middle;\n",
              "    }\n",
              "\n",
              "    .dataframe tbody tr th {\n",
              "        vertical-align: top;\n",
              "    }\n",
              "\n",
              "    .dataframe thead th {\n",
              "        text-align: right;\n",
              "    }\n",
              "</style>\n",
              "<table border=\"1\" class=\"dataframe\">\n",
              "  <thead>\n",
              "    <tr style=\"text-align: right;\">\n",
              "      <th></th>\n",
              "      <th>x</th>\n",
              "      <th>y</th>\n",
              "    </tr>\n",
              "  </thead>\n",
              "  <tbody>\n",
              "    <tr>\n",
              "      <th>0</th>\n",
              "      <td>0</td>\n",
              "      <td>5.029812</td>\n",
              "    </tr>\n",
              "    <tr>\n",
              "      <th>1</th>\n",
              "      <td>1</td>\n",
              "      <td>1.784243</td>\n",
              "    </tr>\n",
              "    <tr>\n",
              "      <th>2</th>\n",
              "      <td>2</td>\n",
              "      <td>6.277040</td>\n",
              "    </tr>\n",
              "    <tr>\n",
              "      <th>3</th>\n",
              "      <td>3</td>\n",
              "      <td>19.646485</td>\n",
              "    </tr>\n",
              "    <tr>\n",
              "      <th>4</th>\n",
              "      <td>4</td>\n",
              "      <td>26.020513</td>\n",
              "    </tr>\n",
              "  </tbody>\n",
              "</table>\n",
              "</div>\n",
              "    <div class=\"colab-df-buttons\">\n",
              "\n",
              "  <div class=\"colab-df-container\">\n",
              "    <button class=\"colab-df-convert\" onclick=\"convertToInteractive('df-13dbdc4b-4a84-43e8-a89e-3f73eafd3eec')\"\n",
              "            title=\"Convert this dataframe to an interactive table.\"\n",
              "            style=\"display:none;\">\n",
              "\n",
              "  <svg xmlns=\"http://www.w3.org/2000/svg\" height=\"24px\" viewBox=\"0 -960 960 960\">\n",
              "    <path d=\"M120-120v-720h720v720H120Zm60-500h600v-160H180v160Zm220 220h160v-160H400v160Zm0 220h160v-160H400v160ZM180-400h160v-160H180v160Zm440 0h160v-160H620v160ZM180-180h160v-160H180v160Zm440 0h160v-160H620v160Z\"/>\n",
              "  </svg>\n",
              "    </button>\n",
              "\n",
              "  <style>\n",
              "    .colab-df-container {\n",
              "      display:flex;\n",
              "      gap: 12px;\n",
              "    }\n",
              "\n",
              "    .colab-df-convert {\n",
              "      background-color: #E8F0FE;\n",
              "      border: none;\n",
              "      border-radius: 50%;\n",
              "      cursor: pointer;\n",
              "      display: none;\n",
              "      fill: #1967D2;\n",
              "      height: 32px;\n",
              "      padding: 0 0 0 0;\n",
              "      width: 32px;\n",
              "    }\n",
              "\n",
              "    .colab-df-convert:hover {\n",
              "      background-color: #E2EBFA;\n",
              "      box-shadow: 0px 1px 2px rgba(60, 64, 67, 0.3), 0px 1px 3px 1px rgba(60, 64, 67, 0.15);\n",
              "      fill: #174EA6;\n",
              "    }\n",
              "\n",
              "    .colab-df-buttons div {\n",
              "      margin-bottom: 4px;\n",
              "    }\n",
              "\n",
              "    [theme=dark] .colab-df-convert {\n",
              "      background-color: #3B4455;\n",
              "      fill: #D2E3FC;\n",
              "    }\n",
              "\n",
              "    [theme=dark] .colab-df-convert:hover {\n",
              "      background-color: #434B5C;\n",
              "      box-shadow: 0px 1px 3px 1px rgba(0, 0, 0, 0.15);\n",
              "      filter: drop-shadow(0px 1px 2px rgba(0, 0, 0, 0.3));\n",
              "      fill: #FFFFFF;\n",
              "    }\n",
              "  </style>\n",
              "\n",
              "    <script>\n",
              "      const buttonEl =\n",
              "        document.querySelector('#df-13dbdc4b-4a84-43e8-a89e-3f73eafd3eec button.colab-df-convert');\n",
              "      buttonEl.style.display =\n",
              "        google.colab.kernel.accessAllowed ? 'block' : 'none';\n",
              "\n",
              "      async function convertToInteractive(key) {\n",
              "        const element = document.querySelector('#df-13dbdc4b-4a84-43e8-a89e-3f73eafd3eec');\n",
              "        const dataTable =\n",
              "          await google.colab.kernel.invokeFunction('convertToInteractive',\n",
              "                                                    [key], {});\n",
              "        if (!dataTable) return;\n",
              "\n",
              "        const docLinkHtml = 'Like what you see? Visit the ' +\n",
              "          '<a target=\"_blank\" href=https://colab.research.google.com/notebooks/data_table.ipynb>data table notebook</a>'\n",
              "          + ' to learn more about interactive tables.';\n",
              "        element.innerHTML = '';\n",
              "        dataTable['output_type'] = 'display_data';\n",
              "        await google.colab.output.renderOutput(dataTable, element);\n",
              "        const docLink = document.createElement('div');\n",
              "        docLink.innerHTML = docLinkHtml;\n",
              "        element.appendChild(docLink);\n",
              "      }\n",
              "    </script>\n",
              "  </div>\n",
              "\n",
              "\n",
              "<div id=\"df-62f0ab02-1663-490c-b856-9283dbf3b185\">\n",
              "  <button class=\"colab-df-quickchart\" onclick=\"quickchart('df-62f0ab02-1663-490c-b856-9283dbf3b185')\"\n",
              "            title=\"Suggest charts.\"\n",
              "            style=\"display:none;\">\n",
              "\n",
              "<svg xmlns=\"http://www.w3.org/2000/svg\" height=\"24px\"viewBox=\"0 0 24 24\"\n",
              "     width=\"24px\">\n",
              "    <g>\n",
              "        <path d=\"M19 3H5c-1.1 0-2 .9-2 2v14c0 1.1.9 2 2 2h14c1.1 0 2-.9 2-2V5c0-1.1-.9-2-2-2zM9 17H7v-7h2v7zm4 0h-2V7h2v10zm4 0h-2v-4h2v4z\"/>\n",
              "    </g>\n",
              "</svg>\n",
              "  </button>\n",
              "\n",
              "<style>\n",
              "  .colab-df-quickchart {\n",
              "      --bg-color: #E8F0FE;\n",
              "      --fill-color: #1967D2;\n",
              "      --hover-bg-color: #E2EBFA;\n",
              "      --hover-fill-color: #174EA6;\n",
              "      --disabled-fill-color: #AAA;\n",
              "      --disabled-bg-color: #DDD;\n",
              "  }\n",
              "\n",
              "  [theme=dark] .colab-df-quickchart {\n",
              "      --bg-color: #3B4455;\n",
              "      --fill-color: #D2E3FC;\n",
              "      --hover-bg-color: #434B5C;\n",
              "      --hover-fill-color: #FFFFFF;\n",
              "      --disabled-bg-color: #3B4455;\n",
              "      --disabled-fill-color: #666;\n",
              "  }\n",
              "\n",
              "  .colab-df-quickchart {\n",
              "    background-color: var(--bg-color);\n",
              "    border: none;\n",
              "    border-radius: 50%;\n",
              "    cursor: pointer;\n",
              "    display: none;\n",
              "    fill: var(--fill-color);\n",
              "    height: 32px;\n",
              "    padding: 0;\n",
              "    width: 32px;\n",
              "  }\n",
              "\n",
              "  .colab-df-quickchart:hover {\n",
              "    background-color: var(--hover-bg-color);\n",
              "    box-shadow: 0 1px 2px rgba(60, 64, 67, 0.3), 0 1px 3px 1px rgba(60, 64, 67, 0.15);\n",
              "    fill: var(--button-hover-fill-color);\n",
              "  }\n",
              "\n",
              "  .colab-df-quickchart-complete:disabled,\n",
              "  .colab-df-quickchart-complete:disabled:hover {\n",
              "    background-color: var(--disabled-bg-color);\n",
              "    fill: var(--disabled-fill-color);\n",
              "    box-shadow: none;\n",
              "  }\n",
              "\n",
              "  .colab-df-spinner {\n",
              "    border: 2px solid var(--fill-color);\n",
              "    border-color: transparent;\n",
              "    border-bottom-color: var(--fill-color);\n",
              "    animation:\n",
              "      spin 1s steps(1) infinite;\n",
              "  }\n",
              "\n",
              "  @keyframes spin {\n",
              "    0% {\n",
              "      border-color: transparent;\n",
              "      border-bottom-color: var(--fill-color);\n",
              "      border-left-color: var(--fill-color);\n",
              "    }\n",
              "    20% {\n",
              "      border-color: transparent;\n",
              "      border-left-color: var(--fill-color);\n",
              "      border-top-color: var(--fill-color);\n",
              "    }\n",
              "    30% {\n",
              "      border-color: transparent;\n",
              "      border-left-color: var(--fill-color);\n",
              "      border-top-color: var(--fill-color);\n",
              "      border-right-color: var(--fill-color);\n",
              "    }\n",
              "    40% {\n",
              "      border-color: transparent;\n",
              "      border-right-color: var(--fill-color);\n",
              "      border-top-color: var(--fill-color);\n",
              "    }\n",
              "    60% {\n",
              "      border-color: transparent;\n",
              "      border-right-color: var(--fill-color);\n",
              "    }\n",
              "    80% {\n",
              "      border-color: transparent;\n",
              "      border-right-color: var(--fill-color);\n",
              "      border-bottom-color: var(--fill-color);\n",
              "    }\n",
              "    90% {\n",
              "      border-color: transparent;\n",
              "      border-bottom-color: var(--fill-color);\n",
              "    }\n",
              "  }\n",
              "</style>\n",
              "\n",
              "  <script>\n",
              "    async function quickchart(key) {\n",
              "      const quickchartButtonEl =\n",
              "        document.querySelector('#' + key + ' button');\n",
              "      quickchartButtonEl.disabled = true;  // To prevent multiple clicks.\n",
              "      quickchartButtonEl.classList.add('colab-df-spinner');\n",
              "      try {\n",
              "        const charts = await google.colab.kernel.invokeFunction(\n",
              "            'suggestCharts', [key], {});\n",
              "      } catch (error) {\n",
              "        console.error('Error during call to suggestCharts:', error);\n",
              "      }\n",
              "      quickchartButtonEl.classList.remove('colab-df-spinner');\n",
              "      quickchartButtonEl.classList.add('colab-df-quickchart-complete');\n",
              "    }\n",
              "    (() => {\n",
              "      let quickchartButtonEl =\n",
              "        document.querySelector('#df-62f0ab02-1663-490c-b856-9283dbf3b185 button');\n",
              "      quickchartButtonEl.style.display =\n",
              "        google.colab.kernel.accessAllowed ? 'block' : 'none';\n",
              "    })();\n",
              "  </script>\n",
              "</div>\n",
              "    </div>\n",
              "  </div>\n"
            ]
          },
          "metadata": {},
          "execution_count": 108
        }
      ]
    },
    {
      "cell_type": "code",
      "source": [
        "#Podemos \"Plotar\" o gráfico novamente apenas para visualizar os dados que vem do arquivo\n",
        "plt.scatter(data[\"x\"],data[\"y\"])"
      ],
      "metadata": {
        "colab": {
          "base_uri": "https://localhost:8080/",
          "height": 447
        },
        "id": "uPFoPylJB7LQ",
        "outputId": "302020dd-646a-402e-f475-fc892912d429"
      },
      "execution_count": 109,
      "outputs": [
        {
          "output_type": "execute_result",
          "data": {
            "text/plain": [
              "<matplotlib.collections.PathCollection at 0x7d947e7ba9e0>"
            ]
          },
          "metadata": {},
          "execution_count": 109
        },
        {
          "output_type": "display_data",
          "data": {
            "text/plain": [
              "<Figure size 640x480 with 1 Axes>"
            ],
            "image/png": "[encoded data removed]"
          },
          "metadata": {}
        }
      ]
    },
    {
      "cell_type": "code",
      "source": [
        "#Podemos visualizar que mudou um pouquinho a forma como acessamos os dados das linhas\n",
        "#Entretando, nada tão grave a ponto de dificultar nossas vidas.\n",
        "#Uma funçãozinha muito legal para conseguimos fazer o slice pelos dados é a função iloc do dataframe\n",
        "#Assim, podemos acessar muito parecido com o numpy\n",
        "plt.scatter(data.iloc[:,0],data.iloc[:,1])\n"
      ],
      "metadata": {
        "colab": {
          "base_uri": "https://localhost:8080/",
          "height": 447
        },
        "id": "6s6yARNKCaTj",
        "outputId": "d3f8de82-f495-45f2-e57b-a60887cabb3b"
      },
      "execution_count": 110,
      "outputs": [
        {
          "output_type": "execute_result",
          "data": {
            "text/plain": [
              "<matplotlib.collections.PathCollection at 0x7d947e6997b0>"
            ]
          },
          "metadata": {},
          "execution_count": 110
        },
        {
          "output_type": "display_data",
          "data": {
            "text/plain": [
              "<Figure size 640x480 with 1 Axes>"
            ],
            "image/png": "[encoded data removed]"
          },
          "metadata": {}
        }
      ]
    },
    {
      "cell_type": "markdown",
      "source": [
        "#Como predizer o valor da coluna y sem ter conhecimento da função que gera ela?"
      ],
      "metadata": {
        "id": "NG2Sz4wCGSbw"
      }
    },
    {
      "cell_type": "code",
      "source": [
        "#Podemos observar pelo gráfico acima que a função é uma reta."
      ],
      "metadata": {
        "id": "SoU7JuZnCiY4"
      },
      "execution_count": 111,
      "outputs": []
    },
    {
      "cell_type": "markdown",
      "source": [
        "Função da reta:\n",
        "\n",
        "y = aX + b"
      ],
      "metadata": {
        "id": "JK_aO7IuGt9n"
      }
    },
    {
      "cell_type": "code",
      "source": [
        "#Se fixarmos o valor de a e b temos:\n",
        "a = 5\n",
        "b=1"
      ],
      "metadata": {
        "id": "mely6lGlHLt3"
      },
      "execution_count": 112,
      "outputs": []
    },
    {
      "cell_type": "code",
      "source": [
        "#Podemos também tentar predizer os pontos a partir dessa reta que criamos\n",
        "#Criando um vetor de pontos com os coeficiêntes da reta que fixamos:\n",
        "\n",
        "y_hat = a*data.iloc[:,0] + b"
      ],
      "metadata": {
        "id": "K9vfsDihHdR3"
      },
      "execution_count": 113,
      "outputs": []
    },
    {
      "cell_type": "markdown",
      "source": [
        "Vamos plotar as duas funções para ver como elas estão e se estão próximas?"
      ],
      "metadata": {
        "id": "7MnJV18WI6nt"
      }
    },
    {
      "cell_type": "code",
      "source": [
        "plt.plot(data.iloc[:,0],y,y_hat)"
      ],
      "metadata": {
        "colab": {
          "base_uri": "https://localhost:8080/",
          "height": 465
        },
        "id": "KAK3iMK9ICdY",
        "outputId": "2ae9640a-1af9-48d3-8368-6cdbb4787861"
      },
      "execution_count": 114,
      "outputs": [
        {
          "output_type": "execute_result",
          "data": {
            "text/plain": [
              "[<matplotlib.lines.Line2D at 0x7d947e6704c0>,\n",
              " <matplotlib.lines.Line2D at 0x7d947e670550>]"
            ]
          },
          "metadata": {},
          "execution_count": 114
        },
        {
          "output_type": "display_data",
          "data": {
            "text/plain": [
              "<Figure size 640x480 with 1 Axes>"
            ],
            "image/png": "[encoded data removed]"
          },
          "metadata": {}
        }
      ]
    },
    {
      "cell_type": "markdown",
      "source": [
        "Podemos observar que nosso chute foi até bom, mas como saber o quão errado estamos?\n",
        "\n",
        "E só para exercício, qual seria o valor de **a** e **b** ideal?"
      ],
      "metadata": {
        "id": "AL4UhTysIvT2"
      }
    },
    {
      "cell_type": "markdown",
      "source": [
        "# Loss Function"
      ],
      "metadata": {
        "id": "cAAZSvBEKeZZ"
      }
    },
    {
      "cell_type": "markdown",
      "source": [
        "A função de perda é a função que calcula a distância entre a saída atual do algoritmo e a saída esperada."
      ],
      "metadata": {
        "id": "sTlTmP3vKjJc"
      }
    },
    {
      "cell_type": "code",
      "source": [
        "#Qual é a distância do ponto da função que criamos para a real? Qual o erro?"
      ],
      "metadata": {
        "id": "eP6AHifqLO-d"
      },
      "execution_count": 115,
      "outputs": []
    },
    {
      "cell_type": "code",
      "source": [
        "y[:10]-y_hat[:10]"
      ],
      "metadata": {
        "colab": {
          "base_uri": "https://localhost:8080/"
        },
        "id": "z6LIes13LZlE",
        "outputId": "aabe0e22-8349-4796-f9c8-d0f9a5ad4f95"
      },
      "execution_count": 116,
      "outputs": [
        {
          "output_type": "execute_result",
          "data": {
            "text/plain": [
              "0     4.029812\n",
              "1    -4.215757\n",
              "2    -4.722960\n",
              "3     3.646485\n",
              "4     5.020513\n",
              "5   -12.626061\n",
              "6    -2.349163\n",
              "7   -11.411342\n",
              "8    -7.556860\n",
              "9    -2.751391\n",
              "Name: x, dtype: float64"
            ]
          },
          "metadata": {},
          "execution_count": 116
        }
      ]
    },
    {
      "cell_type": "code",
      "source": [
        "#Como o erro pode ser positivo e negativo, se somarmos tudo não teremos o valor real do erro\n",
        "#Mas podemos elevar ao quadrado o erro para tirar o sinal negativo e passar a raiz quadrada\n",
        "#Ex:\n",
        "np.power(y[:10]-y_hat[:10],2).mean()"
      ],
      "metadata": {
        "colab": {
          "base_uri": "https://localhost:8080/"
        },
        "id": "-dMyc1KWLY4t",
        "outputId": "5ccc7ecc-a0bf-4b98-bd82-8f1cccd9a752"
      },
      "execution_count": 117,
      "outputs": [
        {
          "output_type": "execute_result",
          "data": {
            "text/plain": [
              "45.46517526750325"
            ]
          },
          "metadata": {},
          "execution_count": 117
        }
      ]
    },
    {
      "cell_type": "markdown",
      "source": [
        "Por sorte, não precisamos ficar reinventando a roda.\n",
        "Podemos utilizar a biblioteca sklearn para realizar o cálculo do erro para nós."
      ],
      "metadata": {
        "id": "hItYd2IJNjHA"
      }
    },
    {
      "cell_type": "code",
      "source": [
        "from sklearn.metrics import mean_squared_error\n",
        "mean_squared_error(y[:10],y_hat[:10])"
      ],
      "metadata": {
        "colab": {
          "base_uri": "https://localhost:8080/"
        },
        "id": "Wc1oQ6etLzQa",
        "outputId": "f573e4aa-6d10-43fc-a1ef-f7b7f7c3edec"
      },
      "execution_count": 118,
      "outputs": [
        {
          "output_type": "execute_result",
          "data": {
            "text/plain": [
              "45.46517526750325"
            ]
          },
          "metadata": {},
          "execution_count": 118
        }
      ]
    },
    {
      "cell_type": "code",
      "source": [
        "#Calculando o erro para todos os nossos dados:\n",
        "mean_squared_error(y,y_hat)"
      ],
      "metadata": {
        "colab": {
          "base_uri": "https://localhost:8080/"
        },
        "id": "PpeLNFYSNvdA",
        "outputId": "120ae74e-93d0-4b1a-a2c8-e3247fb6a6a1"
      },
      "execution_count": 119,
      "outputs": [
        {
          "output_type": "execute_result",
          "data": {
            "text/plain": [
              "3359.530590655316"
            ]
          },
          "metadata": {},
          "execution_count": 119
        }
      ]
    },
    {
      "cell_type": "markdown",
      "source": [
        "Parece que nossa função não é muito boa para retornar as predições corretas 😞😞😞😞"
      ],
      "metadata": {
        "id": "TeIAX0ycN_P5"
      }
    },
    {
      "cell_type": "markdown",
      "source": [
        "#Utilizando inteligência artificial para treinar e responder qual é o melhor parâmetro para nossos coeficiêntes."
      ],
      "metadata": {
        "id": "9o1280I9Oc5R"
      }
    },
    {
      "cell_type": "code",
      "source": [
        "#Importando um regressor linear para predizer os coêficientes da reta.\n",
        "from sklearn.linear_model import LinearRegression"
      ],
      "metadata": {
        "id": "9ybEKDnxN-yp"
      },
      "execution_count": 120,
      "outputs": []
    },
    {
      "cell_type": "code",
      "source": [
        "# Já temos o x e y que obtivemos anteriormente:\n",
        "x,y"
      ],
      "metadata": {
        "colab": {
          "base_uri": "https://localhost:8080/"
        },
        "id": "d17ELGfCxLiO",
        "outputId": "598edd60-992d-4968-8162-a76dd2881295"
      },
      "execution_count": 121,
      "outputs": [
        {
          "output_type": "execute_result",
          "data": {
            "text/plain": [
              "(array([ 0,  1,  2,  3,  4,  5,  6,  7,  8,  9, 10, 11, 12, 13, 14, 15, 16,\n",
              "        17, 18, 19, 20, 21, 22, 23, 24, 25, 26, 27, 28, 29, 30, 31, 32, 33,\n",
              "        34, 35, 36, 37, 38, 39, 40, 41, 42, 43, 44, 45, 46, 47, 48, 49, 50,\n",
              "        51, 52, 53, 54, 55, 56, 57, 58, 59, 60, 61, 62, 63, 64, 65, 66, 67,\n",
              "        68, 69, 70, 71, 72, 73, 74, 75, 76, 77, 78, 79, 80, 81, 82, 83, 84,\n",
              "        85, 86, 87, 88, 89, 90, 91, 92, 93, 94, 95, 96, 97, 98, 99]),\n",
              " array([  5.02981224,   1.78424344,   6.27703952,  19.64648542,\n",
              "         26.02051261,  13.37393853,  28.65083731,  24.58865791,\n",
              "         33.44314032,  43.24860867,  43.26078506,  48.87068478,\n",
              "         47.93051606,  44.66286173,  61.80215252,  57.49022181,\n",
              "         75.72725396,  78.26755464,  77.53714736,  73.33094766,\n",
              "         89.0658466 ,  84.98649194,  94.06844871,  88.41979247,\n",
              "        106.8181365 , 110.07452068, 112.96898835, 114.13187932,\n",
              "        117.99753226, 112.67558559, 121.19133565, 127.01115114,\n",
              "        135.78046636, 138.87938288, 133.32738527, 141.95776466,\n",
              "        141.3340803 , 139.63425914, 152.02856907, 161.40771913,\n",
              "        166.98302528, 158.33728337, 169.40903661, 178.6157883 ,\n",
              "        185.60306698, 182.52508332, 185.3123377 , 192.7572132 ,\n",
              "        194.32841829, 190.03885311, 204.71348063, 208.39060228,\n",
              "        210.99471866, 205.76083296, 217.64755461, 224.8543284 ,\n",
              "        231.34106014, 225.70552352, 232.39662039, 234.76665827,\n",
              "        234.91339741, 239.82447049, 248.12961886, 246.19086448,\n",
              "        246.73613466, 267.80223978, 261.14762916, 268.76843791,\n",
              "        266.49216896, 272.64513321, 275.05304611, 286.37143043,\n",
              "        290.53514391, 291.8519395 , 303.24471226, 304.86995263,\n",
              "        305.07499855, 311.02509898, 314.59446122, 318.97542574,\n",
              "        315.87878685, 321.38707044, 325.6881166 , 330.73622435,\n",
              "        342.24391352, 329.67685276, 339.24632061, 348.0071006 ,\n",
              "        343.00221899, 354.2190598 , 359.00098907, 361.3309993 ,\n",
              "        359.83755327, 375.78868054, 383.88204218, 387.94948892,\n",
              "        377.71257792, 392.54635654, 393.79780491, 399.31791919]))"
            ]
          },
          "metadata": {},
          "execution_count": 121
        }
      ]
    },
    {
      "cell_type": "markdown",
      "source": [
        "## Qual o problema de utilizar todos os dados de x e y para treinar o algoritmo?\n",
        "\n"
      ],
      "metadata": {
        "id": "f7xImD8rxWQL"
      }
    },
    {
      "cell_type": "code",
      "source": [
        "linearRegression = LinearRegression()\n"
      ],
      "metadata": {
        "id": "MDY_jQOOxgFt"
      },
      "execution_count": 122,
      "outputs": []
    },
    {
      "cell_type": "code",
      "source": [
        "x.shape,y.shape"
      ],
      "metadata": {
        "colab": {
          "base_uri": "https://localhost:8080/"
        },
        "id": "tM-ulDWsxuok",
        "outputId": "03c2bcae-3871-4750-e353-9a372936e73c"
      },
      "execution_count": 123,
      "outputs": [
        {
          "output_type": "execute_result",
          "data": {
            "text/plain": [
              "((100,), (100,))"
            ]
          },
          "metadata": {},
          "execution_count": 123
        }
      ]
    },
    {
      "cell_type": "code",
      "source": [
        "#Qual o problema que dá usarmos desse jeito???\n",
        "#linearRegression.fit(x,y)"
      ],
      "metadata": {
        "id": "2FAV2dioySyp"
      },
      "execution_count": 124,
      "outputs": []
    },
    {
      "cell_type": "code",
      "source": [
        "#Esse shape indica que o x é um vetor de 100 posições mas o regressor linear espera que o x seja uma matriz\n",
        "x.shape"
      ],
      "metadata": {
        "colab": {
          "base_uri": "https://localhost:8080/"
        },
        "id": "dymGmPgqzMzc",
        "outputId": "c6626970-eff7-44b7-964b-179eea9b7554"
      },
      "execution_count": 125,
      "outputs": [
        {
          "output_type": "execute_result",
          "data": {
            "text/plain": [
              "(100,)"
            ]
          },
          "metadata": {},
          "execution_count": 125
        }
      ]
    },
    {
      "cell_type": "code",
      "source": [
        "#\n",
        "x"
      ],
      "metadata": {
        "colab": {
          "base_uri": "https://localhost:8080/"
        },
        "id": "E8TIl3MuzX6t",
        "outputId": "e6b8b4ea-3c53-48f8-987c-d8fdb4ffd81e"
      },
      "execution_count": 126,
      "outputs": [
        {
          "output_type": "execute_result",
          "data": {
            "text/plain": [
              "array([ 0,  1,  2,  3,  4,  5,  6,  7,  8,  9, 10, 11, 12, 13, 14, 15, 16,\n",
              "       17, 18, 19, 20, 21, 22, 23, 24, 25, 26, 27, 28, 29, 30, 31, 32, 33,\n",
              "       34, 35, 36, 37, 38, 39, 40, 41, 42, 43, 44, 45, 46, 47, 48, 49, 50,\n",
              "       51, 52, 53, 54, 55, 56, 57, 58, 59, 60, 61, 62, 63, 64, 65, 66, 67,\n",
              "       68, 69, 70, 71, 72, 73, 74, 75, 76, 77, 78, 79, 80, 81, 82, 83, 84,\n",
              "       85, 86, 87, 88, 89, 90, 91, 92, 93, 94, 95, 96, 97, 98, 99])"
            ]
          },
          "metadata": {},
          "execution_count": 126
        }
      ]
    },
    {
      "cell_type": "code",
      "source": [
        "#Usamos a função reshape para criar uma matriz de 100 linhas por 1 coluna.\n",
        "x.reshape(100,1)"
      ],
      "metadata": {
        "colab": {
          "base_uri": "https://localhost:8080/"
        },
        "id": "ci_LzYQszSeD",
        "outputId": "3f7066e6-2eee-40d2-8149-f90b0d7c7114"
      },
      "execution_count": 127,
      "outputs": [
        {
          "output_type": "execute_result",
          "data": {
            "text/plain": [
              "array([[ 0],\n",
              "       [ 1],\n",
              "       [ 2],\n",
              "       [ 3],\n",
              "       [ 4],\n",
              "       [ 5],\n",
              "       [ 6],\n",
              "       [ 7],\n",
              "       [ 8],\n",
              "       [ 9],\n",
              "       [10],\n",
              "       [11],\n",
              "       [12],\n",
              "       [13],\n",
              "       [14],\n",
              "       [15],\n",
              "       [16],\n",
              "       [17],\n",
              "       [18],\n",
              "       [19],\n",
              "       [20],\n",
              "       [21],\n",
              "       [22],\n",
              "       [23],\n",
              "       [24],\n",
              "       [25],\n",
              "       [26],\n",
              "       [27],\n",
              "       [28],\n",
              "       [29],\n",
              "       [30],\n",
              "       [31],\n",
              "       [32],\n",
              "       [33],\n",
              "       [34],\n",
              "       [35],\n",
              "       [36],\n",
              "       [37],\n",
              "       [38],\n",
              "       [39],\n",
              "       [40],\n",
              "       [41],\n",
              "       [42],\n",
              "       [43],\n",
              "       [44],\n",
              "       [45],\n",
              "       [46],\n",
              "       [47],\n",
              "       [48],\n",
              "       [49],\n",
              "       [50],\n",
              "       [51],\n",
              "       [52],\n",
              "       [53],\n",
              "       [54],\n",
              "       [55],\n",
              "       [56],\n",
              "       [57],\n",
              "       [58],\n",
              "       [59],\n",
              "       [60],\n",
              "       [61],\n",
              "       [62],\n",
              "       [63],\n",
              "       [64],\n",
              "       [65],\n",
              "       [66],\n",
              "       [67],\n",
              "       [68],\n",
              "       [69],\n",
              "       [70],\n",
              "       [71],\n",
              "       [72],\n",
              "       [73],\n",
              "       [74],\n",
              "       [75],\n",
              "       [76],\n",
              "       [77],\n",
              "       [78],\n",
              "       [79],\n",
              "       [80],\n",
              "       [81],\n",
              "       [82],\n",
              "       [83],\n",
              "       [84],\n",
              "       [85],\n",
              "       [86],\n",
              "       [87],\n",
              "       [88],\n",
              "       [89],\n",
              "       [90],\n",
              "       [91],\n",
              "       [92],\n",
              "       [93],\n",
              "       [94],\n",
              "       [95],\n",
              "       [96],\n",
              "       [97],\n",
              "       [98],\n",
              "       [99]])"
            ]
          },
          "metadata": {},
          "execution_count": 127
        }
      ]
    },
    {
      "cell_type": "code",
      "source": [
        "# como não precisamos saber quantas linhas o x terá, podemos utilizar o valor -1 para colocar quantas forem necessárias.\n",
        "x.reshape(-1,1)"
      ],
      "metadata": {
        "colab": {
          "base_uri": "https://localhost:8080/"
        },
        "id": "BsuK8zOcyYkh",
        "outputId": "f291e882-bcbc-4de8-b09c-83350177b96a"
      },
      "execution_count": 128,
      "outputs": [
        {
          "output_type": "execute_result",
          "data": {
            "text/plain": [
              "array([[ 0],\n",
              "       [ 1],\n",
              "       [ 2],\n",
              "       [ 3],\n",
              "       [ 4],\n",
              "       [ 5],\n",
              "       [ 6],\n",
              "       [ 7],\n",
              "       [ 8],\n",
              "       [ 9],\n",
              "       [10],\n",
              "       [11],\n",
              "       [12],\n",
              "       [13],\n",
              "       [14],\n",
              "       [15],\n",
              "       [16],\n",
              "       [17],\n",
              "       [18],\n",
              "       [19],\n",
              "       [20],\n",
              "       [21],\n",
              "       [22],\n",
              "       [23],\n",
              "       [24],\n",
              "       [25],\n",
              "       [26],\n",
              "       [27],\n",
              "       [28],\n",
              "       [29],\n",
              "       [30],\n",
              "       [31],\n",
              "       [32],\n",
              "       [33],\n",
              "       [34],\n",
              "       [35],\n",
              "       [36],\n",
              "       [37],\n",
              "       [38],\n",
              "       [39],\n",
              "       [40],\n",
              "       [41],\n",
              "       [42],\n",
              "       [43],\n",
              "       [44],\n",
              "       [45],\n",
              "       [46],\n",
              "       [47],\n",
              "       [48],\n",
              "       [49],\n",
              "       [50],\n",
              "       [51],\n",
              "       [52],\n",
              "       [53],\n",
              "       [54],\n",
              "       [55],\n",
              "       [56],\n",
              "       [57],\n",
              "       [58],\n",
              "       [59],\n",
              "       [60],\n",
              "       [61],\n",
              "       [62],\n",
              "       [63],\n",
              "       [64],\n",
              "       [65],\n",
              "       [66],\n",
              "       [67],\n",
              "       [68],\n",
              "       [69],\n",
              "       [70],\n",
              "       [71],\n",
              "       [72],\n",
              "       [73],\n",
              "       [74],\n",
              "       [75],\n",
              "       [76],\n",
              "       [77],\n",
              "       [78],\n",
              "       [79],\n",
              "       [80],\n",
              "       [81],\n",
              "       [82],\n",
              "       [83],\n",
              "       [84],\n",
              "       [85],\n",
              "       [86],\n",
              "       [87],\n",
              "       [88],\n",
              "       [89],\n",
              "       [90],\n",
              "       [91],\n",
              "       [92],\n",
              "       [93],\n",
              "       [94],\n",
              "       [95],\n",
              "       [96],\n",
              "       [97],\n",
              "       [98],\n",
              "       [99]])"
            ]
          },
          "metadata": {},
          "execution_count": 128
        }
      ]
    },
    {
      "cell_type": "code",
      "source": [
        "#Por fim, criamos o regressor linear com os valores de x e y.\n",
        "linearRegression.fit(x.reshape(-1,1),y)"
      ],
      "metadata": {
        "colab": {
          "base_uri": "https://localhost:8080/",
          "height": 75
        },
        "id": "i_cB1FvXy5cj",
        "outputId": "4c04367f-7350-4d70-97ae-25d3b051da6b"
      },
      "execution_count": 129,
      "outputs": [
        {
          "output_type": "execute_result",
          "data": {
            "text/plain": [
              "LinearRegression()"
            ],
            "text/html": [
              "<style>#sk-container-id-4 {color: black;background-color: white;}#sk-container-id-4 pre{padding: 0;}#sk-container-id-4 div.sk-toggleable {background-color: white;}#sk-container-id-4 label.sk-toggleable__label {cursor: pointer;display: block;width: 100%;margin-bottom: 0;padding: 0.3em;box-sizing: border-box;text-align: center;}#sk-container-id-4 label.sk-toggleable__label-arrow:before {content: \"▸\";float: left;margin-right: 0.25em;color: #696969;}#sk-container-id-4 label.sk-toggleable__label-arrow:hover:before {color: black;}#sk-container-id-4 div.sk-estimator:hover label.sk-toggleable__label-arrow:before {color: black;}#sk-container-id-4 div.sk-toggleable__content {max-height: 0;max-width: 0;overflow: hidden;text-align: left;background-color: #f0f8ff;}#sk-container-id-4 div.sk-toggleable__content pre {margin: 0.2em;color: black;border-radius: 0.25em;background-color: #f0f8ff;}#sk-container-id-4 input.sk-toggleable__control:checked~div.sk-toggleable__content {max-height: 200px;max-width: 100%;overflow: auto;}#sk-container-id-4 input.sk-toggleable__control:checked~label.sk-toggleable__label-arrow:before {content: \"▾\";}#sk-container-id-4 div.sk-estimator input.sk-toggleable__control:checked~label.sk-toggleable__label {background-color: #d4ebff;}#sk-container-id-4 div.sk-label input.sk-toggleable__control:checked~label.sk-toggleable__label {background-color: #d4ebff;}#sk-container-id-4 input.sk-hidden--visually {border: 0;clip: rect(1px 1px 1px 1px);clip: rect(1px, 1px, 1px, 1px);height: 1px;margin: -1px;overflow: hidden;padding: 0;position: absolute;width: 1px;}#sk-container-id-4 div.sk-estimator {font-family: monospace;background-color: #f0f8ff;border: 1px dotted black;border-radius: 0.25em;box-sizing: border-box;margin-bottom: 0.5em;}#sk-container-id-4 div.sk-estimator:hover {background-color: #d4ebff;}#sk-container-id-4 div.sk-parallel-item::after {content: \"\";width: 100%;border-bottom: 1px solid gray;flex-grow: 1;}#sk-container-id-4 div.sk-label:hover label.sk-toggleable__label {background-color: #d4ebff;}#sk-container-id-4 div.sk-serial::before {content: \"\";position: absolute;border-left: 1px solid gray;box-sizing: border-box;top: 0;bottom: 0;left: 50%;z-index: 0;}#sk-container-id-4 div.sk-serial {display: flex;flex-direction: column;align-items: center;background-color: white;padding-right: 0.2em;padding-left: 0.2em;position: relative;}#sk-container-id-4 div.sk-item {position: relative;z-index: 1;}#sk-container-id-4 div.sk-parallel {display: flex;align-items: stretch;justify-content: center;background-color: white;position: relative;}#sk-container-id-4 div.sk-item::before, #sk-container-id-4 div.sk-parallel-item::before {content: \"\";position: absolute;border-left: 1px solid gray;box-sizing: border-box;top: 0;bottom: 0;left: 50%;z-index: -1;}#sk-container-id-4 div.sk-parallel-item {display: flex;flex-direction: column;z-index: 1;position: relative;background-color: white;}#sk-container-id-4 div.sk-parallel-item:first-child::after {align-self: flex-end;width: 50%;}#sk-container-id-4 div.sk-parallel-item:last-child::after {align-self: flex-start;width: 50%;}#sk-container-id-4 div.sk-parallel-item:only-child::after {width: 0;}#sk-container-id-4 div.sk-dashed-wrapped {border: 1px dashed gray;margin: 0 0.4em 0.5em 0.4em;box-sizing: border-box;padding-bottom: 0.4em;background-color: white;}#sk-container-id-4 div.sk-label label {font-family: monospace;font-weight: bold;display: inline-block;line-height: 1.2em;}#sk-container-id-4 div.sk-label-container {text-align: center;}#sk-container-id-4 div.sk-container {/* jupyter's `normalize.less` sets `[hidden] { display: none; }` but bootstrap.min.css set `[hidden] { display: none !important; }` so we also need the `!important` here to be able to override the default hidden behavior on the sphinx rendered scikit-learn.org. See: https://github.com/scikit-learn/scikit-learn/issues/21755 */display: inline-block !important;position: relative;}#sk-container-id-4 div.sk-text-repr-fallback {display: none;}</style><div id=\"sk-container-id-4\" class=\"sk-top-container\"><div class=\"sk-text-repr-fallback\"><pre>LinearRegression()</pre><b>In a Jupyter environment, please rerun this cell to show the HTML representation or trust the notebook. <br />On GitHub, the HTML representation is unable to render, please try loading this page with nbviewer.org.</b></div><div class=\"sk-container\" hidden><div class=\"sk-item\"><div class=\"sk-estimator sk-toggleable\"><input class=\"sk-toggleable__control sk-hidden--visually\" id=\"sk-estimator-id-4\" type=\"checkbox\" checked><label for=\"sk-estimator-id-4\" class=\"sk-toggleable__label sk-toggleable__label-arrow\">LinearRegression</label><div class=\"sk-toggleable__content\"><pre>LinearRegression()</pre></div></div></div></div></div>"
            ]
          },
          "metadata": {},
          "execution_count": 129
        }
      ]
    },
    {
      "cell_type": "code",
      "source": [
        "# O algoritmo foi capaz de aprender os parâmetros ideais para a reta, agora podemos analisar o coeficiente angular e o ponto de intersecção da mesma.\n",
        "\n",
        "linearRegression.coef_"
      ],
      "metadata": {
        "colab": {
          "base_uri": "https://localhost:8080/"
        },
        "id": "Tk9XX_s80v2q",
        "outputId": "db5aa976-3638-4adb-9508-7c740bbc3b68"
      },
      "execution_count": 130,
      "outputs": [
        {
          "output_type": "execute_result",
          "data": {
            "text/plain": [
              "array([3.95280301])"
            ]
          },
          "metadata": {},
          "execution_count": 130
        }
      ]
    },
    {
      "cell_type": "code",
      "source": [
        "linearRegression.intercept_"
      ],
      "metadata": {
        "id": "Ta8JD6CX06Yk",
        "colab": {
          "base_uri": "https://localhost:8080/"
        },
        "outputId": "fdaf6c7c-1f05-49cf-d4d6-611e52d227ae"
      },
      "execution_count": 131,
      "outputs": [
        {
          "output_type": "execute_result",
          "data": {
            "text/plain": [
              "3.64305714291973"
            ]
          },
          "metadata": {},
          "execution_count": 131
        }
      ]
    },
    {
      "cell_type": "code",
      "source": [
        "y_predito = linearRegression.coef_*x + linearRegression.intercept_\n",
        "y_predito"
      ],
      "metadata": {
        "id": "PF5zT3MI2UJh",
        "colab": {
          "base_uri": "https://localhost:8080/"
        },
        "outputId": "2c64b1ea-5adb-4b62-cf20-de03c3bedd40"
      },
      "execution_count": 132,
      "outputs": [
        {
          "output_type": "execute_result",
          "data": {
            "text/plain": [
              "array([  3.64305714,   7.59586015,  11.54866316,  15.50146617,\n",
              "        19.45426918,  23.40707218,  27.35987519,  31.3126782 ,\n",
              "        35.26548121,  39.21828422,  43.17108722,  47.12389023,\n",
              "        51.07669324,  55.02949625,  58.98229926,  62.93510226,\n",
              "        66.88790527,  70.84070828,  74.79351129,  78.7463143 ,\n",
              "        82.6991173 ,  86.65192031,  90.60472332,  94.55752633,\n",
              "        98.51032934, 102.46313234, 106.41593535, 110.36873836,\n",
              "       114.32154137, 118.27434438, 122.22714738, 126.17995039,\n",
              "       130.1327534 , 134.08555641, 138.03835942, 141.99116243,\n",
              "       145.94396543, 149.89676844, 153.84957145, 157.80237446,\n",
              "       161.75517747, 165.70798047, 169.66078348, 173.61358649,\n",
              "       177.5663895 , 181.51919251, 185.47199551, 189.42479852,\n",
              "       193.37760153, 197.33040454, 201.28320755, 205.23601055,\n",
              "       209.18881356, 213.14161657, 217.09441958, 221.04722259,\n",
              "       225.00002559, 228.9528286 , 232.90563161, 236.85843462,\n",
              "       240.81123763, 244.76404063, 248.71684364, 252.66964665,\n",
              "       256.62244966, 260.57525267, 264.52805568, 268.48085868,\n",
              "       272.43366169, 276.3864647 , 280.33926771, 284.29207072,\n",
              "       288.24487372, 292.19767673, 296.15047974, 300.10328275,\n",
              "       304.05608576, 308.00888876, 311.96169177, 315.91449478,\n",
              "       319.86729779, 323.8201008 , 327.7729038 , 331.72570681,\n",
              "       335.67850982, 339.63131283, 343.58411584, 347.53691884,\n",
              "       351.48972185, 355.44252486, 359.39532787, 363.34813088,\n",
              "       367.30093389, 371.25373689, 375.2065399 , 379.15934291,\n",
              "       383.11214592, 387.06494893, 391.01775193, 394.97055494])"
            ]
          },
          "metadata": {},
          "execution_count": 132
        }
      ]
    },
    {
      "cell_type": "code",
      "source": [
        "plt.scatter(x,y,color=\"blue\", label=\"Real\")\n",
        "plt.plot(x,y_predito,color='red',label=\"Predito\")\n",
        "plt.legend()\n",
        "plt.show()"
      ],
      "metadata": {
        "colab": {
          "base_uri": "https://localhost:8080/",
          "height": 430
        },
        "id": "C9maCvFl2rhw",
        "outputId": "06781ef2-4753-4f6d-8343-6c2ccec9ed1b"
      },
      "execution_count": 133,
      "outputs": [
        {
          "output_type": "display_data",
          "data": {
            "text/plain": [
              "<Figure size 640x480 with 1 Axes>"
            ],
            "image/png": "[encoded data removed]"
          },
          "metadata": {}
        }
      ]
    },
    {
      "cell_type": "markdown",
      "source": [
        "[texto do link](https://)| **Parece que a reta aprendeu muito bem como representar os dados. Mas qual é o problema?**"
      ],
      "metadata": {
        "id": "qMAXMylN3ofR"
      }
    },
    {
      "cell_type": "code",
      "source": [
        "#Podemos utilizar o mean squared error para calcular o quao errado estamos.\n",
        "from sklearn.metrics import mean_squared_error"
      ],
      "metadata": {
        "id": "UnYxKg4E2xA-"
      },
      "execution_count": 134,
      "outputs": []
    },
    {
      "cell_type": "code",
      "source": [
        "y_hat = linearRegression.predict(x.reshape(-1,1))"
      ],
      "metadata": {
        "id": "WCMZg2b84LxV"
      },
      "execution_count": 135,
      "outputs": []
    },
    {
      "cell_type": "code",
      "source": [
        "mean_squared_error(y,y_hat)"
      ],
      "metadata": {
        "colab": {
          "base_uri": "https://localhost:8080/"
        },
        "id": "9ShxWNMG4UxD",
        "outputId": "b06dfcc8-4b30-425b-d5f7-196ed47247f5"
      },
      "execution_count": 136,
      "outputs": [
        {
          "output_type": "execute_result",
          "data": {
            "text/plain": [
              "25.800360752788592"
            ]
          },
          "metadata": {},
          "execution_count": 136
        }
      ]
    },
    {
      "cell_type": "code",
      "source": [
        "#O problema é que nosso algoritmo está observando todos os dados do nosso conjunto e isso pode fazer com que o algoritmo aprenda apenas dados do nosso conjunto.\n",
        "#O melhor é separar nossos dados em uma parte para treinar o algoritmo e a outra para valiar se o algoritmo é bom ou não.\n",
        "from sklearn.model_selection import train_test_split"
      ],
      "metadata": {
        "id": "rOzRipMT4Z2s"
      },
      "execution_count": 137,
      "outputs": []
    },
    {
      "cell_type": "code",
      "source": [
        "x_train,x_test,y_train,y_test = train_test_split(x,y,test_size=0.3,shuffle=True)"
      ],
      "metadata": {
        "id": "6Btb4XP04q0e"
      },
      "execution_count": 138,
      "outputs": []
    },
    {
      "cell_type": "code",
      "source": [
        "linearRegression2 = LinearRegression()"
      ],
      "metadata": {
        "id": "c-Sm8Rjl4zL7"
      },
      "execution_count": 139,
      "outputs": []
    },
    {
      "cell_type": "code",
      "source": [
        "linearRegression2.fit(x_train.reshape(-1,1),y_train)"
      ],
      "metadata": {
        "id": "m65EDq9140Wb",
        "colab": {
          "base_uri": "https://localhost:8080/",
          "height": 75
        },
        "outputId": "0193259b-7c61-4ddd-ac59-d7e577dbb721"
      },
      "execution_count": 140,
      "outputs": [
        {
          "output_type": "execute_result",
          "data": {
            "text/plain": [
              "LinearRegression()"
            ],
            "text/html": [
              "<style>#sk-container-id-5 {color: black;background-color: white;}#sk-container-id-5 pre{padding: 0;}#sk-container-id-5 div.sk-toggleable {background-color: white;}#sk-container-id-5 label.sk-toggleable__label {cursor: pointer;display: block;width: 100%;margin-bottom: 0;padding: 0.3em;box-sizing: border-box;text-align: center;}#sk-container-id-5 label.sk-toggleable__label-arrow:before {content: \"▸\";float: left;margin-right: 0.25em;color: #696969;}#sk-container-id-5 label.sk-toggleable__label-arrow:hover:before {color: black;}#sk-container-id-5 div.sk-estimator:hover label.sk-toggleable__label-arrow:before {color: black;}#sk-container-id-5 div.sk-toggleable__content {max-height: 0;max-width: 0;overflow: hidden;text-align: left;background-color: #f0f8ff;}#sk-container-id-5 div.sk-toggleable__content pre {margin: 0.2em;color: black;border-radius: 0.25em;background-color: #f0f8ff;}#sk-container-id-5 input.sk-toggleable__control:checked~div.sk-toggleable__content {max-height: 200px;max-width: 100%;overflow: auto;}#sk-container-id-5 input.sk-toggleable__control:checked~label.sk-toggleable__label-arrow:before {content: \"▾\";}#sk-container-id-5 div.sk-estimator input.sk-toggleable__control:checked~label.sk-toggleable__label {background-color: #d4ebff;}#sk-container-id-5 div.sk-label input.sk-toggleable__control:checked~label.sk-toggleable__label {background-color: #d4ebff;}#sk-container-id-5 input.sk-hidden--visually {border: 0;clip: rect(1px 1px 1px 1px);clip: rect(1px, 1px, 1px, 1px);height: 1px;margin: -1px;overflow: hidden;padding: 0;position: absolute;width: 1px;}#sk-container-id-5 div.sk-estimator {font-family: monospace;background-color: #f0f8ff;border: 1px dotted black;border-radius: 0.25em;box-sizing: border-box;margin-bottom: 0.5em;}#sk-container-id-5 div.sk-estimator:hover {background-color: #d4ebff;}#sk-container-id-5 div.sk-parallel-item::after {content: \"\";width: 100%;border-bottom: 1px solid gray;flex-grow: 1;}#sk-container-id-5 div.sk-label:hover label.sk-toggleable__label {background-color: #d4ebff;}#sk-container-id-5 div.sk-serial::before {content: \"\";position: absolute;border-left: 1px solid gray;box-sizing: border-box;top: 0;bottom: 0;left: 50%;z-index: 0;}#sk-container-id-5 div.sk-serial {display: flex;flex-direction: column;align-items: center;background-color: white;padding-right: 0.2em;padding-left: 0.2em;position: relative;}#sk-container-id-5 div.sk-item {position: relative;z-index: 1;}#sk-container-id-5 div.sk-parallel {display: flex;align-items: stretch;justify-content: center;background-color: white;position: relative;}#sk-container-id-5 div.sk-item::before, #sk-container-id-5 div.sk-parallel-item::before {content: \"\";position: absolute;border-left: 1px solid gray;box-sizing: border-box;top: 0;bottom: 0;left: 50%;z-index: -1;}#sk-container-id-5 div.sk-parallel-item {display: flex;flex-direction: column;z-index: 1;position: relative;background-color: white;}#sk-container-id-5 div.sk-parallel-item:first-child::after {align-self: flex-end;width: 50%;}#sk-container-id-5 div.sk-parallel-item:last-child::after {align-self: flex-start;width: 50%;}#sk-container-id-5 div.sk-parallel-item:only-child::after {width: 0;}#sk-container-id-5 div.sk-dashed-wrapped {border: 1px dashed gray;margin: 0 0.4em 0.5em 0.4em;box-sizing: border-box;padding-bottom: 0.4em;background-color: white;}#sk-container-id-5 div.sk-label label {font-family: monospace;font-weight: bold;display: inline-block;line-height: 1.2em;}#sk-container-id-5 div.sk-label-container {text-align: center;}#sk-container-id-5 div.sk-container {/* jupyter's `normalize.less` sets `[hidden] { display: none; }` but bootstrap.min.css set `[hidden] { display: none !important; }` so we also need the `!important` here to be able to override the default hidden behavior on the sphinx rendered scikit-learn.org. See: https://github.com/scikit-learn/scikit-learn/issues/21755 */display: inline-block !important;position: relative;}#sk-container-id-5 div.sk-text-repr-fallback {display: none;}</style><div id=\"sk-container-id-5\" class=\"sk-top-container\"><div class=\"sk-text-repr-fallback\"><pre>LinearRegression()</pre><b>In a Jupyter environment, please rerun this cell to show the HTML representation or trust the notebook. <br />On GitHub, the HTML representation is unable to render, please try loading this page with nbviewer.org.</b></div><div class=\"sk-container\" hidden><div class=\"sk-item\"><div class=\"sk-estimator sk-toggleable\"><input class=\"sk-toggleable__control sk-hidden--visually\" id=\"sk-estimator-id-5\" type=\"checkbox\" checked><label for=\"sk-estimator-id-5\" class=\"sk-toggleable__label sk-toggleable__label-arrow\">LinearRegression</label><div class=\"sk-toggleable__content\"><pre>LinearRegression()</pre></div></div></div></div></div>"
            ]
          },
          "metadata": {},
          "execution_count": 140
        }
      ]
    },
    {
      "cell_type": "code",
      "source": [
        "plt.scatter(x_train,y_train,color=\"red\")\n",
        "plt.scatter(x_test,y_test, color=\"blue\")\n",
        "plt.plot(x_test,linearRegression2.predict(x_test.reshape(-1,1)),color=\"Black\")"
      ],
      "metadata": {
        "colab": {
          "base_uri": "https://localhost:8080/",
          "height": 447
        },
        "id": "8G8ZuVbS4-UH",
        "outputId": "f30fdcfc-55c9-4385-c953-e80140224177"
      },
      "execution_count": 141,
      "outputs": [
        {
          "output_type": "execute_result",
          "data": {
            "text/plain": [
              "[<matplotlib.lines.Line2D at 0x7d948e0f5510>]"
            ]
          },
          "metadata": {},
          "execution_count": 141
        },
        {
          "output_type": "display_data",
          "data": {
            "text/plain": [
              "<Figure size 640x480 with 1 Axes>"
            ],
            "image/png": "[encoded data removed]"
          },
          "metadata": {}
        }
      ]
    },
    {
      "cell_type": "markdown",
      "source": [
        "# Aplicação Prática Regressão Linear"
      ],
      "metadata": {
        "id": "h257dcB6ooQF"
      }
    },
    {
      "cell_type": "markdown",
      "source": [
        "## 1 - IArpi Data Set\n",
        "\n",
        "#### Descrição geral:\n",
        "Três diferentes objetos são postos a se mover em um plano inclinado devido a ação da gravidade. Atributos cinemáticos do movimento dos corpos são coletados. Pretende-se estabelecer uma relação entre esses atributos e cada tipo de objeto.\n",
        "\n",
        "#### Objetivo:\n",
        "O problema consiste na predição da velocidade média de três objetos (esfera, cilindro e aro) a partir da sua altura inicial em um plano inclinado a um determinado ângulo. O objetivo é introduzir técnicas de IA para cursos de graduação de física onde o experimento do plano inclinado é amplamente estudado (de maneira teórica e em laboratório).\n",
        "\n",
        "\n",
        "#### Features (variáveis de entrada):\n",
        "As features foram determinadas experimentalmente:\n",
        "- Ângulo: ângulo de inclinação do plano [°]\n",
        "- Altura: de partida do objeto [m]\n",
        "- Tipo de objeto (esfera, cilindro, aro)\n",
        "\n",
        "#### Alvo (valor de saída):\n",
        "- Velocidade Média: velocidade média determinada pela distância/tempo [m/s]\n",
        "\n",
        "#### Referências:\n",
        "- https://github.com/simcomat/IArpi\n",
        "- Ferreira, H., Almeida Junior, E. F., Espinosa-García, W., Novais, E., Rodrigues, J. N. B., & Dalpian, G. M. (2022). Introduzindo aprendizado de máquina em cursos de física: o caso do rolamento no plano inclinado. In Revista Brasileira de Ensino de Física (Vol. 44). FapUNIFESP (SciELO). https://doi.org/10.1590/1806-9126-rbef-2022-0214"
      ],
      "metadata": {
        "id": "y0oatVlIol7X"
      }
    },
    {
      "cell_type": "markdown",
      "source": [
        "### Carregando os dados"
      ],
      "metadata": {
        "id": "SKTXWu-apMpI"
      }
    },
    {
      "cell_type": "code",
      "source": [
        "tabela_dados = pd.read_csv('https://raw.githubusercontent.com/simcomat/IArpi/main/datasets/rolling.csv', sep=';')"
      ],
      "metadata": {
        "id": "9kCdYun8pMGu"
      },
      "execution_count": 142,
      "outputs": []
    },
    {
      "cell_type": "code",
      "source": [
        "tabela_dados.head()"
      ],
      "metadata": {
        "colab": {
          "base_uri": "https://localhost:8080/",
          "height": 206
        },
        "id": "6f-KMaOmpPUP",
        "outputId": "df2237f0-99f6-409b-8fc0-88cb5c9338b7"
      },
      "execution_count": 143,
      "outputs": [
        {
          "output_type": "execute_result",
          "data": {
            "text/plain": [
              "   Objeto  Ângulo (°)  Distancia (m)  Altura (m)  Tempo (s)  \\\n",
              "0  esfera        7.73            1.0    0.134505       1.33   \n",
              "1  esfera        7.73            1.0    0.134505       1.49   \n",
              "2  esfera        7.73            1.0    0.134505       1.49   \n",
              "3  esfera        7.73            1.0    0.134505       1.40   \n",
              "4  esfera        7.73            1.0    0.134505       1.31   \n",
              "\n",
              "   Velocidade Média (m/s)  \n",
              "0                0.751880  \n",
              "1                0.671141  \n",
              "2                0.671141  \n",
              "3                0.714286  \n",
              "4                0.763359  "
            ],
            "text/html": [
              "\n",
              "  <div id=\"df-fc72eb4d-7b6e-483e-851b-f7ed0248a859\" class=\"colab-df-container\">\n",
              "    <div>\n",
              "<style scoped>\n",
              "    .dataframe tbody tr th:only-of-type {\n",
              "        vertical-align: middle;\n",
              "    }\n",
              "\n",
              "    .dataframe tbody tr th {\n",
              "        vertical-align: top;\n",
              "    }\n",
              "\n",
              "    .dataframe thead th {\n",
              "        text-align: right;\n",
              "    }\n",
              "</style>\n",
              "<table border=\"1\" class=\"dataframe\">\n",
              "  <thead>\n",
              "    <tr style=\"text-align: right;\">\n",
              "      <th></th>\n",
              "      <th>Objeto</th>\n",
              "      <th>Ângulo (°)</th>\n",
              "      <th>Distancia (m)</th>\n",
              "      <th>Altura (m)</th>\n",
              "      <th>Tempo (s)</th>\n",
              "      <th>Velocidade Média (m/s)</th>\n",
              "    </tr>\n",
              "  </thead>\n",
              "  <tbody>\n",
              "    <tr>\n",
              "      <th>0</th>\n",
              "      <td>esfera</td>\n",
              "      <td>7.73</td>\n",
              "      <td>1.0</td>\n",
              "      <td>0.134505</td>\n",
              "      <td>1.33</td>\n",
              "      <td>0.751880</td>\n",
              "    </tr>\n",
              "    <tr>\n",
              "      <th>1</th>\n",
              "      <td>esfera</td>\n",
              "      <td>7.73</td>\n",
              "      <td>1.0</td>\n",
              "      <td>0.134505</td>\n",
              "      <td>1.49</td>\n",
              "      <td>0.671141</td>\n",
              "    </tr>\n",
              "    <tr>\n",
              "      <th>2</th>\n",
              "      <td>esfera</td>\n",
              "      <td>7.73</td>\n",
              "      <td>1.0</td>\n",
              "      <td>0.134505</td>\n",
              "      <td>1.49</td>\n",
              "      <td>0.671141</td>\n",
              "    </tr>\n",
              "    <tr>\n",
              "      <th>3</th>\n",
              "      <td>esfera</td>\n",
              "      <td>7.73</td>\n",
              "      <td>1.0</td>\n",
              "      <td>0.134505</td>\n",
              "      <td>1.40</td>\n",
              "      <td>0.714286</td>\n",
              "    </tr>\n",
              "    <tr>\n",
              "      <th>4</th>\n",
              "      <td>esfera</td>\n",
              "      <td>7.73</td>\n",
              "      <td>1.0</td>\n",
              "      <td>0.134505</td>\n",
              "      <td>1.31</td>\n",
              "      <td>0.763359</td>\n",
              "    </tr>\n",
              "  </tbody>\n",
              "</table>\n",
              "</div>\n",
              "    <div class=\"colab-df-buttons\">\n",
              "\n",
              "  <div class=\"colab-df-container\">\n",
              "    <button class=\"colab-df-convert\" onclick=\"convertToInteractive('df-fc72eb4d-7b6e-483e-851b-f7ed0248a859')\"\n",
              "            title=\"Convert this dataframe to an interactive table.\"\n",
              "            style=\"display:none;\">\n",
              "\n",
              "  <svg xmlns=\"http://www.w3.org/2000/svg\" height=\"24px\" viewBox=\"0 -960 960 960\">\n",
              "    <path d=\"M120-120v-720h720v720H120Zm60-500h600v-160H180v160Zm220 220h160v-160H400v160Zm0 220h160v-160H400v160ZM180-400h160v-160H180v160Zm440 0h160v-160H620v160ZM180-180h160v-160H180v160Zm440 0h160v-160H620v160Z\"/>\n",
              "  </svg>\n",
              "    </button>\n",
              "\n",
              "  <style>\n",
              "    .colab-df-container {\n",
              "      display:flex;\n",
              "      gap: 12px;\n",
              "    }\n",
              "\n",
              "    .colab-df-convert {\n",
              "      background-color: #E8F0FE;\n",
              "      border: none;\n",
              "      border-radius: 50%;\n",
              "      cursor: pointer;\n",
              "      display: none;\n",
              "      fill: #1967D2;\n",
              "      height: 32px;\n",
              "      padding: 0 0 0 0;\n",
              "      width: 32px;\n",
              "    }\n",
              "\n",
              "    .colab-df-convert:hover {\n",
              "      background-color: #E2EBFA;\n",
              "      box-shadow: 0px 1px 2px rgba(60, 64, 67, 0.3), 0px 1px 3px 1px rgba(60, 64, 67, 0.15);\n",
              "      fill: #174EA6;\n",
              "    }\n",
              "\n",
              "    .colab-df-buttons div {\n",
              "      margin-bottom: 4px;\n",
              "    }\n",
              "\n",
              "    [theme=dark] .colab-df-convert {\n",
              "      background-color: #3B4455;\n",
              "      fill: #D2E3FC;\n",
              "    }\n",
              "\n",
              "    [theme=dark] .colab-df-convert:hover {\n",
              "      background-color: #434B5C;\n",
              "      box-shadow: 0px 1px 3px 1px rgba(0, 0, 0, 0.15);\n",
              "      filter: drop-shadow(0px 1px 2px rgba(0, 0, 0, 0.3));\n",
              "      fill: #FFFFFF;\n",
              "    }\n",
              "  </style>\n",
              "\n",
              "    <script>\n",
              "      const buttonEl =\n",
              "        document.querySelector('#df-fc72eb4d-7b6e-483e-851b-f7ed0248a859 button.colab-df-convert');\n",
              "      buttonEl.style.display =\n",
              "        google.colab.kernel.accessAllowed ? 'block' : 'none';\n",
              "\n",
              "      async function convertToInteractive(key) {\n",
              "        const element = document.querySelector('#df-fc72eb4d-7b6e-483e-851b-f7ed0248a859');\n",
              "        const dataTable =\n",
              "          await google.colab.kernel.invokeFunction('convertToInteractive',\n",
              "                                                    [key], {});\n",
              "        if (!dataTable) return;\n",
              "\n",
              "        const docLinkHtml = 'Like what you see? Visit the ' +\n",
              "          '<a target=\"_blank\" href=https://colab.research.google.com/notebooks/data_table.ipynb>data table notebook</a>'\n",
              "          + ' to learn more about interactive tables.';\n",
              "        element.innerHTML = '';\n",
              "        dataTable['output_type'] = 'display_data';\n",
              "        await google.colab.output.renderOutput(dataTable, element);\n",
              "        const docLink = document.createElement('div');\n",
              "        docLink.innerHTML = docLinkHtml;\n",
              "        element.appendChild(docLink);\n",
              "      }\n",
              "    </script>\n",
              "  </div>\n",
              "\n",
              "\n",
              "<div id=\"df-6db517ef-cf65-4459-bb69-a598077c1c07\">\n",
              "  <button class=\"colab-df-quickchart\" onclick=\"quickchart('df-6db517ef-cf65-4459-bb69-a598077c1c07')\"\n",
              "            title=\"Suggest charts.\"\n",
              "            style=\"display:none;\">\n",
              "\n",
              "<svg xmlns=\"http://www.w3.org/2000/svg\" height=\"24px\"viewBox=\"0 0 24 24\"\n",
              "     width=\"24px\">\n",
              "    <g>\n",
              "        <path d=\"M19 3H5c-1.1 0-2 .9-2 2v14c0 1.1.9 2 2 2h14c1.1 0 2-.9 2-2V5c0-1.1-.9-2-2-2zM9 17H7v-7h2v7zm4 0h-2V7h2v10zm4 0h-2v-4h2v4z\"/>\n",
              "    </g>\n",
              "</svg>\n",
              "  </button>\n",
              "\n",
              "<style>\n",
              "  .colab-df-quickchart {\n",
              "      --bg-color: #E8F0FE;\n",
              "      --fill-color: #1967D2;\n",
              "      --hover-bg-color: #E2EBFA;\n",
              "      --hover-fill-color: #174EA6;\n",
              "      --disabled-fill-color: #AAA;\n",
              "      --disabled-bg-color: #DDD;\n",
              "  }\n",
              "\n",
              "  [theme=dark] .colab-df-quickchart {\n",
              "      --bg-color: #3B4455;\n",
              "      --fill-color: #D2E3FC;\n",
              "      --hover-bg-color: #434B5C;\n",
              "      --hover-fill-color: #FFFFFF;\n",
              "      --disabled-bg-color: #3B4455;\n",
              "      --disabled-fill-color: #666;\n",
              "  }\n",
              "\n",
              "  .colab-df-quickchart {\n",
              "    background-color: var(--bg-color);\n",
              "    border: none;\n",
              "    border-radius: 50%;\n",
              "    cursor: pointer;\n",
              "    display: none;\n",
              "    fill: var(--fill-color);\n",
              "    height: 32px;\n",
              "    padding: 0;\n",
              "    width: 32px;\n",
              "  }\n",
              "\n",
              "  .colab-df-quickchart:hover {\n",
              "    background-color: var(--hover-bg-color);\n",
              "    box-shadow: 0 1px 2px rgba(60, 64, 67, 0.3), 0 1px 3px 1px rgba(60, 64, 67, 0.15);\n",
              "    fill: var(--button-hover-fill-color);\n",
              "  }\n",
              "\n",
              "  .colab-df-quickchart-complete:disabled,\n",
              "  .colab-df-quickchart-complete:disabled:hover {\n",
              "    background-color: var(--disabled-bg-color);\n",
              "    fill: var(--disabled-fill-color);\n",
              "    box-shadow: none;\n",
              "  }\n",
              "\n",
              "  .colab-df-spinner {\n",
              "    border: 2px solid var(--fill-color);\n",
              "    border-color: transparent;\n",
              "    border-bottom-color: var(--fill-color);\n",
              "    animation:\n",
              "      spin 1s steps(1) infinite;\n",
              "  }\n",
              "\n",
              "  @keyframes spin {\n",
              "    0% {\n",
              "      border-color: transparent;\n",
              "      border-bottom-color: var(--fill-color);\n",
              "      border-left-color: var(--fill-color);\n",
              "    }\n",
              "    20% {\n",
              "      border-color: transparent;\n",
              "      border-left-color: var(--fill-color);\n",
              "      border-top-color: var(--fill-color);\n",
              "    }\n",
              "    30% {\n",
              "      border-color: transparent;\n",
              "      border-left-color: var(--fill-color);\n",
              "      border-top-color: var(--fill-color);\n",
              "      border-right-color: var(--fill-color);\n",
              "    }\n",
              "    40% {\n",
              "      border-color: transparent;\n",
              "      border-right-color: var(--fill-color);\n",
              "      border-top-color: var(--fill-color);\n",
              "    }\n",
              "    60% {\n",
              "      border-color: transparent;\n",
              "      border-right-color: var(--fill-color);\n",
              "    }\n",
              "    80% {\n",
              "      border-color: transparent;\n",
              "      border-right-color: var(--fill-color);\n",
              "      border-bottom-color: var(--fill-color);\n",
              "    }\n",
              "    90% {\n",
              "      border-color: transparent;\n",
              "      border-bottom-color: var(--fill-color);\n",
              "    }\n",
              "  }\n",
              "</style>\n",
              "\n",
              "  <script>\n",
              "    async function quickchart(key) {\n",
              "      const quickchartButtonEl =\n",
              "        document.querySelector('#' + key + ' button');\n",
              "      quickchartButtonEl.disabled = true;  // To prevent multiple clicks.\n",
              "      quickchartButtonEl.classList.add('colab-df-spinner');\n",
              "      try {\n",
              "        const charts = await google.colab.kernel.invokeFunction(\n",
              "            'suggestCharts', [key], {});\n",
              "      } catch (error) {\n",
              "        console.error('Error during call to suggestCharts:', error);\n",
              "      }\n",
              "      quickchartButtonEl.classList.remove('colab-df-spinner');\n",
              "      quickchartButtonEl.classList.add('colab-df-quickchart-complete');\n",
              "    }\n",
              "    (() => {\n",
              "      let quickchartButtonEl =\n",
              "        document.querySelector('#df-6db517ef-cf65-4459-bb69-a598077c1c07 button');\n",
              "      quickchartButtonEl.style.display =\n",
              "        google.colab.kernel.accessAllowed ? 'block' : 'none';\n",
              "    })();\n",
              "  </script>\n",
              "</div>\n",
              "    </div>\n",
              "  </div>\n"
            ]
          },
          "metadata": {},
          "execution_count": 143
        }
      ]
    },
    {
      "cell_type": "markdown",
      "source": [
        "### 1 - Segundo passo: separação de dados\n",
        "\n",
        "Os algoritmos de regressão não estão preparados para receber um nome (string) como entrada. Então, apenas fornecer o nome do objeto (esfera, cilindro, aro) para o modelo não irá funcionar. Precisamos primeiro converter esses nomes em uma representação numérica. Para isso vamos usar o **OneHot Encoding**. Nessa representação, cada valor do atributo objeto torna-se uma característica única (feature). Para 3 valores de objetos teremos 3 novas colunas com valores binários (verdadeiro ou falso, 1 ou 0) representando cada objeto, por exemplo, se seguirmos (esfera, cilindro, aro) uma esfera será representada pela tupla (1,0,0) enquanto um aro será por (0,0,1). Fisicamente, misturas não seriam possiveis como uma esfera-aro (1,0,1), mas em outras situações essa técnica pode ser usada para representar a presença de mais um objeto (como duas palavras diferentes em uma mesma frase)."
      ],
      "metadata": {
        "id": "WIO2DCntpv9-"
      }
    },
    {
      "cell_type": "code",
      "source": [
        "ohe = pd.get_dummies(tabela_dados.Objeto, prefix='objeto') # One hot encoding\n",
        "tabela_dados = tabela_dados.join(ohe)"
      ],
      "metadata": {
        "id": "StR8Ntsfp_Se"
      },
      "execution_count": 144,
      "outputs": []
    },
    {
      "cell_type": "code",
      "source": [
        "tabela_dados.head()"
      ],
      "metadata": {
        "colab": {
          "base_uri": "https://localhost:8080/",
          "height": 224
        },
        "id": "oF92mUvkqHQx",
        "outputId": "28a83be1-bfa6-4887-f09a-6ec1c308e9d2"
      },
      "execution_count": 145,
      "outputs": [
        {
          "output_type": "execute_result",
          "data": {
            "text/plain": [
              "   Objeto  Ângulo (°)  Distancia (m)  Altura (m)  Tempo (s)  \\\n",
              "0  esfera        7.73            1.0    0.134505       1.33   \n",
              "1  esfera        7.73            1.0    0.134505       1.49   \n",
              "2  esfera        7.73            1.0    0.134505       1.49   \n",
              "3  esfera        7.73            1.0    0.134505       1.40   \n",
              "4  esfera        7.73            1.0    0.134505       1.31   \n",
              "\n",
              "   Velocidade Média (m/s)  objeto_aro  objeto_cilindro  objeto_esfera  \n",
              "0                0.751880           0                0              1  \n",
              "1                0.671141           0                0              1  \n",
              "2                0.671141           0                0              1  \n",
              "3                0.714286           0                0              1  \n",
              "4                0.763359           0                0              1  "
            ],
            "text/html": [
              "\n",
              "  <div id=\"df-296f763c-7a90-4f13-9159-0fbf060d04ff\" class=\"colab-df-container\">\n",
              "    <div>\n",
              "<style scoped>\n",
              "    .dataframe tbody tr th:only-of-type {\n",
              "        vertical-align: middle;\n",
              "    }\n",
              "\n",
              "    .dataframe tbody tr th {\n",
              "        vertical-align: top;\n",
              "    }\n",
              "\n",
              "    .dataframe thead th {\n",
              "        text-align: right;\n",
              "    }\n",
              "</style>\n",
              "<table border=\"1\" class=\"dataframe\">\n",
              "  <thead>\n",
              "    <tr style=\"text-align: right;\">\n",
              "      <th></th>\n",
              "      <th>Objeto</th>\n",
              "      <th>Ângulo (°)</th>\n",
              "      <th>Distancia (m)</th>\n",
              "      <th>Altura (m)</th>\n",
              "      <th>Tempo (s)</th>\n",
              "      <th>Velocidade Média (m/s)</th>\n",
              "      <th>objeto_aro</th>\n",
              "      <th>objeto_cilindro</th>\n",
              "      <th>objeto_esfera</th>\n",
              "    </tr>\n",
              "  </thead>\n",
              "  <tbody>\n",
              "    <tr>\n",
              "      <th>0</th>\n",
              "      <td>esfera</td>\n",
              "      <td>7.73</td>\n",
              "      <td>1.0</td>\n",
              "      <td>0.134505</td>\n",
              "      <td>1.33</td>\n",
              "      <td>0.751880</td>\n",
              "      <td>0</td>\n",
              "      <td>0</td>\n",
              "      <td>1</td>\n",
              "    </tr>\n",
              "    <tr>\n",
              "      <th>1</th>\n",
              "      <td>esfera</td>\n",
              "      <td>7.73</td>\n",
              "      <td>1.0</td>\n",
              "      <td>0.134505</td>\n",
              "      <td>1.49</td>\n",
              "      <td>0.671141</td>\n",
              "      <td>0</td>\n",
              "      <td>0</td>\n",
              "      <td>1</td>\n",
              "    </tr>\n",
              "    <tr>\n",
              "      <th>2</th>\n",
              "      <td>esfera</td>\n",
              "      <td>7.73</td>\n",
              "      <td>1.0</td>\n",
              "      <td>0.134505</td>\n",
              "      <td>1.49</td>\n",
              "      <td>0.671141</td>\n",
              "      <td>0</td>\n",
              "      <td>0</td>\n",
              "      <td>1</td>\n",
              "    </tr>\n",
              "    <tr>\n",
              "      <th>3</th>\n",
              "      <td>esfera</td>\n",
              "      <td>7.73</td>\n",
              "      <td>1.0</td>\n",
              "      <td>0.134505</td>\n",
              "      <td>1.40</td>\n",
              "      <td>0.714286</td>\n",
              "      <td>0</td>\n",
              "      <td>0</td>\n",
              "      <td>1</td>\n",
              "    </tr>\n",
              "    <tr>\n",
              "      <th>4</th>\n",
              "      <td>esfera</td>\n",
              "      <td>7.73</td>\n",
              "      <td>1.0</td>\n",
              "      <td>0.134505</td>\n",
              "      <td>1.31</td>\n",
              "      <td>0.763359</td>\n",
              "      <td>0</td>\n",
              "      <td>0</td>\n",
              "      <td>1</td>\n",
              "    </tr>\n",
              "  </tbody>\n",
              "</table>\n",
              "</div>\n",
              "    <div class=\"colab-df-buttons\">\n",
              "\n",
              "  <div class=\"colab-df-container\">\n",
              "    <button class=\"colab-df-convert\" onclick=\"convertToInteractive('df-296f763c-7a90-4f13-9159-0fbf060d04ff')\"\n",
              "            title=\"Convert this dataframe to an interactive table.\"\n",
              "            style=\"display:none;\">\n",
              "\n",
              "  <svg xmlns=\"http://www.w3.org/2000/svg\" height=\"24px\" viewBox=\"0 -960 960 960\">\n",
              "    <path d=\"M120-120v-720h720v720H120Zm60-500h600v-160H180v160Zm220 220h160v-160H400v160Zm0 220h160v-160H400v160ZM180-400h160v-160H180v160Zm440 0h160v-160H620v160ZM180-180h160v-160H180v160Zm440 0h160v-160H620v160Z\"/>\n",
              "  </svg>\n",
              "    </button>\n",
              "\n",
              "  <style>\n",
              "    .colab-df-container {\n",
              "      display:flex;\n",
              "      gap: 12px;\n",
              "    }\n",
              "\n",
              "    .colab-df-convert {\n",
              "      background-color: #E8F0FE;\n",
              "      border: none;\n",
              "      border-radius: 50%;\n",
              "      cursor: pointer;\n",
              "      display: none;\n",
              "      fill: #1967D2;\n",
              "      height: 32px;\n",
              "      padding: 0 0 0 0;\n",
              "      width: 32px;\n",
              "    }\n",
              "\n",
              "    .colab-df-convert:hover {\n",
              "      background-color: #E2EBFA;\n",
              "      box-shadow: 0px 1px 2px rgba(60, 64, 67, 0.3), 0px 1px 3px 1px rgba(60, 64, 67, 0.15);\n",
              "      fill: #174EA6;\n",
              "    }\n",
              "\n",
              "    .colab-df-buttons div {\n",
              "      margin-bottom: 4px;\n",
              "    }\n",
              "\n",
              "    [theme=dark] .colab-df-convert {\n",
              "      background-color: #3B4455;\n",
              "      fill: #D2E3FC;\n",
              "    }\n",
              "\n",
              "    [theme=dark] .colab-df-convert:hover {\n",
              "      background-color: #434B5C;\n",
              "      box-shadow: 0px 1px 3px 1px rgba(0, 0, 0, 0.15);\n",
              "      filter: drop-shadow(0px 1px 2px rgba(0, 0, 0, 0.3));\n",
              "      fill: #FFFFFF;\n",
              "    }\n",
              "  </style>\n",
              "\n",
              "    <script>\n",
              "      const buttonEl =\n",
              "        document.querySelector('#df-296f763c-7a90-4f13-9159-0fbf060d04ff button.colab-df-convert');\n",
              "      buttonEl.style.display =\n",
              "        google.colab.kernel.accessAllowed ? 'block' : 'none';\n",
              "\n",
              "      async function convertToInteractive(key) {\n",
              "        const element = document.querySelector('#df-296f763c-7a90-4f13-9159-0fbf060d04ff');\n",
              "        const dataTable =\n",
              "          await google.colab.kernel.invokeFunction('convertToInteractive',\n",
              "                                                    [key], {});\n",
              "        if (!dataTable) return;\n",
              "\n",
              "        const docLinkHtml = 'Like what you see? Visit the ' +\n",
              "          '<a target=\"_blank\" href=https://colab.research.google.com/notebooks/data_table.ipynb>data table notebook</a>'\n",
              "          + ' to learn more about interactive tables.';\n",
              "        element.innerHTML = '';\n",
              "        dataTable['output_type'] = 'display_data';\n",
              "        await google.colab.output.renderOutput(dataTable, element);\n",
              "        const docLink = document.createElement('div');\n",
              "        docLink.innerHTML = docLinkHtml;\n",
              "        element.appendChild(docLink);\n",
              "      }\n",
              "    </script>\n",
              "  </div>\n",
              "\n",
              "\n",
              "<div id=\"df-31960f91-3936-4b56-82a2-9865809d1b6d\">\n",
              "  <button class=\"colab-df-quickchart\" onclick=\"quickchart('df-31960f91-3936-4b56-82a2-9865809d1b6d')\"\n",
              "            title=\"Suggest charts.\"\n",
              "            style=\"display:none;\">\n",
              "\n",
              "<svg xmlns=\"http://www.w3.org/2000/svg\" height=\"24px\"viewBox=\"0 0 24 24\"\n",
              "     width=\"24px\">\n",
              "    <g>\n",
              "        <path d=\"M19 3H5c-1.1 0-2 .9-2 2v14c0 1.1.9 2 2 2h14c1.1 0 2-.9 2-2V5c0-1.1-.9-2-2-2zM9 17H7v-7h2v7zm4 0h-2V7h2v10zm4 0h-2v-4h2v4z\"/>\n",
              "    </g>\n",
              "</svg>\n",
              "  </button>\n",
              "\n",
              "<style>\n",
              "  .colab-df-quickchart {\n",
              "      --bg-color: #E8F0FE;\n",
              "      --fill-color: #1967D2;\n",
              "      --hover-bg-color: #E2EBFA;\n",
              "      --hover-fill-color: #174EA6;\n",
              "      --disabled-fill-color: #AAA;\n",
              "      --disabled-bg-color: #DDD;\n",
              "  }\n",
              "\n",
              "  [theme=dark] .colab-df-quickchart {\n",
              "      --bg-color: #3B4455;\n",
              "      --fill-color: #D2E3FC;\n",
              "      --hover-bg-color: #434B5C;\n",
              "      --hover-fill-color: #FFFFFF;\n",
              "      --disabled-bg-color: #3B4455;\n",
              "      --disabled-fill-color: #666;\n",
              "  }\n",
              "\n",
              "  .colab-df-quickchart {\n",
              "    background-color: var(--bg-color);\n",
              "    border: none;\n",
              "    border-radius: 50%;\n",
              "    cursor: pointer;\n",
              "    display: none;\n",
              "    fill: var(--fill-color);\n",
              "    height: 32px;\n",
              "    padding: 0;\n",
              "    width: 32px;\n",
              "  }\n",
              "\n",
              "  .colab-df-quickchart:hover {\n",
              "    background-color: var(--hover-bg-color);\n",
              "    box-shadow: 0 1px 2px rgba(60, 64, 67, 0.3), 0 1px 3px 1px rgba(60, 64, 67, 0.15);\n",
              "    fill: var(--button-hover-fill-color);\n",
              "  }\n",
              "\n",
              "  .colab-df-quickchart-complete:disabled,\n",
              "  .colab-df-quickchart-complete:disabled:hover {\n",
              "    background-color: var(--disabled-bg-color);\n",
              "    fill: var(--disabled-fill-color);\n",
              "    box-shadow: none;\n",
              "  }\n",
              "\n",
              "  .colab-df-spinner {\n",
              "    border: 2px solid var(--fill-color);\n",
              "    border-color: transparent;\n",
              "    border-bottom-color: var(--fill-color);\n",
              "    animation:\n",
              "      spin 1s steps(1) infinite;\n",
              "  }\n",
              "\n",
              "  @keyframes spin {\n",
              "    0% {\n",
              "      border-color: transparent;\n",
              "      border-bottom-color: var(--fill-color);\n",
              "      border-left-color: var(--fill-color);\n",
              "    }\n",
              "    20% {\n",
              "      border-color: transparent;\n",
              "      border-left-color: var(--fill-color);\n",
              "      border-top-color: var(--fill-color);\n",
              "    }\n",
              "    30% {\n",
              "      border-color: transparent;\n",
              "      border-left-color: var(--fill-color);\n",
              "      border-top-color: var(--fill-color);\n",
              "      border-right-color: var(--fill-color);\n",
              "    }\n",
              "    40% {\n",
              "      border-color: transparent;\n",
              "      border-right-color: var(--fill-color);\n",
              "      border-top-color: var(--fill-color);\n",
              "    }\n",
              "    60% {\n",
              "      border-color: transparent;\n",
              "      border-right-color: var(--fill-color);\n",
              "    }\n",
              "    80% {\n",
              "      border-color: transparent;\n",
              "      border-right-color: var(--fill-color);\n",
              "      border-bottom-color: var(--fill-color);\n",
              "    }\n",
              "    90% {\n",
              "      border-color: transparent;\n",
              "      border-bottom-color: var(--fill-color);\n",
              "    }\n",
              "  }\n",
              "</style>\n",
              "\n",
              "  <script>\n",
              "    async function quickchart(key) {\n",
              "      const quickchartButtonEl =\n",
              "        document.querySelector('#' + key + ' button');\n",
              "      quickchartButtonEl.disabled = true;  // To prevent multiple clicks.\n",
              "      quickchartButtonEl.classList.add('colab-df-spinner');\n",
              "      try {\n",
              "        const charts = await google.colab.kernel.invokeFunction(\n",
              "            'suggestCharts', [key], {});\n",
              "      } catch (error) {\n",
              "        console.error('Error during call to suggestCharts:', error);\n",
              "      }\n",
              "      quickchartButtonEl.classList.remove('colab-df-spinner');\n",
              "      quickchartButtonEl.classList.add('colab-df-quickchart-complete');\n",
              "    }\n",
              "    (() => {\n",
              "      let quickchartButtonEl =\n",
              "        document.querySelector('#df-31960f91-3936-4b56-82a2-9865809d1b6d button');\n",
              "      quickchartButtonEl.style.display =\n",
              "        google.colab.kernel.accessAllowed ? 'block' : 'none';\n",
              "    })();\n",
              "  </script>\n",
              "</div>\n",
              "    </div>\n",
              "  </div>\n"
            ]
          },
          "metadata": {},
          "execution_count": 145
        }
      ]
    },
    {
      "cell_type": "code",
      "source": [
        "x = tabela_dados[['Altura (m)','Ângulo (°)', 'objeto_aro', 'objeto_cilindro','objeto_esfera']]\n",
        "y = tabela_dados['Velocidade Média (m/s)'] # Atributo alvo\n",
        "\n",
        "# Dividindo conjunto de treinamento e conjunto de teste\n",
        "x_train, x_test, y_train, y_test = train_test_split(x, y, test_size = 0.20, random_state = 42)"
      ],
      "metadata": {
        "id": "xjofXoVaqJN_"
      },
      "execution_count": 146,
      "outputs": []
    },
    {
      "cell_type": "markdown",
      "source": [
        "### 1 - Terceiro passo: transformação dos dados\n",
        "\n",
        "**OBS:** perceba que nem sempre a transformação ocorre apenas no terceiro passo. Tivemos que fazer uma transformação usando o One Hot Encoding (OHE) no segundo passo. A troca da ordem neste caso foi feita para facilitar a etapa de separação (não ter que filtrar a coluna objeto após transformar via OHE."
      ],
      "metadata": {
        "id": "zfo7cF4qqm7p"
      }
    },
    {
      "cell_type": "code",
      "source": [
        "from sklearn.preprocessing import MinMaxScaler         # Escalonador\n"
      ],
      "metadata": {
        "id": "R8RoWA7Bqczq"
      },
      "execution_count": 147,
      "outputs": []
    },
    {
      "cell_type": "code",
      "source": [
        "scaler = MinMaxScaler()\n",
        "scaler.fit(x_train)\n",
        "\n",
        "x_train_scaled = scaler.transform(x_train)\n",
        "x_test_scaled = scaler.transform(x_test)"
      ],
      "metadata": {
        "id": "B9akbBwPq2H2"
      },
      "execution_count": 148,
      "outputs": []
    },
    {
      "cell_type": "markdown",
      "source": [
        "### Quarto passo: Treinando os algoritmos de regressão"
      ],
      "metadata": {
        "id": "un2UHZuQrgvT"
      }
    },
    {
      "cell_type": "code",
      "source": [
        "from sklearn.linear_model import LinearRegression      # Regressao Linear\n",
        "from sklearn.linear_model import Ridge                 # Regressão Ridge\n",
        "from sklearn.cross_decomposition import PLSRegression  # Partial-least Squares (PLS)\n",
        "from sklearn.neighbors import KNeighborsRegressor      # k-vizinhos mais próximos (KNN)\n",
        "from sklearn.svm import SVR                            # Regressão por Máquina de Vetor Suporte\n",
        "from sklearn.tree import DecisionTreeRegressor         # Regressão por Árvore de Decisão\n",
        "from sklearn.ensemble import RandomForestRegressor     # RandomForest (RF)\n",
        "from sklearn.ensemble import GradientBoostingRegressor # GradientBoosting (GB)\n",
        "from sklearn.neural_network import MLPRegressor        # Multilayer Perceptron\n",
        "\n",
        "# Regressao Linear\n",
        "lr = LinearRegression()\n",
        "lr.fit(x_train_scaled, y_train)\n",
        "\n",
        "# Ridge Regression\n",
        "rdg = Ridge()\n",
        "rdg.fit(x_train_scaled, y_train)\n",
        "\n",
        "# Partial least Squares PLS\n",
        "pls = PLSRegression()\n",
        "pls.fit(x_train_scaled, y_train)\n",
        "\n",
        "# KNN Regressor\n",
        "knnr = KNeighborsRegressor()\n",
        "knnr.fit(x_train_scaled,y_train)\n",
        "\n",
        "# SVM\n",
        "svmr = SVR()\n",
        "svmr.fit(x_train_scaled,y_train)\n",
        "\n",
        "# Regressão por Árvore de Decisão\n",
        "dtr = DecisionTreeRegressor()\n",
        "dtr.fit(x_train_scaled,y_train)\n",
        "\n",
        "# Regressão por RandomForest\n",
        "rfr = RandomForestRegressor(random_state=42)\n",
        "rfr.fit(x_train_scaled, y_train)\n",
        "\n",
        "# Regressõ por GB\n",
        "gbr = GradientBoostingRegressor(random_state=42)\n",
        "gbr.fit(x_train_scaled, y_train)\n",
        "\n",
        "# Multilayer Perceptron\n",
        "mlpr =  MLPRegressor(random_state=42)\n",
        "mlpr.fit(x_train_scaled,y_train)\n"
      ],
      "metadata": {
        "colab": {
          "base_uri": "https://localhost:8080/",
          "height": 75
        },
        "id": "tYAaR1wurgVx",
        "outputId": "f42d876b-b324-4349-b6bc-ff8009085371"
      },
      "execution_count": 149,
      "outputs": [
        {
          "output_type": "execute_result",
          "data": {
            "text/plain": [
              "MLPRegressor(random_state=42)"
            ],
            "text/html": [
              "<style>#sk-container-id-6 {color: black;background-color: white;}#sk-container-id-6 pre{padding: 0;}#sk-container-id-6 div.sk-toggleable {background-color: white;}#sk-container-id-6 label.sk-toggleable__label {cursor: pointer;display: block;width: 100%;margin-bottom: 0;padding: 0.3em;box-sizing: border-box;text-align: center;}#sk-container-id-6 label.sk-toggleable__label-arrow:before {content: \"▸\";float: left;margin-right: 0.25em;color: #696969;}#sk-container-id-6 label.sk-toggleable__label-arrow:hover:before {color: black;}#sk-container-id-6 div.sk-estimator:hover label.sk-toggleable__label-arrow:before {color: black;}#sk-container-id-6 div.sk-toggleable__content {max-height: 0;max-width: 0;overflow: hidden;text-align: left;background-color: #f0f8ff;}#sk-container-id-6 div.sk-toggleable__content pre {margin: 0.2em;color: black;border-radius: 0.25em;background-color: #f0f8ff;}#sk-container-id-6 input.sk-toggleable__control:checked~div.sk-toggleable__content {max-height: 200px;max-width: 100%;overflow: auto;}#sk-container-id-6 input.sk-toggleable__control:checked~label.sk-toggleable__label-arrow:before {content: \"▾\";}#sk-container-id-6 div.sk-estimator input.sk-toggleable__control:checked~label.sk-toggleable__label {background-color: #d4ebff;}#sk-container-id-6 div.sk-label input.sk-toggleable__control:checked~label.sk-toggleable__label {background-color: #d4ebff;}#sk-container-id-6 input.sk-hidden--visually {border: 0;clip: rect(1px 1px 1px 1px);clip: rect(1px, 1px, 1px, 1px);height: 1px;margin: -1px;overflow: hidden;padding: 0;position: absolute;width: 1px;}#sk-container-id-6 div.sk-estimator {font-family: monospace;background-color: #f0f8ff;border: 1px dotted black;border-radius: 0.25em;box-sizing: border-box;margin-bottom: 0.5em;}#sk-container-id-6 div.sk-estimator:hover {background-color: #d4ebff;}#sk-container-id-6 div.sk-parallel-item::after {content: \"\";width: 100%;border-bottom: 1px solid gray;flex-grow: 1;}#sk-container-id-6 div.sk-label:hover label.sk-toggleable__label {background-color: #d4ebff;}#sk-container-id-6 div.sk-serial::before {content: \"\";position: absolute;border-left: 1px solid gray;box-sizing: border-box;top: 0;bottom: 0;left: 50%;z-index: 0;}#sk-container-id-6 div.sk-serial {display: flex;flex-direction: column;align-items: center;background-color: white;padding-right: 0.2em;padding-left: 0.2em;position: relative;}#sk-container-id-6 div.sk-item {position: relative;z-index: 1;}#sk-container-id-6 div.sk-parallel {display: flex;align-items: stretch;justify-content: center;background-color: white;position: relative;}#sk-container-id-6 div.sk-item::before, #sk-container-id-6 div.sk-parallel-item::before {content: \"\";position: absolute;border-left: 1px solid gray;box-sizing: border-box;top: 0;bottom: 0;left: 50%;z-index: -1;}#sk-container-id-6 div.sk-parallel-item {display: flex;flex-direction: column;z-index: 1;position: relative;background-color: white;}#sk-container-id-6 div.sk-parallel-item:first-child::after {align-self: flex-end;width: 50%;}#sk-container-id-6 div.sk-parallel-item:last-child::after {align-self: flex-start;width: 50%;}#sk-container-id-6 div.sk-parallel-item:only-child::after {width: 0;}#sk-container-id-6 div.sk-dashed-wrapped {border: 1px dashed gray;margin: 0 0.4em 0.5em 0.4em;box-sizing: border-box;padding-bottom: 0.4em;background-color: white;}#sk-container-id-6 div.sk-label label {font-family: monospace;font-weight: bold;display: inline-block;line-height: 1.2em;}#sk-container-id-6 div.sk-label-container {text-align: center;}#sk-container-id-6 div.sk-container {/* jupyter's `normalize.less` sets `[hidden] { display: none; }` but bootstrap.min.css set `[hidden] { display: none !important; }` so we also need the `!important` here to be able to override the default hidden behavior on the sphinx rendered scikit-learn.org. See: https://github.com/scikit-learn/scikit-learn/issues/21755 */display: inline-block !important;position: relative;}#sk-container-id-6 div.sk-text-repr-fallback {display: none;}</style><div id=\"sk-container-id-6\" class=\"sk-top-container\"><div class=\"sk-text-repr-fallback\"><pre>MLPRegressor(random_state=42)</pre><b>In a Jupyter environment, please rerun this cell to show the HTML representation or trust the notebook. <br />On GitHub, the HTML representation is unable to render, please try loading this page with nbviewer.org.</b></div><div class=\"sk-container\" hidden><div class=\"sk-item\"><div class=\"sk-estimator sk-toggleable\"><input class=\"sk-toggleable__control sk-hidden--visually\" id=\"sk-estimator-id-6\" type=\"checkbox\" checked><label for=\"sk-estimator-id-6\" class=\"sk-toggleable__label sk-toggleable__label-arrow\">MLPRegressor</label><div class=\"sk-toggleable__content\"><pre>MLPRegressor(random_state=42)</pre></div></div></div></div></div>"
            ]
          },
          "metadata": {},
          "execution_count": 149
        }
      ]
    },
    {
      "cell_type": "code",
      "source": [
        "from sklearn.metrics import mean_absolute_error, r2_score       # Métricas de Regressão"
      ],
      "metadata": {
        "id": "X7_Qw1UM4P0b"
      },
      "execution_count": 150,
      "outputs": []
    },
    {
      "cell_type": "code",
      "source": [
        "y_predict = lr.predict(x_test_scaled)\n",
        "print(\"Linear Regression MSE: {:.3f} e r2_score: {:.3f}\".format(mean_absolute_error(y_predict,y_test),r2_score(y_predict,y_test)))"
      ],
      "metadata": {
        "colab": {
          "base_uri": "https://localhost:8080/"
        },
        "id": "U0xeT0of49Tn",
        "outputId": "720f7638-95f2-4f18-d62f-4804a226f9b1"
      },
      "execution_count": 151,
      "outputs": [
        {
          "output_type": "stream",
          "name": "stdout",
          "text": [
            "Linear Regression MSE: 0.040 e r2_score: 0.877\n"
          ]
        }
      ]
    },
    {
      "cell_type": "code",
      "source": [
        "y_predict = rdg.predict(x_test_scaled)\n",
        "print(\"Ridge Regression MSE: {:.3f} e r2_score: {:.3f}\".format(mean_absolute_error(y_predict,y_test),r2_score(y_predict,y_test)))"
      ],
      "metadata": {
        "colab": {
          "base_uri": "https://localhost:8080/"
        },
        "id": "Vw8jakm_4-Ik",
        "outputId": "128a812b-c6fc-4f3e-bb46-e83bc7de0e6a"
      },
      "execution_count": 152,
      "outputs": [
        {
          "output_type": "stream",
          "name": "stdout",
          "text": [
            "Ridge Regression MSE: 0.033 e r2_score: 0.908\n"
          ]
        }
      ]
    },
    {
      "cell_type": "code",
      "source": [
        "y_predict = pls.predict(x_test_scaled)\n",
        "print(\"Partial least Squares PLS MSE: {:.3f} e r2_score: {:.3f}\".format(mean_absolute_error(y_predict,y_test),r2_score(y_predict,y_test)))"
      ],
      "metadata": {
        "colab": {
          "base_uri": "https://localhost:8080/"
        },
        "id": "WPsLXHjd6Kj7",
        "outputId": "e99e8c2e-e739-4afd-f6dd-f105fa5263c5"
      },
      "execution_count": 153,
      "outputs": [
        {
          "output_type": "stream",
          "name": "stdout",
          "text": [
            "Partial least Squares PLS MSE: 0.036 e r2_score: 0.897\n"
          ]
        }
      ]
    },
    {
      "cell_type": "code",
      "source": [
        "y_predict = knnr.predict(x_test_scaled)\n",
        "print(\"KNN Regressor MSE: {:.3f} e r2_score: {:.3f}\".format(mean_absolute_error(y_predict,y_test),r2_score(y_predict,y_test)))"
      ],
      "metadata": {
        "colab": {
          "base_uri": "https://localhost:8080/"
        },
        "id": "ereDbXxU7iF6",
        "outputId": "bf2e3aa4-ea8e-4a95-b849-d295889147f8"
      },
      "execution_count": 154,
      "outputs": [
        {
          "output_type": "stream",
          "name": "stdout",
          "text": [
            "KNN Regressor MSE: 0.015 e r2_score: 0.973\n"
          ]
        }
      ]
    },
    {
      "cell_type": "code",
      "source": [
        "y_predict = svmr.predict(x_test_scaled)\n",
        "print(\"SVM MSE: {:.3f} e r2_score: {:.3f}\".format(mean_absolute_error(y_predict,y_test),r2_score(y_predict,y_test)))"
      ],
      "metadata": {
        "colab": {
          "base_uri": "https://localhost:8080/"
        },
        "id": "K-sr2KEQ7uWw",
        "outputId": "620b6b49-b2e9-43f3-f579-8efff5a13775"
      },
      "execution_count": 155,
      "outputs": [
        {
          "output_type": "stream",
          "name": "stdout",
          "text": [
            "SVM MSE: 0.045 e r2_score: 0.776\n"
          ]
        }
      ]
    },
    {
      "cell_type": "code",
      "source": [
        "y_predict = dtr.predict(x_test_scaled)\n",
        "print(\"Regressão por Árvore de Decisão MSE: {:.3f} e r2_score: {:.3f}\".format(mean_absolute_error(y_predict,y_test),r2_score(y_predict,y_test)))"
      ],
      "metadata": {
        "colab": {
          "base_uri": "https://localhost:8080/"
        },
        "id": "02W8FBsP7zu0",
        "outputId": "96e174b9-f52e-47a6-cb37-893ed6337415"
      },
      "execution_count": 156,
      "outputs": [
        {
          "output_type": "stream",
          "name": "stdout",
          "text": [
            "Regressão por Árvore de Decisão MSE: 0.014 e r2_score: 0.975\n"
          ]
        }
      ]
    },
    {
      "cell_type": "code",
      "source": [
        "y_predict = rfr.predict(x_test_scaled)\n",
        "print(\"Regressão por RandomForest MSE: {:.3f} e r2_score: {:.3f}\".format(mean_absolute_error(y_predict,y_test),r2_score(y_predict,y_test)))"
      ],
      "metadata": {
        "colab": {
          "base_uri": "https://localhost:8080/"
        },
        "id": "HhMcyNS775O5",
        "outputId": "011422da-fcd0-4405-ac4a-1a44fa2ccfce"
      },
      "execution_count": 157,
      "outputs": [
        {
          "output_type": "stream",
          "name": "stdout",
          "text": [
            "Regressão por RandomForest MSE: 0.014 e r2_score: 0.975\n"
          ]
        }
      ]
    },
    {
      "cell_type": "code",
      "source": [
        "y_predict = gbr.predict(x_test_scaled)\n",
        "print(\"Regressõ por GB MSE: {:.3f} e r2_score: {:.3f}\".format(mean_absolute_error(y_predict,y_test),r2_score(y_predict,y_test)))"
      ],
      "metadata": {
        "colab": {
          "base_uri": "https://localhost:8080/"
        },
        "id": "N5eg7CMt7_J4",
        "outputId": "965eabe6-1351-4401-d201-26b260603fb9"
      },
      "execution_count": 158,
      "outputs": [
        {
          "output_type": "stream",
          "name": "stdout",
          "text": [
            "Regressõ por GB MSE: 0.014 e r2_score: 0.975\n"
          ]
        }
      ]
    },
    {
      "cell_type": "code",
      "source": [
        "y_predict = mlpr.predict(x_test_scaled)\n",
        "print(\"Multilayer Perceptron MSE: {:.3f} e r2_score: {:.3f}\".format(mean_absolute_error(y_predict,y_test),r2_score(y_predict,y_test)))"
      ],
      "metadata": {
        "colab": {
          "base_uri": "https://localhost:8080/"
        },
        "id": "BHc-Tjqm7_sM",
        "outputId": "4d158cb6-573f-4d57-dd5a-394b5d4a146d"
      },
      "execution_count": 159,
      "outputs": [
        {
          "output_type": "stream",
          "name": "stdout",
          "text": [
            "Multilayer Perceptron MSE: 0.028 e r2_score: 0.935\n"
          ]
        }
      ]
    },
    {
      "cell_type": "code",
      "source": [],
      "metadata": {
        "id": "TO38zGAP8Sbp"
      },
      "execution_count": 159,
      "outputs": []
    },
    {
      "cell_type": "markdown",
      "source": [
        "# Classificação"
      ],
      "metadata": {
        "id": "k9KtdVUwvUqr"
      }
    },
    {
      "cell_type": "markdown",
      "source": [
        "# Construção do dataset\n",
        "Abra o browser e faça uma busca sobre a classe desejadan no site http://flickr.com\n",
        "\n",
        "Na pagina de busca digite `<crtl>-<shift>-j` e no console cole o código abaixo\n",
        "```\n",
        "urls =  Array.from(document.querySelectorAll(\"div.photo-list-photo-container\")).map(el => el.firstElementChild.src); window.open('data:text/csv;charset=utf-8,' + escape(urls.join('\\n')));\n",
        "```\n",
        "\n",
        "Salve o arquivo como csv\n",
        "\n",
        "Caso tenha adblocker, você precisa desabilitá-lo.\n",
        "\n",
        "Depois coloque-os na pasta sample_data"
      ],
      "metadata": {
        "id": "jtQwR0prvXjd"
      }
    },
    {
      "cell_type": "code",
      "source": [
        "import shutil\n",
        "shutil.rmtree(\"/content/sample_data/dataset\", ignore_errors=True)"
      ],
      "metadata": {
        "id": "ZjpaLEi5wzG6"
      },
      "execution_count": 160,
      "outputs": []
    },
    {
      "cell_type": "code",
      "source": [
        "import os\n",
        "import urllib.request\n",
        "def download_images(main_dir,urls_filename):\n",
        "    class_name = urls_filename.split('/')[-1].split('.')[0]\n",
        "    print(class_name)\n",
        "    output_dir = main_dir+os.sep+\"dataset\"+os.sep+class_name\n",
        "    os.makedirs(output_dir,exist_ok=True)\n",
        "    with open(urls_filename) as f:\n",
        "        for url in f:\n",
        "            img_filename = url.split('/')[-1].replace(\"\\n\",\"\")\n",
        "            print(img_filename)\n",
        "            try:\n",
        "                response = urllib.request.urlopen(url)\n",
        "                open(output_dir+'/'+img_filename,mode=\"wb+\").write(response.read())\n",
        "            except:\n",
        "                print('nao conseguiu baixar ',url)"
      ],
      "metadata": {
        "id": "qfEt8nOIyDZA"
      },
      "execution_count": 161,
      "outputs": []
    },
    {
      "cell_type": "code",
      "source": [
        "download_images(\"/content/sample_data\",'/content/sample_data/arara.csv')"
      ],
      "metadata": {
        "id": "le4_kalyzL8C",
        "colab": {
          "base_uri": "https://localhost:8080/"
        },
        "outputId": "7e8f9884-4345-4abf-8150-4203ac21d1d3"
      },
      "execution_count": 162,
      "outputs": [
        {
          "output_type": "stream",
          "name": "stdout",
          "text": [
            "arara\n",
            "73631370_6c3c469d8c_m.jpg\n",
            "5376057531_798e75a311_n.jpg\n",
            "4006423058_74b13d3415_n.jpg\n",
            "35020921800_984fd2ccbb_n.jpg\n",
            "2847636601_041c842eb9_m.jpg\n",
            "7285773660_ca4c16ebf6_m.jpg\n",
            "38268490491_2ba84dcba0_n.jpg\n",
            "3598900092_223f0021a2_m.jpg\n",
            "4509476818_842cfb0218_m.jpg\n",
            "6797351789_7660fd426e_m.jpg\n",
            "3660775457_b74d707136_m.jpg\n",
            "6797348139_174947efe0_m.jpg\n",
            "357606546_67863f98ef_m.jpg\n",
            "6797336877_dabbcaef62_m.jpg\n",
            "7164573485_e377f99f48_m.jpg\n",
            "4232228416_17a0e77d82_n.jpg\n",
            "1474266336_067c98b955_m.jpg\n",
            "6797340649_8420254266_n.jpg\n",
            "3323168443_a86208217a_n.jpg\n",
            "5094366215_8b679eb59b_n.jpg\n",
            "16442401848_3879f536fd_m.jpg\n",
            "6005020027_50cf95e1e7_m.jpg\n",
            "3853007158_30f56e3d55_m.jpg\n",
            "8496730838_07c9048574_m.jpg\n",
            "583387417_369af84c1a_m.jpg\n",
            "5737287901_700f21cf4b_m.jpg\n",
            "31192972998_823ac0c0ac_m.jpg\n",
            "2655778716_cdf20ef6a7_m.jpg\n",
            "2037658157_f0eba8ca8c_n.jpg\n",
            "3821814128_be7dab6fbe_m.jpg\n",
            "15076971959_285b7eb88b_m.jpg\n",
            "4231469479_d6142544de_m.jpg\n",
            "4232237252_00771979ae_m.jpg\n",
            "6386047741_dbbbd3b2cf_m.jpg\n",
            "38575517350_1a57d973fb_m.jpg\n",
            "3447689301_4d079f7e69_m.jpg\n",
            "14304683338_6fe85abfbc_n.jpg\n",
            "3757868831_27f0e5575a_m.jpg\n",
            "14208661839_c0853c56b2_m.jpg\n",
            "5080905025_3c7f8dc8ae_n.jpg\n",
            "4524384718_b44d0de4b9_n.jpg\n",
            "5652113456_8623025c51_n.jpg\n",
            "184711920_21f5985006_m.jpg\n",
            "3732971067_38618c62d1_m.jpg\n",
            "184402632_6be2f06cac_m.jpg\n",
            "4241352581_a00dc2cd0c_m.jpg\n",
            "12942630625_d3a9051fe2_m.jpg\n",
            "10311684776_feb6542c64_m.jpg\n",
            "4977158401_eda1b086fb_n.jpg\n",
            "26274554695_1ae92dc0f3_n.jpg\n",
            "4947076891_cd9bca1f13_n.jpg\n",
            "5469696086_b3a8581c27_m.jpg\n",
            "2859951121_545a2cf558_n.jpg\n",
            "4231461455_b42ddbfc06_n.jpg\n",
            "2859789009_93d1e97de4_m.jpg\n",
            "4481723125_9313750ed5_n.jpg\n",
            "2481566902_b5e8cb2587_n.jpg\n",
            "4509476820_5ed5bd8b76_m.jpg\n",
            "3604861071_d8e8ce5fa9_n.jpg\n",
            "4231463023_0ec5c7d0d1_n.jpg\n",
            "5322297470_523794eb2d_m.jpg\n",
            "4562659465_13e48b7604_n.jpg\n",
            "5737286535_4804abb046_m.jpg\n",
            "9388758694_9444effb8a_m.jpg\n",
            "4232236374_b65d6b3e9f_m.jpg\n",
            "11864701446_274d5bd1d6_m.jpg\n",
            "35816328232_f77b5e9c58_m.jpg\n",
            "23608082224_ba1dbf03d6_n.jpg\n",
            "34885857850_b950307bf4_m.jpg\n",
            "33178559782_af7678dcaf_m.jpg\n",
            "3567095993_b2783c4386_m.jpg\n",
            "4232228152_8f5c90996e_m.jpg\n",
            "359507599_583e8d5bbd_n.jpg\n",
            "15365477609_8980b215f7_n.jpg\n",
            "171045462_11b5f785d9_n.jpg\n",
            "33779271051_dcf5b84bda_w.jpg\n",
            "558627194_b467252ca0_n.jpg\n",
            "7290096344_4f40d3acb1_m.jpg\n",
            "1033080744_36849ed58f_n.jpg\n",
            "12181023566_d7ef1db467_m.jpg\n",
            "3435420235_a43804745c_n.jpg\n",
            "15076935409_ca9bb9afcd_m.jpg\n",
            "6798826003_0400dcdcdd_m.jpg\n",
            "4127824040_8cf413e492_n.jpg\n",
            "38275631694_221c7a3aba_m.jpg\n",
            "2036002289_90d62e7d87_n.jpg\n",
            "32980977242_b450619d2b.jpg\n",
            "4377248354_d7634b43ce_n.jpg\n",
            "27534827626_350c7198be_n.jpg\n",
            "1355816997_48376de168_m.jpg\n",
            "6757915195_7bf23a5347_m.jpg\n",
            "5335113785_6099440c8f_n.jpg\n",
            "3733773034_2273fb92c9_m.jpg\n",
            "42282331320_04ee9a3ae2_m.jpg\n",
            "2471524815_df9ac972e0_m.jpg\n",
            "2138181304_d27692e6a6_m.jpg\n",
            "13680858893_a4122fdafd_m.jpg\n",
            "2386369074_8639e733dc_n.jpg\n",
            "189665068_3047e83b48_m.jpg\n",
            "34469167990_f446c7e2d3_m.jpg\n",
            "36224537052_a780d79759_n.jpg\n",
            "8513918270_f555424f63_m.jpg\n",
            "6911092982_653397aedf_m.jpg\n",
            "5151175362_9da7b59232_n.jpg\n",
            "5853433499_a8c69a042c_m.jpg\n",
            "33879866744_5b05f11ddc_m.jpg\n",
            "8980236167_e32bc2485e_m.jpg\n",
            "16875772242_3b3a323013_n.jpg\n",
            "14790551825_a6eb4174f4_m.jpg\n",
            "35109859363_3ac7f9472b_n.jpg\n",
            "16616399063_4159c9192f_m.jpg\n",
            "35861480793_428ef836e0_n.jpg\n",
            "10268028976_cbbe0cc20f_m.jpg\n",
            "8213128839_4b5bef0a79_n.jpg\n",
            "4220710124_c50af9077b_m.jpg\n",
            "4698399610_c4d3d51bd8_n.jpg\n",
            "35925891926_bed331ff95_m.jpg\n",
            "7593482926_3e59e26f7c_n.jpg\n",
            "1354571053_ca85bd90e5_n.jpg\n",
            "387029453_5a654212a8_n.jpg\n",
            "14046628108_874e2c2b53_m.jpg\n",
            "19357058164_8d1293c1d7_w.jpg\n",
            "4589379089_a636224cfe_n.jpg\n",
            "19541740110_799dcf589d_m.jpg\n",
            "22166151714_34a92caaae_n.jpg\n",
            "421540081_6cc8ea274a_m.jpg\n",
            "3017076152_02be05f69b_m.jpg\n",
            "28355418416_78e63bfd91_m.jpg\n",
            "23373075101_545e3e256d_n.jpg\n",
            "8047264117_7cfdfe0c93_w.jpg\n",
            "3775681847_565b78e965_m.jpg\n",
            "16193963538_5f8002539d_n.jpg\n",
            "23373075161_736d0876fa_n.jpg\n",
            "1473043893_c543f7c3d7_n.jpg\n",
            "5443397309_daa99e1776_m.jpg\n",
            "15670447582_9e3706fb09_n.jpg\n",
            "455571512_6fc68b350a_m.jpg\n",
            "36920671952_6dbe1dd2f2_m.jpg\n",
            "35278408342_6c81578a55_m.jpg\n",
            "4511698150_b60f71ddd2_m.jpg\n",
            "15618820475_2628da7195_m.jpg\n",
            "14115783680_86010ce79c_m.jpg\n",
            "8429795720_b87f1ccf95_n.jpg\n",
            "3015715562_9da61b614e_m.jpg\n",
            "1572828469_b84686e643_m.jpg\n",
            "16827563075_a0b9e5f411_m.jpg\n",
            "144349030_bdbe77f54a_m.jpg\n",
            "6107803656_969892e953_m.jpg\n",
            "16055123104_67cace797e_m.jpg\n",
            "288496653_e61b2c91d5_m.jpg\n",
            "9638748851_aed03a25c5_m.jpg\n",
            "8064250753_be76dda55a_m.jpg\n",
            "5141612580_cae37e42fe_n.jpg\n",
            "10783268064_e65282724b_m.jpg\n",
            "1795607460_700a39fdf5_m.jpg\n",
            "5545371670_b02410d389_n.jpg\n",
            "16169085775_49e940a290_n.jpg\n",
            "2839263507_2d02e41ac9_m.jpg\n",
            "14684827915_1b60a8edb2_m.jpg\n",
            "7932589184_9a2ac4896b_n.jpg\n",
            "7286180824_d9aedbb434_n.jpg\n",
            "8657185360_d57b15486a_n.jpg\n",
            "16598216940_8ab0f69def_m.jpg\n",
            "3524246490_04676a0f0a_m.jpg\n",
            "8206780011_915df6c3f2_m.jpg\n",
            "2051810419_5385299c5e_n.jpg\n",
            "4976530571_9a7b7c2beb_m.jpg\n",
            "822939354_322e724149_m.jpg\n",
            "5652115912_885f1ca201_n.jpg\n",
            "3125058075_a62282740c_n.jpg\n",
            "3046181412_d3e60e7371_m.jpg\n",
            "288525963_010c2a0b9b_n.jpg\n",
            "21967739054_09f2e8c89d_n.jpg\n",
            "5776201954_13e038237e_w.jpg\n",
            "398105143_1283eca243_w.jpg\n",
            "8951837076_67c71d84e1_m.jpg\n",
            "6126608357_9bd8efd152_m.jpg\n",
            "1783236312_53eda57443_m.jpg\n",
            "14382088450_e65223701e_m.jpg\n",
            "7777068022_ee59d8a084_n.jpg\n",
            "2358094731_1698200d18_m.jpg\n",
            "2209242130_1d4a7f0067_n.jpg\n",
            "4330673902_9ab430a73f_m.jpg\n",
            "32258058542_3fce8a4827_m.jpg\n",
            "2989862252_5c19571cd0_m.jpg\n",
            "8699027451_3c0742385a_n.jpg\n",
            "4969541428_e4184c077f_m.jpg\n",
            "17083393750_9fccfa8c76_n.jpg\n",
            "2208878367_c7b77a1695_n.jpg\n",
            "7498491790_bef8f601ba_m.jpg\n",
            "831673814_4c1d5b2089_m.jpg\n",
            "9111010979_e2c24985ac_m.jpg\n",
            "9705093511_655294a88c_m.jpg\n",
            "3320585775_9f4794c77d_n.jpg\n"
          ]
        }
      ]
    },
    {
      "cell_type": "code",
      "source": [
        "download_images(\"/content/sample_data\",'/content/sample_data/tucano.csv')"
      ],
      "metadata": {
        "colab": {
          "base_uri": "https://localhost:8080/"
        },
        "id": "UIwt_TZL4GO0",
        "outputId": "042be04e-ee1a-48a0-d781-8bfc0fafd953"
      },
      "execution_count": 163,
      "outputs": [
        {
          "output_type": "stream",
          "name": "stdout",
          "text": [
            "tucano\n",
            "4503732511_9329e85d95_m.jpg\n",
            "2280622656_8dea671690_m.jpg\n",
            "15974854311_52ca7f2cfa_w.jpg\n",
            "5619850648_6560519185_n.jpg\n",
            "5378162686_7008afd2b9_n.jpg\n",
            "716037534_1977a4bba8_n.jpg\n",
            "9852929393_a788b7d570_n.jpg\n",
            "968574391_e2c5f854ef_n.jpg\n",
            "4470447775_f52117437c_n.jpg\n",
            "4650973475_25080bf859_n.jpg\n",
            "3188315190_a5dd6a5c49_n.jpg\n",
            "907685687_7ef5eb9067_m.jpg\n",
            "3199516305_2cd448b4fb_n.jpg\n",
            "8443381255_f028664c51_m.jpg\n",
            "14021186023_4179af632e_n.jpg\n",
            "7301247800_9166ce67d9_m.jpg\n",
            "5615763075_b5720d92cd_m.jpg\n",
            "5001476536_7d46f2b709_n.jpg\n",
            "17082389281_1e3288c7fb_m.jpg\n",
            "8097685278_7c25e53a0b_n.jpg\n",
            "6863691222_d4b481548c_n.jpg\n",
            "9684572100_1b9ed0cc51_n.jpg\n",
            "6285900326_d208f23a97_n.jpg\n",
            "36839862502_7df5955401_m.jpg\n",
            "7166079529_2328d14352_m.jpg\n",
            "8495627081_fff5e58fae_m.jpg\n",
            "16613782554_8831a0a02c_m.jpg\n",
            "16628938142_167b396a99_m.jpg\n",
            "4500359614_498461920c_n.jpg\n",
            "8804058166_70c28491b1_n.jpg\n",
            "22306208864_4e48c3edd2_w.jpg\n",
            "2975697943_5b592ba412_w.jpg\n",
            "3867104715_4d795416b5_w.jpg\n",
            "33060499164_14ba5ebae0_w.jpg\n",
            "3465858642_081ebf4672_m.jpg\n",
            "3571795840_675e1e02b9_m.jpg\n",
            "70160541_a451757817_m.jpg\n",
            "224623029_1f7cd5be01_n.jpg\n",
            "2536571668_353af9f220_m.jpg\n",
            "32462718477_628d40952d_n.jpg\n",
            "5743226959_9a3a93368c_n.jpg\n",
            "5097336059_c6fae96b09_m.jpg\n",
            "8898197324_1c84149a2e_n.jpg\n",
            "5002222138_476910dc38_w.jpg\n",
            "14176068900_d3bf30b01d_w.jpg\n",
            "4973837138_1871f43b47_m.jpg\n",
            "5404826635_1b63f1f03b_m.jpg\n",
            "10495628975_0c56765d2a_n.jpg\n",
            "35050224_b4a712fee7_m.jpg\n",
            "3320332852_f3dc1b876c_m.jpg\n",
            "4573126737_c9ab252f64_m.jpg\n",
            "4127059441_0435882bd8_n.jpg\n",
            "5616339574_72790eb281_n.jpg\n",
            "12948246513_6ba238b65b_m.jpg\n",
            "8572553106_3a5dc531d1_m.jpg\n",
            "7009802775_08fa6e2b0e_n.jpg\n",
            "5860294182_9213091564_n.jpg\n",
            "21055780134_2cd02cea21_w.jpg\n",
            "14395262575_a07cf50531_n.jpg\n",
            "5261415355_30df09b66e_w.jpg\n",
            "6773703309_ef1848d565_w.jpg\n",
            "5866582989_fcf5752511_w.jpg\n",
            "16754060745_047ede98ef_w.jpg\n",
            "8159165771_0ea145095b_m.jpg\n",
            "33795384_d16215c7b4_m.jpg\n",
            "34303409133_6f12cbf930_m.jpg\n",
            "2931569542_7257415fa6_m.jpg\n",
            "16198045397_89388dbd6a_m.jpg\n",
            "35860662001_91b1425899_m.jpg\n",
            "2266150388_f8a74df746_m.jpg\n",
            "33519623815_2cfa45bee4_m.jpg\n",
            "8982086325_6c274a099e_n.jpg\n",
            "4483200664_30bbb3c11b_m.jpg\n",
            "8221046140_85f21e0364_m.jpg\n",
            "5249795243_62be96b044_m.jpg\n",
            "10495771243_ca04585f36_n.jpg\n",
            "27711911843_ca400e6817_w.jpg\n",
            "2078547993_9ed8d774ee_n.jpg\n",
            "20750882824_30f9b29d6a_w.jpg\n",
            "5434952638_687736f750_n.jpg\n",
            "4277371576_c8e513a9db_m.jpg\n",
            "3967807274_4e9eeb133f_m.jpg\n",
            "3152243690_134ffb9007_m.jpg\n",
            "2079314886_46e394cf4a_w.jpg\n",
            "28756622704_5dcdf18940_w.jpg\n",
            "33489262535_e6a915c123_w.jpg\n",
            "26567737285_72ce9ccc23_n.jpg\n",
            "13671860873_b051e2d29a_m.jpg\n",
            "26963867930_75fce33021_m.jpg\n",
            "17056372380_c585e6c2f6_m.jpg\n",
            "6837321796_446f3d978d_m.jpg\n",
            "6628172181_77942b9511_n.jpg\n",
            "5732347476_2b8aa9e405_n.jpg\n",
            "7693310084_6b604a0136_m.jpg\n",
            "6102751467_651594a7b5_m.jpg\n",
            "38812316084_7a4fd78b38_m.jpg\n",
            "2040686191_1b6b93649d_m.jpg\n",
            "14787704244_252d751122_m.jpg\n",
            "6150196631_57e6edd155_m.jpg\n",
            "8461725166_0a94e16fb6_w.jpg\n",
            "9698584600_816bb3a57f_w.jpg\n",
            "26855452433_114e81aee7_w.jpg\n",
            "15656889889_af6864a966_w.jpg\n",
            "8735838089_240f28a9f6_m.jpg\n",
            "1357494425_f809821fdf_m.jpg\n",
            "4164185001_d3740e9ecf_m.jpg\n",
            "2989911633_7d22b07360_m.jpg\n",
            "33362683112_241474e8e7_m.jpg\n",
            "12041362584_12dcaef919_n.jpg\n",
            "8221926842_d1e102f4b0_w.jpg\n",
            "4737705527_38c23a7218_w.jpg\n",
            "3125109191_6dcc8c8f15_m.jpg\n",
            "7251115008_bb74b34a10_m.jpg\n",
            "33777965860_59edb9055f_m.jpg\n",
            "64188317_2b89fc8fd0_m.jpg\n",
            "46963161272_4bcc2ec94c_m.jpg\n",
            "6875652201_d311b26bfb_n.jpg\n",
            "4043677923_589a2f1bfd_m.jpg\n",
            "544007807_11a400bfcf_m.jpg\n",
            "8452527343_a487d31f7c_m.jpg\n",
            "7630574852_db8ed648fe_m.jpg\n",
            "6168141182_2dc1e9660d_m.jpg\n",
            "6634750689_a2daff2466_m.jpg\n",
            "8083321621_7214055ddb_m.jpg\n",
            "1187470222_da1bfbe9f6_m.jpg\n",
            "5308026778_0bdd79e449_m.jpg\n",
            "30759314351_00cc616d52_m.jpg\n",
            "242939323_b12dec8d26_m.jpg\n",
            "33845081050_55d810ddcf_n.jpg\n",
            "33477965566_3304be1bbb_m.jpg\n",
            "32675991994_bcdc7ed1b2_m.jpg\n",
            "21875891686_688bef2056_m.jpg\n",
            "13038736535_5e3730a85d_m.jpg\n",
            "24547023844_9f459a1ce4_m.jpg\n",
            "4283791518_2ace7fe9de_m.jpg\n",
            "16818434059_226a70ae6c_m.jpg\n",
            "19256013496_651d9c1bed_n.jpg\n",
            "8732360381_9c94d2633d_m.jpg\n",
            "14952602132_c68cfc0c82_n.jpg\n",
            "5515377493_79cf52fe75_w.jpg\n",
            "3875310103_be773f08f3_w.jpg\n",
            "7580314378_fc5f3b6854_m.jpg\n",
            "264357939_3ca58ae175_m.jpg\n",
            "12258585513_2dc85f9ee3_n.jpg\n",
            "6717239169_52228ff302_n.jpg\n",
            "42400926145_559e46bacb_m.jpg\n",
            "5107575918_9511523846_m.jpg\n",
            "4541791136_4f339933d9_n.jpg\n",
            "8268511839_f2b630a156_n.jpg\n",
            "325163124_df340c05c1_m.jpg\n",
            "21488141618_6aa23cef42_n.jpg\n",
            "6804420252_bf92dfa10a_m.jpg\n",
            "26061835114_fe4ccd7e36_n.jpg\n",
            "2286739195_db2c01c7c8_m.jpg\n",
            "5576948199_b8c446e646_m.jpg\n",
            "15609725294_bf3e6c6cf2_m.jpg\n",
            "19722161479_373e34985e_n.jpg\n",
            "5915500570_429a607f39_m.jpg\n",
            "13234002125_435b8dd725_n.jpg\n",
            "5509764761_74389061a5_n.jpg\n",
            "2503668643_56321a8702_m.jpg\n",
            "14499023941_015f6b05ef_n.jpg\n",
            "5340351443_3b25450b59_m.jpg\n",
            "21711675025_ce90c12495_m.jpg\n",
            "42757491872_8ae25ddc26_n.jpg\n",
            "36770307383_d2776bf45d_m.jpg\n",
            "2040508960_8b091072c1_n.jpg\n",
            "1782397463_8f8f344b0e_n.jpg\n",
            "3707844190_e2aefa1013_m.jpg\n",
            "4330679664_82fe8f0832_n.jpg\n",
            "27583364146_812fe57fde_n.jpg\n",
            "32133418294_6c4893a43d_m.jpg\n",
            "8285418633_e75b22f91d_n.jpg\n",
            "6915621194_f3625e60a3_n.jpg\n",
            "3964792214_e3bcd83894_m.jpg\n",
            "8732360341_f08c2090df_m.jpg\n",
            "2520497674_2185da1bd2_m.jpg\n",
            "7563513090_a8ac5ce7fc_w.jpg\n",
            "6514199215_67cbd2b30e_w.jpg\n",
            "27526493548_ffbfc03a4f_m.jpg\n",
            "8941532613_c7a90e4752_n.jpg\n",
            "25907913_5771b3bf9b_n.jpg\n",
            "242929611_4f81ac5dfe_m.jpg\n",
            "8760014918_05164eb82e_m.jpg\n",
            "5392258683_421ae25c79_m.jpg\n",
            "11072066345_98a98f6ffd_m.jpg\n",
            "6921804730_1a95b53312_n.jpg\n",
            "36468713342_aebc4ebb5e_m.jpg\n",
            "1810435614_af7d5a5136_m.jpg\n",
            "14155114789_bf48ccc688_w.jpg\n",
            "15109178968_054ef97017_w.jpg\n",
            "8754477531_54d77d0154_w.jpg\n",
            "8375212672_bfffdd59e6_w.jpg\n",
            "8374137961_6301d48a43_n.jpg\n"
          ]
        }
      ]
    },
    {
      "cell_type": "code",
      "source": [],
      "metadata": {
        "id": "V-hvE1mD0cI3"
      },
      "execution_count": 163,
      "outputs": []
    },
    {
      "cell_type": "code",
      "source": [
        "import torch\n",
        "device = torch.device('cuda:0')\n",
        "device"
      ],
      "metadata": {
        "colab": {
          "base_uri": "https://localhost:8080/"
        },
        "id": "O2il56tX4Nfj",
        "outputId": "8d13b3f3-d536-4a1a-e8e0-b901664baf35"
      },
      "execution_count": 164,
      "outputs": [
        {
          "output_type": "execute_result",
          "data": {
            "text/plain": [
              "device(type='cuda', index=0)"
            ]
          },
          "metadata": {},
          "execution_count": 164
        }
      ]
    },
    {
      "cell_type": "code",
      "source": [
        "import torchvision\n",
        "import torchvision.transforms as transforms\n",
        "transform = transforms.Compose([transforms.Resize((250,250)),\n",
        "                                transforms.CenterCrop((227,227)),\n",
        "                                transforms.ToTensor(),\n",
        "                                transforms.Normalize((0.485, 0.456, 0.406), (0.229, 0.224, 0.225))\n",
        "                            ])"
      ],
      "metadata": {
        "id": "lajjfPXQ4T_T"
      },
      "execution_count": 165,
      "outputs": []
    },
    {
      "cell_type": "code",
      "source": [
        "from PIL import Image,ImageStat\n",
        "def image_loader(img):\n",
        "    return Image.open(img).convert(\"RGB\")"
      ],
      "metadata": {
        "id": "CCTy7aru5JS-"
      },
      "execution_count": 166,
      "outputs": []
    },
    {
      "cell_type": "code",
      "source": [
        "image_loader(\"/content/sample_data/dataset/arara/1033080744_36849ed58f_n.jpg\")"
      ],
      "metadata": {
        "colab": {
          "base_uri": "https://localhost:8080/",
          "height": 260
        },
        "id": "vnvV6sGg5Uai",
        "outputId": "5c646e2b-636d-43e8-e28d-4885a1cf021a"
      },
      "execution_count": 167,
      "outputs": [
        {
          "output_type": "execute_result",
          "data": {
            "text/plain": [
              "<PIL.Image.Image image mode=RGB size=320x243>"
            ],
            "image/png": "[encoded data removed]"
          },
          "metadata": {},
          "execution_count": 167
        }
      ]
    },
    {
      "cell_type": "code",
      "source": [
        "dataset = torchvision.datasets.DatasetFolder('/content/sample_data/dataset',loader = image_loader,extensions='jpg',transform=transform )"
      ],
      "metadata": {
        "id": "Ye3yGGpV4jir"
      },
      "execution_count": 168,
      "outputs": []
    },
    {
      "cell_type": "code",
      "source": [
        "len(dataset)"
      ],
      "metadata": {
        "colab": {
          "base_uri": "https://localhost:8080/"
        },
        "id": "v-GyLLKd51va",
        "outputId": "348510fd-9242-482c-9c7d-f180da2d30b6"
      },
      "execution_count": 169,
      "outputs": [
        {
          "output_type": "execute_result",
          "data": {
            "text/plain": [
              "388"
            ]
          },
          "metadata": {},
          "execution_count": 169
        }
      ]
    },
    {
      "cell_type": "code",
      "source": [
        "dataset.targets"
      ],
      "metadata": {
        "colab": {
          "base_uri": "https://localhost:8080/"
        },
        "id": "dxtnsYxx549m",
        "outputId": "4fe90e07-d267-4458-8c12-4cf095766d7c"
      },
      "execution_count": 170,
      "outputs": [
        {
          "output_type": "execute_result",
          "data": {
            "text/plain": [
              "[0,\n",
              " 0,\n",
              " 0,\n",
              " 0,\n",
              " 0,\n",
              " 0,\n",
              " 0,\n",
              " 0,\n",
              " 0,\n",
              " 0,\n",
              " 0,\n",
              " 0,\n",
              " 0,\n",
              " 0,\n",
              " 0,\n",
              " 0,\n",
              " 0,\n",
              " 0,\n",
              " 0,\n",
              " 0,\n",
              " 0,\n",
              " 0,\n",
              " 0,\n",
              " 0,\n",
              " 0,\n",
              " 0,\n",
              " 0,\n",
              " 0,\n",
              " 0,\n",
              " 0,\n",
              " 0,\n",
              " 0,\n",
              " 0,\n",
              " 0,\n",
              " 0,\n",
              " 0,\n",
              " 0,\n",
              " 0,\n",
              " 0,\n",
              " 0,\n",
              " 0,\n",
              " 0,\n",
              " 0,\n",
              " 0,\n",
              " 0,\n",
              " 0,\n",
              " 0,\n",
              " 0,\n",
              " 0,\n",
              " 0,\n",
              " 0,\n",
              " 0,\n",
              " 0,\n",
              " 0,\n",
              " 0,\n",
              " 0,\n",
              " 0,\n",
              " 0,\n",
              " 0,\n",
              " 0,\n",
              " 0,\n",
              " 0,\n",
              " 0,\n",
              " 0,\n",
              " 0,\n",
              " 0,\n",
              " 0,\n",
              " 0,\n",
              " 0,\n",
              " 0,\n",
              " 0,\n",
              " 0,\n",
              " 0,\n",
              " 0,\n",
              " 0,\n",
              " 0,\n",
              " 0,\n",
              " 0,\n",
              " 0,\n",
              " 0,\n",
              " 0,\n",
              " 0,\n",
              " 0,\n",
              " 0,\n",
              " 0,\n",
              " 0,\n",
              " 0,\n",
              " 0,\n",
              " 0,\n",
              " 0,\n",
              " 0,\n",
              " 0,\n",
              " 0,\n",
              " 0,\n",
              " 0,\n",
              " 0,\n",
              " 0,\n",
              " 0,\n",
              " 0,\n",
              " 0,\n",
              " 0,\n",
              " 0,\n",
              " 0,\n",
              " 0,\n",
              " 0,\n",
              " 0,\n",
              " 0,\n",
              " 0,\n",
              " 0,\n",
              " 0,\n",
              " 0,\n",
              " 0,\n",
              " 0,\n",
              " 0,\n",
              " 0,\n",
              " 0,\n",
              " 0,\n",
              " 0,\n",
              " 0,\n",
              " 0,\n",
              " 0,\n",
              " 0,\n",
              " 0,\n",
              " 0,\n",
              " 0,\n",
              " 0,\n",
              " 0,\n",
              " 0,\n",
              " 0,\n",
              " 0,\n",
              " 0,\n",
              " 0,\n",
              " 0,\n",
              " 0,\n",
              " 0,\n",
              " 0,\n",
              " 0,\n",
              " 0,\n",
              " 0,\n",
              " 0,\n",
              " 0,\n",
              " 0,\n",
              " 0,\n",
              " 0,\n",
              " 0,\n",
              " 0,\n",
              " 0,\n",
              " 0,\n",
              " 0,\n",
              " 0,\n",
              " 0,\n",
              " 0,\n",
              " 0,\n",
              " 0,\n",
              " 0,\n",
              " 0,\n",
              " 0,\n",
              " 0,\n",
              " 0,\n",
              " 0,\n",
              " 0,\n",
              " 0,\n",
              " 0,\n",
              " 0,\n",
              " 0,\n",
              " 0,\n",
              " 0,\n",
              " 0,\n",
              " 0,\n",
              " 0,\n",
              " 0,\n",
              " 0,\n",
              " 0,\n",
              " 0,\n",
              " 0,\n",
              " 0,\n",
              " 0,\n",
              " 0,\n",
              " 0,\n",
              " 0,\n",
              " 0,\n",
              " 0,\n",
              " 0,\n",
              " 0,\n",
              " 0,\n",
              " 0,\n",
              " 0,\n",
              " 0,\n",
              " 0,\n",
              " 0,\n",
              " 0,\n",
              " 0,\n",
              " 0,\n",
              " 0,\n",
              " 1,\n",
              " 1,\n",
              " 1,\n",
              " 1,\n",
              " 1,\n",
              " 1,\n",
              " 1,\n",
              " 1,\n",
              " 1,\n",
              " 1,\n",
              " 1,\n",
              " 1,\n",
              " 1,\n",
              " 1,\n",
              " 1,\n",
              " 1,\n",
              " 1,\n",
              " 1,\n",
              " 1,\n",
              " 1,\n",
              " 1,\n",
              " 1,\n",
              " 1,\n",
              " 1,\n",
              " 1,\n",
              " 1,\n",
              " 1,\n",
              " 1,\n",
              " 1,\n",
              " 1,\n",
              " 1,\n",
              " 1,\n",
              " 1,\n",
              " 1,\n",
              " 1,\n",
              " 1,\n",
              " 1,\n",
              " 1,\n",
              " 1,\n",
              " 1,\n",
              " 1,\n",
              " 1,\n",
              " 1,\n",
              " 1,\n",
              " 1,\n",
              " 1,\n",
              " 1,\n",
              " 1,\n",
              " 1,\n",
              " 1,\n",
              " 1,\n",
              " 1,\n",
              " 1,\n",
              " 1,\n",
              " 1,\n",
              " 1,\n",
              " 1,\n",
              " 1,\n",
              " 1,\n",
              " 1,\n",
              " 1,\n",
              " 1,\n",
              " 1,\n",
              " 1,\n",
              " 1,\n",
              " 1,\n",
              " 1,\n",
              " 1,\n",
              " 1,\n",
              " 1,\n",
              " 1,\n",
              " 1,\n",
              " 1,\n",
              " 1,\n",
              " 1,\n",
              " 1,\n",
              " 1,\n",
              " 1,\n",
              " 1,\n",
              " 1,\n",
              " 1,\n",
              " 1,\n",
              " 1,\n",
              " 1,\n",
              " 1,\n",
              " 1,\n",
              " 1,\n",
              " 1,\n",
              " 1,\n",
              " 1,\n",
              " 1,\n",
              " 1,\n",
              " 1,\n",
              " 1,\n",
              " 1,\n",
              " 1,\n",
              " 1,\n",
              " 1,\n",
              " 1,\n",
              " 1,\n",
              " 1,\n",
              " 1,\n",
              " 1,\n",
              " 1,\n",
              " 1,\n",
              " 1,\n",
              " 1,\n",
              " 1,\n",
              " 1,\n",
              " 1,\n",
              " 1,\n",
              " 1,\n",
              " 1,\n",
              " 1,\n",
              " 1,\n",
              " 1,\n",
              " 1,\n",
              " 1,\n",
              " 1,\n",
              " 1,\n",
              " 1,\n",
              " 1,\n",
              " 1,\n",
              " 1,\n",
              " 1,\n",
              " 1,\n",
              " 1,\n",
              " 1,\n",
              " 1,\n",
              " 1,\n",
              " 1,\n",
              " 1,\n",
              " 1,\n",
              " 1,\n",
              " 1,\n",
              " 1,\n",
              " 1,\n",
              " 1,\n",
              " 1,\n",
              " 1,\n",
              " 1,\n",
              " 1,\n",
              " 1,\n",
              " 1,\n",
              " 1,\n",
              " 1,\n",
              " 1,\n",
              " 1,\n",
              " 1,\n",
              " 1,\n",
              " 1,\n",
              " 1,\n",
              " 1,\n",
              " 1,\n",
              " 1,\n",
              " 1,\n",
              " 1,\n",
              " 1,\n",
              " 1,\n",
              " 1,\n",
              " 1,\n",
              " 1,\n",
              " 1,\n",
              " 1,\n",
              " 1,\n",
              " 1,\n",
              " 1,\n",
              " 1,\n",
              " 1,\n",
              " 1,\n",
              " 1,\n",
              " 1,\n",
              " 1,\n",
              " 1,\n",
              " 1,\n",
              " 1,\n",
              " 1,\n",
              " 1,\n",
              " 1,\n",
              " 1,\n",
              " 1,\n",
              " 1,\n",
              " 1,\n",
              " 1,\n",
              " 1,\n",
              " 1,\n",
              " 1,\n",
              " 1,\n",
              " 1,\n",
              " 1,\n",
              " 1,\n",
              " 1,\n",
              " 1,\n",
              " 1]"
            ]
          },
          "metadata": {},
          "execution_count": 170
        }
      ]
    },
    {
      "cell_type": "code",
      "source": [
        "batch_size = 32"
      ],
      "metadata": {
        "id": "10RuNks27JOr"
      },
      "execution_count": 171,
      "outputs": []
    },
    {
      "cell_type": "code",
      "source": [
        "train_idx, temp_idx = train_test_split(np.arange(len(dataset)),test_size=0.3,shuffle=True,stratify=dataset.targets)\n",
        "train_idx, temp_idx"
      ],
      "metadata": {
        "colab": {
          "base_uri": "https://localhost:8080/"
        },
        "id": "9hOol6gS6l1y",
        "outputId": "bd216c67-4d80-432d-bb39-089f3a6d6501"
      },
      "execution_count": 172,
      "outputs": [
        {
          "output_type": "execute_result",
          "data": {
            "text/plain": [
              "(array([ 10, 288,  64,  43, 382,  17,   3, 300, 214, 290,  50, 168, 296,\n",
              "        183, 249, 128, 247, 372, 364, 254, 328,  66, 330, 318, 340,  33,\n",
              "        189, 186, 163, 235,   5,  59, 133,  87, 359, 152, 205, 319, 348,\n",
              "        271, 368, 255, 349,  16, 201, 234, 107, 354, 281,  80, 165, 182,\n",
              "        339, 170, 115, 144, 274,  56, 277, 263, 131, 301, 112, 207, 315,\n",
              "        164, 224, 208, 130, 325, 298, 370,   1, 231, 229, 227, 202,  60,\n",
              "        134,  73, 369, 358, 336, 373, 324, 294, 371, 278, 109, 100, 248,\n",
              "        273, 314, 295,  52, 195, 243, 181, 110,  31, 351, 116,  58, 329,\n",
              "         96,  18, 217, 148, 352, 284, 151, 119,  68, 283, 111, 279, 145,\n",
              "        225, 258, 174, 185,  11, 226, 154, 219, 150,  30, 101, 297, 212,\n",
              "        343, 386,  82,  88, 113, 166,  21, 299,  74, 118, 331, 264, 245,\n",
              "        140, 180, 216,   9, 124, 233, 127, 176, 257, 175, 209,  27,  53,\n",
              "        230, 147, 220,  75, 198, 291,   2, 120,  62,  57, 380, 190, 197,\n",
              "         29, 125, 160,  71, 232, 326, 322,  98,  26, 366,  36, 311, 259,\n",
              "        129, 374, 172,  24, 136, 267, 155,  69, 179, 270, 242, 240, 122,\n",
              "        210, 169,  76, 184,  67, 357, 303,   6, 333, 307,  42,   4, 222,\n",
              "        252, 317, 361, 360,   8, 321,  45, 141,  12, 286, 337, 266,   0,\n",
              "        306, 159, 378,  51, 280, 241, 282, 265,  39, 200, 162,  95, 375,\n",
              "        289, 365, 262, 356,  79, 171,  25, 191, 203, 218, 143, 121,  86,\n",
              "         40, 346,  23, 156, 105, 269, 293,  28,  91, 196, 362,  72, 385,\n",
              "        338, 221,  13, 310, 104,  44, 123,  65,  78,  81,  61]),\n",
              " array([114, 292, 304,  97, 363, 239, 157, 244,  77, 102, 139, 213,  85,\n",
              "        313, 250,  41,  54,   7, 320,  32, 251, 312, 261, 367, 316,  93,\n",
              "         47, 228,  35, 323,  38, 173, 387, 108,  70, 353, 142, 238,  99,\n",
              "        302, 204, 345, 194, 138,  89, 256, 215, 167, 334, 178, 347, 211,\n",
              "         15,  84, 285, 309, 117, 188, 192, 287, 272, 275,  63, 350, 276,\n",
              "        177, 305, 206,  19, 308, 253, 237, 137, 135,  90,  83, 193, 335,\n",
              "        342, 383, 223, 379, 126,  14, 260, 246, 146, 381, 132,  46,  49,\n",
              "        377,  48,  55, 158, 384,  37, 376, 355, 187, 149, 341,  92, 103,\n",
              "        199, 153, 161,  94, 106, 327,  34, 236, 344,  20, 268, 332,  22]))"
            ]
          },
          "metadata": {},
          "execution_count": 172
        }
      ]
    },
    {
      "cell_type": "code",
      "source": [
        "valid_idx, test_idx = train_test_split(temp_idx,test_size=0.5,shuffle=True,stratify=np.array(dataset.targets)[temp_idx])\n",
        "valid_idx, test_idx"
      ],
      "metadata": {
        "colab": {
          "base_uri": "https://localhost:8080/"
        },
        "id": "BigQnqLs7Ytt",
        "outputId": "21eb4546-a573-4b89-8371-90424080ff6a"
      },
      "execution_count": 173,
      "outputs": [
        {
          "output_type": "execute_result",
          "data": {
            "text/plain": [
              "(array([350, 215, 158, 355, 142,  46, 304,  63, 102, 327, 276, 272, 132,\n",
              "        381, 117, 238, 139, 236, 377,  94,  20, 206,  83, 114,  85,  48,\n",
              "        239,  34,   7,  55,  84, 383, 188, 367, 146, 323,  99,  19, 285,\n",
              "        167, 211, 316,  14, 292, 379, 178, 287, 260,  90, 153, 149, 275,\n",
              "        320, 246, 199, 347, 223, 137]),\n",
              " array([108,  97, 193, 126, 345, 194, 308, 342, 161,  37, 268,  15,  47,\n",
              "        253, 250, 213, 334, 138, 312, 135,  54, 177,  35, 387,  70, 256,\n",
              "        332, 237,  89, 363, 302, 344,  22, 173,  32, 251, 157, 192, 341,\n",
              "         92, 261, 244, 106, 353, 309,  41,  93,  77, 313, 305,  49,  38,\n",
              "        335, 103, 228, 376, 187, 384, 204]))"
            ]
          },
          "metadata": {},
          "execution_count": 173
        }
      ]
    },
    {
      "cell_type": "code",
      "source": [
        "train_sampler = torch.utils.data.SubsetRandomSampler(train_idx)\n",
        "valid_sampler = torch.utils.data.SubsetRandomSampler(valid_idx)\n",
        "test_sampler  = torch.utils.data.SubsetRandomSampler(test_idx)"
      ],
      "metadata": {
        "id": "OPe6Wj8nBFis"
      },
      "execution_count": 174,
      "outputs": []
    },
    {
      "cell_type": "code",
      "source": [
        "dl_train = torch.utils.data.DataLoader(dataset,batch_size=batch_size,sampler=train_sampler)\n",
        "dl_valid = torch.utils.data.DataLoader(dataset,batch_size=batch_size,sampler=valid_sampler)\n",
        "dl_test  = torch.utils.data.DataLoader(dataset,batch_size=batch_size,sampler=test_sampler)"
      ],
      "metadata": {
        "id": "EFnyvEx3BOTR"
      },
      "execution_count": 175,
      "outputs": []
    },
    {
      "cell_type": "code",
      "source": [
        "x,y = next(iter(dl_train))"
      ],
      "metadata": {
        "id": "dwNezWlyBX4c"
      },
      "execution_count": 176,
      "outputs": []
    },
    {
      "cell_type": "code",
      "source": [
        "x.shape,y.shape"
      ],
      "metadata": {
        "colab": {
          "base_uri": "https://localhost:8080/"
        },
        "id": "q8-mr4KJBbP9",
        "outputId": "a9d52949-5f77-41bd-f14d-e8009724a1ee"
      },
      "execution_count": 177,
      "outputs": [
        {
          "output_type": "execute_result",
          "data": {
            "text/plain": [
              "(torch.Size([32, 3, 227, 227]), torch.Size([32]))"
            ]
          },
          "metadata": {},
          "execution_count": 177
        }
      ]
    },
    {
      "cell_type": "code",
      "source": [
        "device"
      ],
      "metadata": {
        "colab": {
          "base_uri": "https://localhost:8080/"
        },
        "id": "UAZ-2VfcBhiJ",
        "outputId": "ae5b85a0-d4e2-46d0-c15e-226500db7f5c"
      },
      "execution_count": 178,
      "outputs": [
        {
          "output_type": "execute_result",
          "data": {
            "text/plain": [
              "device(type='cuda', index=0)"
            ]
          },
          "metadata": {},
          "execution_count": 178
        }
      ]
    },
    {
      "cell_type": "code",
      "source": [
        "import torchvision.models as models\n",
        "model = models.mobilenet_v3_small(pretrained=True)"
      ],
      "metadata": {
        "colab": {
          "base_uri": "https://localhost:8080/"
        },
        "id": "VX5F2XvxBi8V",
        "outputId": "2cabc87e-31b0-44f7-ac84-f4e19fc9242a"
      },
      "execution_count": 179,
      "outputs": [
        {
          "output_type": "stream",
          "name": "stderr",
          "text": [
            "/usr/local/lib/python3.10/dist-packages/torchvision/models/_utils.py:208: UserWarning: The parameter 'pretrained' is deprecated since 0.13 and may be removed in the future, please use 'weights' instead.\n",
            "  warnings.warn(\n",
            "/usr/local/lib/python3.10/dist-packages/torchvision/models/_utils.py:223: UserWarning: Arguments other than a weight enum or `None` for 'weights' are deprecated since 0.13 and may be removed in the future. The current behavior is equivalent to passing `weights=MobileNet_V3_Small_Weights.IMAGENET1K_V1`. You can also use `weights=MobileNet_V3_Small_Weights.DEFAULT` to get the most up-to-date weights.\n",
            "  warnings.warn(msg)\n",
            "Downloading: \"https://download.pytorch.org/models/mobilenet_v3_small-047dcff4.pth\" to /root/.cache/torch/hub/checkpoints/mobilenet_v3_small-047dcff4.pth\n",
            "100%|██████████| 9.83M/9.83M [00:00<00:00, 67.3MB/s]\n"
          ]
        }
      ]
    },
    {
      "cell_type": "code",
      "source": [
        "model"
      ],
      "metadata": {
        "colab": {
          "base_uri": "https://localhost:8080/"
        },
        "id": "T7fvDsdBCClK",
        "outputId": "4402dfed-7f6e-45c0-be9f-131dcb9a1a14"
      },
      "execution_count": 180,
      "outputs": [
        {
          "output_type": "execute_result",
          "data": {
            "text/plain": [
              "MobileNetV3(\n",
              "  (features): Sequential(\n",
              "    (0): Conv2dNormActivation(\n",
              "      (0): Conv2d(3, 16, kernel_size=(3, 3), stride=(2, 2), padding=(1, 1), bias=False)\n",
              "      (1): BatchNorm2d(16, eps=0.001, momentum=0.01, affine=True, track_running_stats=True)\n",
              "      (2): Hardswish()\n",
              "    )\n",
              "    (1): InvertedResidual(\n",
              "      (block): Sequential(\n",
              "        (0): Conv2dNormActivation(\n",
              "          (0): Conv2d(16, 16, kernel_size=(3, 3), stride=(2, 2), padding=(1, 1), groups=16, bias=False)\n",
              "          (1): BatchNorm2d(16, eps=0.001, momentum=0.01, affine=True, track_running_stats=True)\n",
              "          (2): ReLU(inplace=True)\n",
              "        )\n",
              "        (1): SqueezeExcitation(\n",
              "          (avgpool): AdaptiveAvgPool2d(output_size=1)\n",
              "          (fc1): Conv2d(16, 8, kernel_size=(1, 1), stride=(1, 1))\n",
              "          (fc2): Conv2d(8, 16, kernel_size=(1, 1), stride=(1, 1))\n",
              "          (activation): ReLU()\n",
              "          (scale_activation): Hardsigmoid()\n",
              "        )\n",
              "        (2): Conv2dNormActivation(\n",
              "          (0): Conv2d(16, 16, kernel_size=(1, 1), stride=(1, 1), bias=False)\n",
              "          (1): BatchNorm2d(16, eps=0.001, momentum=0.01, affine=True, track_running_stats=True)\n",
              "        )\n",
              "      )\n",
              "    )\n",
              "    (2): InvertedResidual(\n",
              "      (block): Sequential(\n",
              "        (0): Conv2dNormActivation(\n",
              "          (0): Conv2d(16, 72, kernel_size=(1, 1), stride=(1, 1), bias=False)\n",
              "          (1): BatchNorm2d(72, eps=0.001, momentum=0.01, affine=True, track_running_stats=True)\n",
              "          (2): ReLU(inplace=True)\n",
              "        )\n",
              "        (1): Conv2dNormActivation(\n",
              "          (0): Conv2d(72, 72, kernel_size=(3, 3), stride=(2, 2), padding=(1, 1), groups=72, bias=False)\n",
              "          (1): BatchNorm2d(72, eps=0.001, momentum=0.01, affine=True, track_running_stats=True)\n",
              "          (2): ReLU(inplace=True)\n",
              "        )\n",
              "        (2): Conv2dNormActivation(\n",
              "          (0): Conv2d(72, 24, kernel_size=(1, 1), stride=(1, 1), bias=False)\n",
              "          (1): BatchNorm2d(24, eps=0.001, momentum=0.01, affine=True, track_running_stats=True)\n",
              "        )\n",
              "      )\n",
              "    )\n",
              "    (3): InvertedResidual(\n",
              "      (block): Sequential(\n",
              "        (0): Conv2dNormActivation(\n",
              "          (0): Conv2d(24, 88, kernel_size=(1, 1), stride=(1, 1), bias=False)\n",
              "          (1): BatchNorm2d(88, eps=0.001, momentum=0.01, affine=True, track_running_stats=True)\n",
              "          (2): ReLU(inplace=True)\n",
              "        )\n",
              "        (1): Conv2dNormActivation(\n",
              "          (0): Conv2d(88, 88, kernel_size=(3, 3), stride=(1, 1), padding=(1, 1), groups=88, bias=False)\n",
              "          (1): BatchNorm2d(88, eps=0.001, momentum=0.01, affine=True, track_running_stats=True)\n",
              "          (2): ReLU(inplace=True)\n",
              "        )\n",
              "        (2): Conv2dNormActivation(\n",
              "          (0): Conv2d(88, 24, kernel_size=(1, 1), stride=(1, 1), bias=False)\n",
              "          (1): BatchNorm2d(24, eps=0.001, momentum=0.01, affine=True, track_running_stats=True)\n",
              "        )\n",
              "      )\n",
              "    )\n",
              "    (4): InvertedResidual(\n",
              "      (block): Sequential(\n",
              "        (0): Conv2dNormActivation(\n",
              "          (0): Conv2d(24, 96, kernel_size=(1, 1), stride=(1, 1), bias=False)\n",
              "          (1): BatchNorm2d(96, eps=0.001, momentum=0.01, affine=True, track_running_stats=True)\n",
              "          (2): Hardswish()\n",
              "        )\n",
              "        (1): Conv2dNormActivation(\n",
              "          (0): Conv2d(96, 96, kernel_size=(5, 5), stride=(2, 2), padding=(2, 2), groups=96, bias=False)\n",
              "          (1): BatchNorm2d(96, eps=0.001, momentum=0.01, affine=True, track_running_stats=True)\n",
              "          (2): Hardswish()\n",
              "        )\n",
              "        (2): SqueezeExcitation(\n",
              "          (avgpool): AdaptiveAvgPool2d(output_size=1)\n",
              "          (fc1): Conv2d(96, 24, kernel_size=(1, 1), stride=(1, 1))\n",
              "          (fc2): Conv2d(24, 96, kernel_size=(1, 1), stride=(1, 1))\n",
              "          (activation): ReLU()\n",
              "          (scale_activation): Hardsigmoid()\n",
              "        )\n",
              "        (3): Conv2dNormActivation(\n",
              "          (0): Conv2d(96, 40, kernel_size=(1, 1), stride=(1, 1), bias=False)\n",
              "          (1): BatchNorm2d(40, eps=0.001, momentum=0.01, affine=True, track_running_stats=True)\n",
              "        )\n",
              "      )\n",
              "    )\n",
              "    (5): InvertedResidual(\n",
              "      (block): Sequential(\n",
              "        (0): Conv2dNormActivation(\n",
              "          (0): Conv2d(40, 240, kernel_size=(1, 1), stride=(1, 1), bias=False)\n",
              "          (1): BatchNorm2d(240, eps=0.001, momentum=0.01, affine=True, track_running_stats=True)\n",
              "          (2): Hardswish()\n",
              "        )\n",
              "        (1): Conv2dNormActivation(\n",
              "          (0): Conv2d(240, 240, kernel_size=(5, 5), stride=(1, 1), padding=(2, 2), groups=240, bias=False)\n",
              "          (1): BatchNorm2d(240, eps=0.001, momentum=0.01, affine=True, track_running_stats=True)\n",
              "          (2): Hardswish()\n",
              "        )\n",
              "        (2): SqueezeExcitation(\n",
              "          (avgpool): AdaptiveAvgPool2d(output_size=1)\n",
              "          (fc1): Conv2d(240, 64, kernel_size=(1, 1), stride=(1, 1))\n",
              "          (fc2): Conv2d(64, 240, kernel_size=(1, 1), stride=(1, 1))\n",
              "          (activation): ReLU()\n",
              "          (scale_activation): Hardsigmoid()\n",
              "        )\n",
              "        (3): Conv2dNormActivation(\n",
              "          (0): Conv2d(240, 40, kernel_size=(1, 1), stride=(1, 1), bias=False)\n",
              "          (1): BatchNorm2d(40, eps=0.001, momentum=0.01, affine=True, track_running_stats=True)\n",
              "        )\n",
              "      )\n",
              "    )\n",
              "    (6): InvertedResidual(\n",
              "      (block): Sequential(\n",
              "        (0): Conv2dNormActivation(\n",
              "          (0): Conv2d(40, 240, kernel_size=(1, 1), stride=(1, 1), bias=False)\n",
              "          (1): BatchNorm2d(240, eps=0.001, momentum=0.01, affine=True, track_running_stats=True)\n",
              "          (2): Hardswish()\n",
              "        )\n",
              "        (1): Conv2dNormActivation(\n",
              "          (0): Conv2d(240, 240, kernel_size=(5, 5), stride=(1, 1), padding=(2, 2), groups=240, bias=False)\n",
              "          (1): BatchNorm2d(240, eps=0.001, momentum=0.01, affine=True, track_running_stats=True)\n",
              "          (2): Hardswish()\n",
              "        )\n",
              "        (2): SqueezeExcitation(\n",
              "          (avgpool): AdaptiveAvgPool2d(output_size=1)\n",
              "          (fc1): Conv2d(240, 64, kernel_size=(1, 1), stride=(1, 1))\n",
              "          (fc2): Conv2d(64, 240, kernel_size=(1, 1), stride=(1, 1))\n",
              "          (activation): ReLU()\n",
              "          (scale_activation): Hardsigmoid()\n",
              "        )\n",
              "        (3): Conv2dNormActivation(\n",
              "          (0): Conv2d(240, 40, kernel_size=(1, 1), stride=(1, 1), bias=False)\n",
              "          (1): BatchNorm2d(40, eps=0.001, momentum=0.01, affine=True, track_running_stats=True)\n",
              "        )\n",
              "      )\n",
              "    )\n",
              "    (7): InvertedResidual(\n",
              "      (block): Sequential(\n",
              "        (0): Conv2dNormActivation(\n",
              "          (0): Conv2d(40, 120, kernel_size=(1, 1), stride=(1, 1), bias=False)\n",
              "          (1): BatchNorm2d(120, eps=0.001, momentum=0.01, affine=True, track_running_stats=True)\n",
              "          (2): Hardswish()\n",
              "        )\n",
              "        (1): Conv2dNormActivation(\n",
              "          (0): Conv2d(120, 120, kernel_size=(5, 5), stride=(1, 1), padding=(2, 2), groups=120, bias=False)\n",
              "          (1): BatchNorm2d(120, eps=0.001, momentum=0.01, affine=True, track_running_stats=True)\n",
              "          (2): Hardswish()\n",
              "        )\n",
              "        (2): SqueezeExcitation(\n",
              "          (avgpool): AdaptiveAvgPool2d(output_size=1)\n",
              "          (fc1): Conv2d(120, 32, kernel_size=(1, 1), stride=(1, 1))\n",
              "          (fc2): Conv2d(32, 120, kernel_size=(1, 1), stride=(1, 1))\n",
              "          (activation): ReLU()\n",
              "          (scale_activation): Hardsigmoid()\n",
              "        )\n",
              "        (3): Conv2dNormActivation(\n",
              "          (0): Conv2d(120, 48, kernel_size=(1, 1), stride=(1, 1), bias=False)\n",
              "          (1): BatchNorm2d(48, eps=0.001, momentum=0.01, affine=True, track_running_stats=True)\n",
              "        )\n",
              "      )\n",
              "    )\n",
              "    (8): InvertedResidual(\n",
              "      (block): Sequential(\n",
              "        (0): Conv2dNormActivation(\n",
              "          (0): Conv2d(48, 144, kernel_size=(1, 1), stride=(1, 1), bias=False)\n",
              "          (1): BatchNorm2d(144, eps=0.001, momentum=0.01, affine=True, track_running_stats=True)\n",
              "          (2): Hardswish()\n",
              "        )\n",
              "        (1): Conv2dNormActivation(\n",
              "          (0): Conv2d(144, 144, kernel_size=(5, 5), stride=(1, 1), padding=(2, 2), groups=144, bias=False)\n",
              "          (1): BatchNorm2d(144, eps=0.001, momentum=0.01, affine=True, track_running_stats=True)\n",
              "          (2): Hardswish()\n",
              "        )\n",
              "        (2): SqueezeExcitation(\n",
              "          (avgpool): AdaptiveAvgPool2d(output_size=1)\n",
              "          (fc1): Conv2d(144, 40, kernel_size=(1, 1), stride=(1, 1))\n",
              "          (fc2): Conv2d(40, 144, kernel_size=(1, 1), stride=(1, 1))\n",
              "          (activation): ReLU()\n",
              "          (scale_activation): Hardsigmoid()\n",
              "        )\n",
              "        (3): Conv2dNormActivation(\n",
              "          (0): Conv2d(144, 48, kernel_size=(1, 1), stride=(1, 1), bias=False)\n",
              "          (1): BatchNorm2d(48, eps=0.001, momentum=0.01, affine=True, track_running_stats=True)\n",
              "        )\n",
              "      )\n",
              "    )\n",
              "    (9): InvertedResidual(\n",
              "      (block): Sequential(\n",
              "        (0): Conv2dNormActivation(\n",
              "          (0): Conv2d(48, 288, kernel_size=(1, 1), stride=(1, 1), bias=False)\n",
              "          (1): BatchNorm2d(288, eps=0.001, momentum=0.01, affine=True, track_running_stats=True)\n",
              "          (2): Hardswish()\n",
              "        )\n",
              "        (1): Conv2dNormActivation(\n",
              "          (0): Conv2d(288, 288, kernel_size=(5, 5), stride=(2, 2), padding=(2, 2), groups=288, bias=False)\n",
              "          (1): BatchNorm2d(288, eps=0.001, momentum=0.01, affine=True, track_running_stats=True)\n",
              "          (2): Hardswish()\n",
              "        )\n",
              "        (2): SqueezeExcitation(\n",
              "          (avgpool): AdaptiveAvgPool2d(output_size=1)\n",
              "          (fc1): Conv2d(288, 72, kernel_size=(1, 1), stride=(1, 1))\n",
              "          (fc2): Conv2d(72, 288, kernel_size=(1, 1), stride=(1, 1))\n",
              "          (activation): ReLU()\n",
              "          (scale_activation): Hardsigmoid()\n",
              "        )\n",
              "        (3): Conv2dNormActivation(\n",
              "          (0): Conv2d(288, 96, kernel_size=(1, 1), stride=(1, 1), bias=False)\n",
              "          (1): BatchNorm2d(96, eps=0.001, momentum=0.01, affine=True, track_running_stats=True)\n",
              "        )\n",
              "      )\n",
              "    )\n",
              "    (10): InvertedResidual(\n",
              "      (block): Sequential(\n",
              "        (0): Conv2dNormActivation(\n",
              "          (0): Conv2d(96, 576, kernel_size=(1, 1), stride=(1, 1), bias=False)\n",
              "          (1): BatchNorm2d(576, eps=0.001, momentum=0.01, affine=True, track_running_stats=True)\n",
              "          (2): Hardswish()\n",
              "        )\n",
              "        (1): Conv2dNormActivation(\n",
              "          (0): Conv2d(576, 576, kernel_size=(5, 5), stride=(1, 1), padding=(2, 2), groups=576, bias=False)\n",
              "          (1): BatchNorm2d(576, eps=0.001, momentum=0.01, affine=True, track_running_stats=True)\n",
              "          (2): Hardswish()\n",
              "        )\n",
              "        (2): SqueezeExcitation(\n",
              "          (avgpool): AdaptiveAvgPool2d(output_size=1)\n",
              "          (fc1): Conv2d(576, 144, kernel_size=(1, 1), stride=(1, 1))\n",
              "          (fc2): Conv2d(144, 576, kernel_size=(1, 1), stride=(1, 1))\n",
              "          (activation): ReLU()\n",
              "          (scale_activation): Hardsigmoid()\n",
              "        )\n",
              "        (3): Conv2dNormActivation(\n",
              "          (0): Conv2d(576, 96, kernel_size=(1, 1), stride=(1, 1), bias=False)\n",
              "          (1): BatchNorm2d(96, eps=0.001, momentum=0.01, affine=True, track_running_stats=True)\n",
              "        )\n",
              "      )\n",
              "    )\n",
              "    (11): InvertedResidual(\n",
              "      (block): Sequential(\n",
              "        (0): Conv2dNormActivation(\n",
              "          (0): Conv2d(96, 576, kernel_size=(1, 1), stride=(1, 1), bias=False)\n",
              "          (1): BatchNorm2d(576, eps=0.001, momentum=0.01, affine=True, track_running_stats=True)\n",
              "          (2): Hardswish()\n",
              "        )\n",
              "        (1): Conv2dNormActivation(\n",
              "          (0): Conv2d(576, 576, kernel_size=(5, 5), stride=(1, 1), padding=(2, 2), groups=576, bias=False)\n",
              "          (1): BatchNorm2d(576, eps=0.001, momentum=0.01, affine=True, track_running_stats=True)\n",
              "          (2): Hardswish()\n",
              "        )\n",
              "        (2): SqueezeExcitation(\n",
              "          (avgpool): AdaptiveAvgPool2d(output_size=1)\n",
              "          (fc1): Conv2d(576, 144, kernel_size=(1, 1), stride=(1, 1))\n",
              "          (fc2): Conv2d(144, 576, kernel_size=(1, 1), stride=(1, 1))\n",
              "          (activation): ReLU()\n",
              "          (scale_activation): Hardsigmoid()\n",
              "        )\n",
              "        (3): Conv2dNormActivation(\n",
              "          (0): Conv2d(576, 96, kernel_size=(1, 1), stride=(1, 1), bias=False)\n",
              "          (1): BatchNorm2d(96, eps=0.001, momentum=0.01, affine=True, track_running_stats=True)\n",
              "        )\n",
              "      )\n",
              "    )\n",
              "    (12): Conv2dNormActivation(\n",
              "      (0): Conv2d(96, 576, kernel_size=(1, 1), stride=(1, 1), bias=False)\n",
              "      (1): BatchNorm2d(576, eps=0.001, momentum=0.01, affine=True, track_running_stats=True)\n",
              "      (2): Hardswish()\n",
              "    )\n",
              "  )\n",
              "  (avgpool): AdaptiveAvgPool2d(output_size=1)\n",
              "  (classifier): Sequential(\n",
              "    (0): Linear(in_features=576, out_features=1024, bias=True)\n",
              "    (1): Hardswish()\n",
              "    (2): Dropout(p=0.2, inplace=True)\n",
              "    (3): Linear(in_features=1024, out_features=1000, bias=True)\n",
              "  )\n",
              ")"
            ]
          },
          "metadata": {},
          "execution_count": 180
        }
      ]
    },
    {
      "cell_type": "code",
      "source": [
        "import torch.nn as nn\n",
        "model.classifier[3] = nn.Linear(1024,2)"
      ],
      "metadata": {
        "id": "hT-RD8FdCESN"
      },
      "execution_count": 181,
      "outputs": []
    },
    {
      "cell_type": "markdown",
      "source": [
        "## Treinando a rede com os novos nós de saída"
      ],
      "metadata": {
        "id": "pNTBgzxtCidL"
      }
    },
    {
      "cell_type": "code",
      "source": [
        "import torch.nn as nn\n",
        "from torch import optim\n",
        "criterion = nn.CrossEntropyLoss()\n",
        "opt = optim.SGD(model.parameters(),lr=0.1)"
      ],
      "metadata": {
        "id": "P-uQGw0YChe7"
      },
      "execution_count": 182,
      "outputs": []
    },
    {
      "cell_type": "code",
      "source": [
        "model.to(device)"
      ],
      "metadata": {
        "colab": {
          "base_uri": "https://localhost:8080/"
        },
        "id": "MfvmriDJE5xi",
        "outputId": "84092a67-d026-4193-d806-4418c69d6ecc"
      },
      "execution_count": 184,
      "outputs": [
        {
          "output_type": "execute_result",
          "data": {
            "text/plain": [
              "MobileNetV3(\n",
              "  (features): Sequential(\n",
              "    (0): Conv2dNormActivation(\n",
              "      (0): Conv2d(3, 16, kernel_size=(3, 3), stride=(2, 2), padding=(1, 1), bias=False)\n",
              "      (1): BatchNorm2d(16, eps=0.001, momentum=0.01, affine=True, track_running_stats=True)\n",
              "      (2): Hardswish()\n",
              "    )\n",
              "    (1): InvertedResidual(\n",
              "      (block): Sequential(\n",
              "        (0): Conv2dNormActivation(\n",
              "          (0): Conv2d(16, 16, kernel_size=(3, 3), stride=(2, 2), padding=(1, 1), groups=16, bias=False)\n",
              "          (1): BatchNorm2d(16, eps=0.001, momentum=0.01, affine=True, track_running_stats=True)\n",
              "          (2): ReLU(inplace=True)\n",
              "        )\n",
              "        (1): SqueezeExcitation(\n",
              "          (avgpool): AdaptiveAvgPool2d(output_size=1)\n",
              "          (fc1): Conv2d(16, 8, kernel_size=(1, 1), stride=(1, 1))\n",
              "          (fc2): Conv2d(8, 16, kernel_size=(1, 1), stride=(1, 1))\n",
              "          (activation): ReLU()\n",
              "          (scale_activation): Hardsigmoid()\n",
              "        )\n",
              "        (2): Conv2dNormActivation(\n",
              "          (0): Conv2d(16, 16, kernel_size=(1, 1), stride=(1, 1), bias=False)\n",
              "          (1): BatchNorm2d(16, eps=0.001, momentum=0.01, affine=True, track_running_stats=True)\n",
              "        )\n",
              "      )\n",
              "    )\n",
              "    (2): InvertedResidual(\n",
              "      (block): Sequential(\n",
              "        (0): Conv2dNormActivation(\n",
              "          (0): Conv2d(16, 72, kernel_size=(1, 1), stride=(1, 1), bias=False)\n",
              "          (1): BatchNorm2d(72, eps=0.001, momentum=0.01, affine=True, track_running_stats=True)\n",
              "          (2): ReLU(inplace=True)\n",
              "        )\n",
              "        (1): Conv2dNormActivation(\n",
              "          (0): Conv2d(72, 72, kernel_size=(3, 3), stride=(2, 2), padding=(1, 1), groups=72, bias=False)\n",
              "          (1): BatchNorm2d(72, eps=0.001, momentum=0.01, affine=True, track_running_stats=True)\n",
              "          (2): ReLU(inplace=True)\n",
              "        )\n",
              "        (2): Conv2dNormActivation(\n",
              "          (0): Conv2d(72, 24, kernel_size=(1, 1), stride=(1, 1), bias=False)\n",
              "          (1): BatchNorm2d(24, eps=0.001, momentum=0.01, affine=True, track_running_stats=True)\n",
              "        )\n",
              "      )\n",
              "    )\n",
              "    (3): InvertedResidual(\n",
              "      (block): Sequential(\n",
              "        (0): Conv2dNormActivation(\n",
              "          (0): Conv2d(24, 88, kernel_size=(1, 1), stride=(1, 1), bias=False)\n",
              "          (1): BatchNorm2d(88, eps=0.001, momentum=0.01, affine=True, track_running_stats=True)\n",
              "          (2): ReLU(inplace=True)\n",
              "        )\n",
              "        (1): Conv2dNormActivation(\n",
              "          (0): Conv2d(88, 88, kernel_size=(3, 3), stride=(1, 1), padding=(1, 1), groups=88, bias=False)\n",
              "          (1): BatchNorm2d(88, eps=0.001, momentum=0.01, affine=True, track_running_stats=True)\n",
              "          (2): ReLU(inplace=True)\n",
              "        )\n",
              "        (2): Conv2dNormActivation(\n",
              "          (0): Conv2d(88, 24, kernel_size=(1, 1), stride=(1, 1), bias=False)\n",
              "          (1): BatchNorm2d(24, eps=0.001, momentum=0.01, affine=True, track_running_stats=True)\n",
              "        )\n",
              "      )\n",
              "    )\n",
              "    (4): InvertedResidual(\n",
              "      (block): Sequential(\n",
              "        (0): Conv2dNormActivation(\n",
              "          (0): Conv2d(24, 96, kernel_size=(1, 1), stride=(1, 1), bias=False)\n",
              "          (1): BatchNorm2d(96, eps=0.001, momentum=0.01, affine=True, track_running_stats=True)\n",
              "          (2): Hardswish()\n",
              "        )\n",
              "        (1): Conv2dNormActivation(\n",
              "          (0): Conv2d(96, 96, kernel_size=(5, 5), stride=(2, 2), padding=(2, 2), groups=96, bias=False)\n",
              "          (1): BatchNorm2d(96, eps=0.001, momentum=0.01, affine=True, track_running_stats=True)\n",
              "          (2): Hardswish()\n",
              "        )\n",
              "        (2): SqueezeExcitation(\n",
              "          (avgpool): AdaptiveAvgPool2d(output_size=1)\n",
              "          (fc1): Conv2d(96, 24, kernel_size=(1, 1), stride=(1, 1))\n",
              "          (fc2): Conv2d(24, 96, kernel_size=(1, 1), stride=(1, 1))\n",
              "          (activation): ReLU()\n",
              "          (scale_activation): Hardsigmoid()\n",
              "        )\n",
              "        (3): Conv2dNormActivation(\n",
              "          (0): Conv2d(96, 40, kernel_size=(1, 1), stride=(1, 1), bias=False)\n",
              "          (1): BatchNorm2d(40, eps=0.001, momentum=0.01, affine=True, track_running_stats=True)\n",
              "        )\n",
              "      )\n",
              "    )\n",
              "    (5): InvertedResidual(\n",
              "      (block): Sequential(\n",
              "        (0): Conv2dNormActivation(\n",
              "          (0): Conv2d(40, 240, kernel_size=(1, 1), stride=(1, 1), bias=False)\n",
              "          (1): BatchNorm2d(240, eps=0.001, momentum=0.01, affine=True, track_running_stats=True)\n",
              "          (2): Hardswish()\n",
              "        )\n",
              "        (1): Conv2dNormActivation(\n",
              "          (0): Conv2d(240, 240, kernel_size=(5, 5), stride=(1, 1), padding=(2, 2), groups=240, bias=False)\n",
              "          (1): BatchNorm2d(240, eps=0.001, momentum=0.01, affine=True, track_running_stats=True)\n",
              "          (2): Hardswish()\n",
              "        )\n",
              "        (2): SqueezeExcitation(\n",
              "          (avgpool): AdaptiveAvgPool2d(output_size=1)\n",
              "          (fc1): Conv2d(240, 64, kernel_size=(1, 1), stride=(1, 1))\n",
              "          (fc2): Conv2d(64, 240, kernel_size=(1, 1), stride=(1, 1))\n",
              "          (activation): ReLU()\n",
              "          (scale_activation): Hardsigmoid()\n",
              "        )\n",
              "        (3): Conv2dNormActivation(\n",
              "          (0): Conv2d(240, 40, kernel_size=(1, 1), stride=(1, 1), bias=False)\n",
              "          (1): BatchNorm2d(40, eps=0.001, momentum=0.01, affine=True, track_running_stats=True)\n",
              "        )\n",
              "      )\n",
              "    )\n",
              "    (6): InvertedResidual(\n",
              "      (block): Sequential(\n",
              "        (0): Conv2dNormActivation(\n",
              "          (0): Conv2d(40, 240, kernel_size=(1, 1), stride=(1, 1), bias=False)\n",
              "          (1): BatchNorm2d(240, eps=0.001, momentum=0.01, affine=True, track_running_stats=True)\n",
              "          (2): Hardswish()\n",
              "        )\n",
              "        (1): Conv2dNormActivation(\n",
              "          (0): Conv2d(240, 240, kernel_size=(5, 5), stride=(1, 1), padding=(2, 2), groups=240, bias=False)\n",
              "          (1): BatchNorm2d(240, eps=0.001, momentum=0.01, affine=True, track_running_stats=True)\n",
              "          (2): Hardswish()\n",
              "        )\n",
              "        (2): SqueezeExcitation(\n",
              "          (avgpool): AdaptiveAvgPool2d(output_size=1)\n",
              "          (fc1): Conv2d(240, 64, kernel_size=(1, 1), stride=(1, 1))\n",
              "          (fc2): Conv2d(64, 240, kernel_size=(1, 1), stride=(1, 1))\n",
              "          (activation): ReLU()\n",
              "          (scale_activation): Hardsigmoid()\n",
              "        )\n",
              "        (3): Conv2dNormActivation(\n",
              "          (0): Conv2d(240, 40, kernel_size=(1, 1), stride=(1, 1), bias=False)\n",
              "          (1): BatchNorm2d(40, eps=0.001, momentum=0.01, affine=True, track_running_stats=True)\n",
              "        )\n",
              "      )\n",
              "    )\n",
              "    (7): InvertedResidual(\n",
              "      (block): Sequential(\n",
              "        (0): Conv2dNormActivation(\n",
              "          (0): Conv2d(40, 120, kernel_size=(1, 1), stride=(1, 1), bias=False)\n",
              "          (1): BatchNorm2d(120, eps=0.001, momentum=0.01, affine=True, track_running_stats=True)\n",
              "          (2): Hardswish()\n",
              "        )\n",
              "        (1): Conv2dNormActivation(\n",
              "          (0): Conv2d(120, 120, kernel_size=(5, 5), stride=(1, 1), padding=(2, 2), groups=120, bias=False)\n",
              "          (1): BatchNorm2d(120, eps=0.001, momentum=0.01, affine=True, track_running_stats=True)\n",
              "          (2): Hardswish()\n",
              "        )\n",
              "        (2): SqueezeExcitation(\n",
              "          (avgpool): AdaptiveAvgPool2d(output_size=1)\n",
              "          (fc1): Conv2d(120, 32, kernel_size=(1, 1), stride=(1, 1))\n",
              "          (fc2): Conv2d(32, 120, kernel_size=(1, 1), stride=(1, 1))\n",
              "          (activation): ReLU()\n",
              "          (scale_activation): Hardsigmoid()\n",
              "        )\n",
              "        (3): Conv2dNormActivation(\n",
              "          (0): Conv2d(120, 48, kernel_size=(1, 1), stride=(1, 1), bias=False)\n",
              "          (1): BatchNorm2d(48, eps=0.001, momentum=0.01, affine=True, track_running_stats=True)\n",
              "        )\n",
              "      )\n",
              "    )\n",
              "    (8): InvertedResidual(\n",
              "      (block): Sequential(\n",
              "        (0): Conv2dNormActivation(\n",
              "          (0): Conv2d(48, 144, kernel_size=(1, 1), stride=(1, 1), bias=False)\n",
              "          (1): BatchNorm2d(144, eps=0.001, momentum=0.01, affine=True, track_running_stats=True)\n",
              "          (2): Hardswish()\n",
              "        )\n",
              "        (1): Conv2dNormActivation(\n",
              "          (0): Conv2d(144, 144, kernel_size=(5, 5), stride=(1, 1), padding=(2, 2), groups=144, bias=False)\n",
              "          (1): BatchNorm2d(144, eps=0.001, momentum=0.01, affine=True, track_running_stats=True)\n",
              "          (2): Hardswish()\n",
              "        )\n",
              "        (2): SqueezeExcitation(\n",
              "          (avgpool): AdaptiveAvgPool2d(output_size=1)\n",
              "          (fc1): Conv2d(144, 40, kernel_size=(1, 1), stride=(1, 1))\n",
              "          (fc2): Conv2d(40, 144, kernel_size=(1, 1), stride=(1, 1))\n",
              "          (activation): ReLU()\n",
              "          (scale_activation): Hardsigmoid()\n",
              "        )\n",
              "        (3): Conv2dNormActivation(\n",
              "          (0): Conv2d(144, 48, kernel_size=(1, 1), stride=(1, 1), bias=False)\n",
              "          (1): BatchNorm2d(48, eps=0.001, momentum=0.01, affine=True, track_running_stats=True)\n",
              "        )\n",
              "      )\n",
              "    )\n",
              "    (9): InvertedResidual(\n",
              "      (block): Sequential(\n",
              "        (0): Conv2dNormActivation(\n",
              "          (0): Conv2d(48, 288, kernel_size=(1, 1), stride=(1, 1), bias=False)\n",
              "          (1): BatchNorm2d(288, eps=0.001, momentum=0.01, affine=True, track_running_stats=True)\n",
              "          (2): Hardswish()\n",
              "        )\n",
              "        (1): Conv2dNormActivation(\n",
              "          (0): Conv2d(288, 288, kernel_size=(5, 5), stride=(2, 2), padding=(2, 2), groups=288, bias=False)\n",
              "          (1): BatchNorm2d(288, eps=0.001, momentum=0.01, affine=True, track_running_stats=True)\n",
              "          (2): Hardswish()\n",
              "        )\n",
              "        (2): SqueezeExcitation(\n",
              "          (avgpool): AdaptiveAvgPool2d(output_size=1)\n",
              "          (fc1): Conv2d(288, 72, kernel_size=(1, 1), stride=(1, 1))\n",
              "          (fc2): Conv2d(72, 288, kernel_size=(1, 1), stride=(1, 1))\n",
              "          (activation): ReLU()\n",
              "          (scale_activation): Hardsigmoid()\n",
              "        )\n",
              "        (3): Conv2dNormActivation(\n",
              "          (0): Conv2d(288, 96, kernel_size=(1, 1), stride=(1, 1), bias=False)\n",
              "          (1): BatchNorm2d(96, eps=0.001, momentum=0.01, affine=True, track_running_stats=True)\n",
              "        )\n",
              "      )\n",
              "    )\n",
              "    (10): InvertedResidual(\n",
              "      (block): Sequential(\n",
              "        (0): Conv2dNormActivation(\n",
              "          (0): Conv2d(96, 576, kernel_size=(1, 1), stride=(1, 1), bias=False)\n",
              "          (1): BatchNorm2d(576, eps=0.001, momentum=0.01, affine=True, track_running_stats=True)\n",
              "          (2): Hardswish()\n",
              "        )\n",
              "        (1): Conv2dNormActivation(\n",
              "          (0): Conv2d(576, 576, kernel_size=(5, 5), stride=(1, 1), padding=(2, 2), groups=576, bias=False)\n",
              "          (1): BatchNorm2d(576, eps=0.001, momentum=0.01, affine=True, track_running_stats=True)\n",
              "          (2): Hardswish()\n",
              "        )\n",
              "        (2): SqueezeExcitation(\n",
              "          (avgpool): AdaptiveAvgPool2d(output_size=1)\n",
              "          (fc1): Conv2d(576, 144, kernel_size=(1, 1), stride=(1, 1))\n",
              "          (fc2): Conv2d(144, 576, kernel_size=(1, 1), stride=(1, 1))\n",
              "          (activation): ReLU()\n",
              "          (scale_activation): Hardsigmoid()\n",
              "        )\n",
              "        (3): Conv2dNormActivation(\n",
              "          (0): Conv2d(576, 96, kernel_size=(1, 1), stride=(1, 1), bias=False)\n",
              "          (1): BatchNorm2d(96, eps=0.001, momentum=0.01, affine=True, track_running_stats=True)\n",
              "        )\n",
              "      )\n",
              "    )\n",
              "    (11): InvertedResidual(\n",
              "      (block): Sequential(\n",
              "        (0): Conv2dNormActivation(\n",
              "          (0): Conv2d(96, 576, kernel_size=(1, 1), stride=(1, 1), bias=False)\n",
              "          (1): BatchNorm2d(576, eps=0.001, momentum=0.01, affine=True, track_running_stats=True)\n",
              "          (2): Hardswish()\n",
              "        )\n",
              "        (1): Conv2dNormActivation(\n",
              "          (0): Conv2d(576, 576, kernel_size=(5, 5), stride=(1, 1), padding=(2, 2), groups=576, bias=False)\n",
              "          (1): BatchNorm2d(576, eps=0.001, momentum=0.01, affine=True, track_running_stats=True)\n",
              "          (2): Hardswish()\n",
              "        )\n",
              "        (2): SqueezeExcitation(\n",
              "          (avgpool): AdaptiveAvgPool2d(output_size=1)\n",
              "          (fc1): Conv2d(576, 144, kernel_size=(1, 1), stride=(1, 1))\n",
              "          (fc2): Conv2d(144, 576, kernel_size=(1, 1), stride=(1, 1))\n",
              "          (activation): ReLU()\n",
              "          (scale_activation): Hardsigmoid()\n",
              "        )\n",
              "        (3): Conv2dNormActivation(\n",
              "          (0): Conv2d(576, 96, kernel_size=(1, 1), stride=(1, 1), bias=False)\n",
              "          (1): BatchNorm2d(96, eps=0.001, momentum=0.01, affine=True, track_running_stats=True)\n",
              "        )\n",
              "      )\n",
              "    )\n",
              "    (12): Conv2dNormActivation(\n",
              "      (0): Conv2d(96, 576, kernel_size=(1, 1), stride=(1, 1), bias=False)\n",
              "      (1): BatchNorm2d(576, eps=0.001, momentum=0.01, affine=True, track_running_stats=True)\n",
              "      (2): Hardswish()\n",
              "    )\n",
              "  )\n",
              "  (avgpool): AdaptiveAvgPool2d(output_size=1)\n",
              "  (classifier): Sequential(\n",
              "    (0): Linear(in_features=576, out_features=1024, bias=True)\n",
              "    (1): Hardswish()\n",
              "    (2): Dropout(p=0.2, inplace=True)\n",
              "    (3): Linear(in_features=1024, out_features=2, bias=True)\n",
              "  )\n",
              ")"
            ]
          },
          "metadata": {},
          "execution_count": 184
        }
      ]
    },
    {
      "cell_type": "code",
      "source": [
        "loss_train = []\n",
        "loss_eval  = []\n",
        "patience_time = 15\n",
        "epochs = 100\n",
        "\n",
        "stop = False\n",
        "epoch = 0\n",
        "lowest_loss_eval = 10000\n",
        "last_best_result = 0\n",
        "while (not stop):\n",
        "    #wandb.watch(model)\n",
        "    model.train()\n",
        "    lloss = []\n",
        "    for x,y in dl_train:\n",
        "        x = x.to(device)\n",
        "        y = y.to(device)\n",
        "        pred = model(x)\n",
        "        closs = criterion(pred,y)\n",
        "        closs.backward()\n",
        "        opt.step()\n",
        "        opt.zero_grad()\n",
        "        lloss.append(closs.item())\n",
        "        #print(closs.item())\n",
        "    loss_train.append(np.mean(lloss))\n",
        "    lloss = []\n",
        "    model.eval()\n",
        "    lres = []\n",
        "    ytrue = []\n",
        "    with torch.no_grad():\n",
        "        for data,y in dl_valid:\n",
        "            data = data.to(device)\n",
        "\n",
        "            pred = model(data)\n",
        "            closs = criterion(pred.cpu(),y)\n",
        "            lloss.append(closs.item())\n",
        "            res  = pred.argmax(dim=1).cpu().tolist()\n",
        "            lres += res\n",
        "            ytrue += y\n",
        "    avg_loss_eval = np.mean(lloss)\n",
        "    loss_eval.append(avg_loss_eval)\n",
        "    #wandb.log({\"loss_eval\": avg_loss_eval,\"loss_train\":loss_train[-1]})\n",
        "    if avg_loss_eval < lowest_loss_eval:\n",
        "        lowest_loss_eval = avg_loss_eval\n",
        "        last_best_result = 0\n",
        "        print(\"Best model found! saving...\")\n",
        "        actual_state = {'optim':opt.state_dict(),'model':model.state_dict(),'epoch':epoch,'loss_train':loss_train,'loss_eval':loss_eval}\n",
        "        torch.save(actual_state,'best_model.pth')\n",
        "    last_best_result += 1\n",
        "    if last_best_result > patience_time:\n",
        "        stop = True\n",
        "    print(\"epoch %d loss_train %4.3f loss_eval %4.3f last_best %d\"%(epoch,loss_train[-1],loss_eval[-1],last_best_result))\n",
        "    epoch += 1"
      ],
      "metadata": {
        "colab": {
          "base_uri": "https://localhost:8080/"
        },
        "id": "wr13vGbfC3Wt",
        "outputId": "6d649691-8727-40ab-bc9c-5bfdf846a523"
      },
      "execution_count": 185,
      "outputs": [
        {
          "output_type": "stream",
          "name": "stdout",
          "text": [
            "Best model found! saving...\n",
            "epoch 0 loss_train 0.288 loss_eval 0.082 last_best 1\n",
            "epoch 1 loss_train 0.045 loss_eval 0.089 last_best 2\n",
            "Best model found! saving...\n",
            "epoch 2 loss_train 0.023 loss_eval 0.061 last_best 1\n",
            "Best model found! saving...\n",
            "epoch 3 loss_train 0.011 loss_eval 0.060 last_best 1\n",
            "Best model found! saving...\n",
            "epoch 4 loss_train 0.008 loss_eval 0.046 last_best 1\n",
            "epoch 5 loss_train 0.007 loss_eval 0.065 last_best 2\n",
            "epoch 6 loss_train 0.009 loss_eval 0.064 last_best 3\n",
            "Best model found! saving...\n",
            "epoch 7 loss_train 0.031 loss_eval 0.041 last_best 1\n",
            "Best model found! saving...\n",
            "epoch 8 loss_train 0.008 loss_eval 0.029 last_best 1\n",
            "epoch 9 loss_train 0.005 loss_eval 0.037 last_best 2\n",
            "epoch 10 loss_train 0.003 loss_eval 0.039 last_best 3\n",
            "epoch 11 loss_train 0.005 loss_eval 0.033 last_best 4\n",
            "epoch 12 loss_train 0.002 loss_eval 0.030 last_best 5\n",
            "epoch 13 loss_train 0.002 loss_eval 0.031 last_best 6\n",
            "epoch 14 loss_train 0.003 loss_eval 0.035 last_best 7\n",
            "Best model found! saving...\n",
            "epoch 15 loss_train 0.001 loss_eval 0.028 last_best 1\n",
            "epoch 16 loss_train 0.005 loss_eval 0.050 last_best 2\n",
            "epoch 17 loss_train 0.001 loss_eval 0.042 last_best 3\n",
            "epoch 18 loss_train 0.001 loss_eval 0.038 last_best 4\n",
            "epoch 19 loss_train 0.001 loss_eval 0.041 last_best 5\n",
            "epoch 20 loss_train 0.001 loss_eval 0.039 last_best 6\n",
            "epoch 21 loss_train 0.001 loss_eval 0.034 last_best 7\n",
            "Best model found! saving...\n",
            "epoch 22 loss_train 0.000 loss_eval 0.028 last_best 1\n",
            "Best model found! saving...\n",
            "epoch 23 loss_train 0.001 loss_eval 0.025 last_best 1\n",
            "Best model found! saving...\n",
            "epoch 24 loss_train 0.001 loss_eval 0.025 last_best 1\n",
            "epoch 25 loss_train 0.001 loss_eval 0.026 last_best 2\n",
            "epoch 26 loss_train 0.001 loss_eval 0.025 last_best 3\n",
            "Best model found! saving...\n",
            "epoch 27 loss_train 0.001 loss_eval 0.022 last_best 1\n",
            "Best model found! saving...\n",
            "epoch 28 loss_train 0.001 loss_eval 0.020 last_best 1\n",
            "epoch 29 loss_train 0.001 loss_eval 0.021 last_best 2\n",
            "Best model found! saving...\n",
            "epoch 30 loss_train 0.000 loss_eval 0.019 last_best 1\n",
            "epoch 31 loss_train 0.001 loss_eval 0.020 last_best 2\n",
            "epoch 32 loss_train 0.002 loss_eval 0.029 last_best 3\n",
            "epoch 33 loss_train 0.002 loss_eval 0.025 last_best 4\n",
            "epoch 34 loss_train 0.000 loss_eval 0.022 last_best 5\n",
            "epoch 35 loss_train 0.000 loss_eval 0.022 last_best 6\n",
            "Best model found! saving...\n",
            "epoch 36 loss_train 0.001 loss_eval 0.018 last_best 1\n",
            "Best model found! saving...\n",
            "epoch 37 loss_train 0.000 loss_eval 0.018 last_best 1\n",
            "Best model found! saving...\n",
            "epoch 38 loss_train 0.000 loss_eval 0.018 last_best 1\n",
            "Best model found! saving...\n",
            "epoch 39 loss_train 0.001 loss_eval 0.016 last_best 1\n",
            "epoch 40 loss_train 0.000 loss_eval 0.017 last_best 2\n",
            "epoch 41 loss_train 0.002 loss_eval 0.016 last_best 3\n",
            "Best model found! saving...\n",
            "epoch 42 loss_train 0.000 loss_eval 0.015 last_best 1\n",
            "epoch 43 loss_train 0.001 loss_eval 0.015 last_best 2\n",
            "Best model found! saving...\n",
            "epoch 44 loss_train 0.000 loss_eval 0.014 last_best 1\n",
            "Best model found! saving...\n",
            "epoch 45 loss_train 0.000 loss_eval 0.013 last_best 1\n",
            "epoch 46 loss_train 0.001 loss_eval 0.016 last_best 2\n",
            "epoch 47 loss_train 0.000 loss_eval 0.017 last_best 3\n",
            "epoch 48 loss_train 0.001 loss_eval 0.017 last_best 4\n",
            "epoch 49 loss_train 0.000 loss_eval 0.016 last_best 5\n",
            "epoch 50 loss_train 0.000 loss_eval 0.014 last_best 6\n",
            "Best model found! saving...\n",
            "epoch 51 loss_train 0.002 loss_eval 0.011 last_best 1\n",
            "epoch 52 loss_train 0.000 loss_eval 0.012 last_best 2\n",
            "Best model found! saving...\n",
            "epoch 53 loss_train 0.001 loss_eval 0.010 last_best 1\n",
            "epoch 54 loss_train 0.000 loss_eval 0.010 last_best 2\n",
            "epoch 55 loss_train 0.000 loss_eval 0.010 last_best 3\n",
            "Best model found! saving...\n",
            "epoch 56 loss_train 0.000 loss_eval 0.010 last_best 1\n",
            "Best model found! saving...\n",
            "epoch 57 loss_train 0.001 loss_eval 0.008 last_best 1\n",
            "Best model found! saving...\n",
            "epoch 58 loss_train 0.003 loss_eval 0.008 last_best 1\n",
            "Best model found! saving...\n",
            "epoch 59 loss_train 0.001 loss_eval 0.007 last_best 1\n",
            "Best model found! saving...\n",
            "epoch 60 loss_train 0.000 loss_eval 0.007 last_best 1\n",
            "Best model found! saving...\n",
            "epoch 61 loss_train 0.001 loss_eval 0.007 last_best 1\n",
            "epoch 62 loss_train 0.000 loss_eval 0.007 last_best 2\n",
            "epoch 63 loss_train 0.006 loss_eval 0.163 last_best 3\n",
            "epoch 64 loss_train 0.001 loss_eval 0.157 last_best 4\n",
            "epoch 65 loss_train 0.009 loss_eval 0.192 last_best 5\n",
            "epoch 66 loss_train 0.001 loss_eval 0.117 last_best 6\n",
            "epoch 67 loss_train 0.004 loss_eval 0.010 last_best 7\n",
            "epoch 68 loss_train 0.000 loss_eval 0.009 last_best 8\n",
            "epoch 69 loss_train 0.000 loss_eval 0.008 last_best 9\n",
            "epoch 70 loss_train 0.001 loss_eval 0.007 last_best 10\n",
            "epoch 71 loss_train 0.001 loss_eval 0.007 last_best 11\n",
            "epoch 72 loss_train 0.001 loss_eval 0.007 last_best 12\n",
            "epoch 73 loss_train 0.002 loss_eval 0.021 last_best 13\n",
            "epoch 74 loss_train 0.000 loss_eval 0.019 last_best 14\n",
            "epoch 75 loss_train 0.000 loss_eval 0.020 last_best 15\n",
            "epoch 76 loss_train 0.000 loss_eval 0.015 last_best 16\n"
          ]
        }
      ]
    },
    {
      "cell_type": "code",
      "source": [
        "import matplotlib.pyplot as plt\n",
        "\n",
        "\n",
        "fig = plt.figure()\n",
        "plt.plot(loss_train[1:])\n",
        "plt.plot(loss_eval[1:])\n",
        "plt.xlabel('Epochs')\n",
        "plt.show()"
      ],
      "metadata": {
        "colab": {
          "base_uri": "https://localhost:8080/",
          "height": 452
        },
        "id": "6hgT_nKJDPHj",
        "outputId": "438777a1-8c60-403f-c410-0e1d85136ab2"
      },
      "execution_count": 186,
      "outputs": [
        {
          "output_type": "display_data",
          "data": {
            "text/plain": [
              "<Figure size 640x480 with 1 Axes>"
            ],
            "image/png": "[encoded data removed]"
          },
          "metadata": {}
        }
      ]
    },
    {
      "cell_type": "code",
      "source": [
        "img = image_loader(\"/content/sample_data/dataset/arara/14115783680_86010ce79c_m.jpg\")"
      ],
      "metadata": {
        "id": "gXwMMzINGCM5"
      },
      "execution_count": 188,
      "outputs": []
    },
    {
      "cell_type": "code",
      "source": [
        "img"
      ],
      "metadata": {
        "colab": {
          "base_uri": "https://localhost:8080/",
          "height": 177
        },
        "id": "TTJHz-vGGcas",
        "outputId": "81135e38-c8e1-4e72-a08d-fe1021958c38"
      },
      "execution_count": 189,
      "outputs": [
        {
          "output_type": "execute_result",
          "data": {
            "text/plain": [
              "<PIL.Image.Image image mode=RGB size=240x160>"
            ],
            "image/png": "[encoded data removed]"
          },
          "metadata": {},
          "execution_count": 189
        }
      ]
    },
    {
      "cell_type": "code",
      "source": [
        "x = transform(img)\n",
        "x = x.view(1,3,227,227)\n",
        "\n",
        "x = x.to(device)\n",
        "model.eval()\n",
        "pred = model(x).squeeze(0).softmax(0)"
      ],
      "metadata": {
        "id": "2B1JQ0ZFG2aX"
      },
      "execution_count": 194,
      "outputs": []
    },
    {
      "cell_type": "code",
      "source": [
        "label = [\"Arara\",\"Tucano\"]"
      ],
      "metadata": {
        "id": "Vt_95VHcHBL_"
      },
      "execution_count": 205,
      "outputs": []
    },
    {
      "cell_type": "code",
      "source": [
        "predict_label = label[pred.argmax().item()]\n",
        "predict_label"
      ],
      "metadata": {
        "colab": {
          "base_uri": "https://localhost:8080/",
          "height": 36
        },
        "id": "CwOlAMwEIRe_",
        "outputId": "115211ec-336a-432c-b93e-f3a715c8106a"
      },
      "execution_count": 206,
      "outputs": [
        {
          "output_type": "execute_result",
          "data": {
            "text/plain": [
              "'Arara'"
            ],
            "application/vnd.google.colaboratory.intrinsic+json": {
              "type": "string"
            }
          },
          "metadata": {},
          "execution_count": 206
        }
      ]
    },
    {
      "cell_type": "markdown",
      "source": [
        "### Exemplo nunca visto"
      ],
      "metadata": {
        "id": "HYXFuGKELugt"
      }
    },
    {
      "cell_type": "code",
      "source": [
        "img = image_loader(\"/content/arara_teste.jpg\")"
      ],
      "metadata": {
        "id": "zpaiouaULxi8"
      },
      "execution_count": 207,
      "outputs": []
    },
    {
      "cell_type": "code",
      "source": [
        "img"
      ],
      "metadata": {
        "colab": {
          "base_uri": "https://localhost:8080/",
          "height": 190
        },
        "id": "xZ8UekxuL2Rs",
        "outputId": "3af77df0-da81-4ed0-e425-2ae606ca1139"
      },
      "execution_count": 208,
      "outputs": [
        {
          "output_type": "execute_result",
          "data": {
            "text/plain": [
              "<PIL.Image.Image image mode=RGB size=292x173>"
            ],
            "image/png": "[encoded data removed]"
          },
          "metadata": {},
          "execution_count": 208
        }
      ]
    },
    {
      "cell_type": "code",
      "source": [
        "x = transform(img)\n",
        "x = x.view(1,3,227,227)\n",
        "\n",
        "x = x.to(device)\n",
        "model.eval()\n",
        "pred = model(x).squeeze(0).softmax(0)\n",
        "pred"
      ],
      "metadata": {
        "colab": {
          "base_uri": "https://localhost:8080/"
        },
        "id": "aG8l2HxBL5BU",
        "outputId": "8108f22f-a27e-4890-c17c-b41b4153830f"
      },
      "execution_count": 211,
      "outputs": [
        {
          "output_type": "execute_result",
          "data": {
            "text/plain": [
              "tensor([0.8220, 0.1780], device='cuda:0', grad_fn=<SoftmaxBackward0>)"
            ]
          },
          "metadata": {},
          "execution_count": 211
        }
      ]
    },
    {
      "cell_type": "code",
      "source": [
        "predict_label = label[pred.argmax().item()]\n",
        "predict_label"
      ],
      "metadata": {
        "colab": {
          "base_uri": "https://localhost:8080/",
          "height": 36
        },
        "id": "e3wNfQFcL7Xs",
        "outputId": "2a581c24-0c97-4462-db32-0c1354600cfd"
      },
      "execution_count": 210,
      "outputs": [
        {
          "output_type": "execute_result",
          "data": {
            "text/plain": [
              "'Arara'"
            ],
            "application/vnd.google.colaboratory.intrinsic+json": {
              "type": "string"
            }
          },
          "metadata": {},
          "execution_count": 210
        }
      ]
    }
  ]
}